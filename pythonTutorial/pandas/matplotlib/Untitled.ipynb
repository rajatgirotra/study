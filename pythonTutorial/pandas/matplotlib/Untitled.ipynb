{
 "cells": [
  {
   "cell_type": "code",
   "execution_count": 1,
   "metadata": {
    "collapsed": true
   },
   "outputs": [],
   "source": [
    "import matplotlib as mpl"
   ]
  },
  {
   "cell_type": "code",
   "execution_count": 2,
   "metadata": {
    "collapsed": false
   },
   "outputs": [
    {
     "data": {
      "text/plain": [
       "u'/home/rajatgirotra/tools/miniconda2/envs/shriram/lib/python2.7/site-packages/matplotlib/mpl-data/matplotlibrc'"
      ]
     },
     "execution_count": 2,
     "metadata": {},
     "output_type": "execute_result"
    }
   ],
   "source": [
    "mpl.matplotlib_fname()"
   ]
  },
  {
   "cell_type": "code",
   "execution_count": 3,
   "metadata": {
    "collapsed": false
   },
   "outputs": [
    {
     "data": {
      "text/plain": [
       "RcParams({u'agg.path.chunksize': 0,\n",
       "          u'animation.avconv_args': [],\n",
       "          u'animation.avconv_path': u'avconv',\n",
       "          u'animation.bitrate': -1,\n",
       "          u'animation.codec': u'mpeg4',\n",
       "          u'animation.convert_args': [],\n",
       "          u'animation.convert_path': u'convert',\n",
       "          u'animation.ffmpeg_args': [],\n",
       "          u'animation.ffmpeg_path': u'ffmpeg',\n",
       "          u'animation.frame_format': u'png',\n",
       "          u'animation.html': u'none',\n",
       "          u'animation.mencoder_args': [],\n",
       "          u'animation.mencoder_path': u'mencoder',\n",
       "          u'animation.writer': u'ffmpeg',\n",
       "          u'axes.axisbelow': False,\n",
       "          u'axes.edgecolor': u'k',\n",
       "          u'axes.facecolor': u'w',\n",
       "          u'axes.formatter.limits': [-7, 7],\n",
       "          u'axes.formatter.use_locale': False,\n",
       "          u'axes.formatter.use_mathtext': False,\n",
       "          u'axes.formatter.useoffset': True,\n",
       "          u'axes.grid': False,\n",
       "          u'axes.grid.axis': u'both',\n",
       "          u'axes.grid.which': u'major',\n",
       "          u'axes.hold': True,\n",
       "          u'axes.labelcolor': u'k',\n",
       "          u'axes.labelpad': 5.0,\n",
       "          u'axes.labelsize': u'medium',\n",
       "          u'axes.labelweight': u'normal',\n",
       "          u'axes.linewidth': 1.0,\n",
       "          u'axes.prop_cycle': cycler(u'color', [u'b', u'g', u'r', u'c', u'm', u'y', u'k']),\n",
       "          u'axes.spines.bottom': True,\n",
       "          u'axes.spines.left': True,\n",
       "          u'axes.spines.right': True,\n",
       "          u'axes.spines.top': True,\n",
       "          u'axes.titlesize': u'large',\n",
       "          u'axes.titleweight': u'normal',\n",
       "          u'axes.unicode_minus': True,\n",
       "          u'axes.xmargin': 0.0,\n",
       "          u'axes.ymargin': 0.0,\n",
       "          u'axes3d.grid': True,\n",
       "          u'backend': 'module://ipykernel.pylab.backend_inline',\n",
       "          u'backend.qt4': u'PyQt4',\n",
       "          u'backend.qt5': u'PyQt5',\n",
       "          u'backend_fallback': True,\n",
       "          u'boxplot.bootstrap': None,\n",
       "          u'boxplot.boxprops.color': u'b',\n",
       "          u'boxplot.boxprops.linestyle': u'-',\n",
       "          u'boxplot.boxprops.linewidth': 1.0,\n",
       "          u'boxplot.capprops.color': u'k',\n",
       "          u'boxplot.capprops.linestyle': u'-',\n",
       "          u'boxplot.capprops.linewidth': 1.0,\n",
       "          u'boxplot.flierprops.color': u'b',\n",
       "          u'boxplot.flierprops.linestyle': u'none',\n",
       "          u'boxplot.flierprops.linewidth': 1.0,\n",
       "          u'boxplot.flierprops.marker': u'+',\n",
       "          u'boxplot.flierprops.markeredgecolor': u'k',\n",
       "          u'boxplot.flierprops.markerfacecolor': u'b',\n",
       "          u'boxplot.flierprops.markersize': 6.0,\n",
       "          u'boxplot.meanline': False,\n",
       "          u'boxplot.meanprops.color': u'r',\n",
       "          u'boxplot.meanprops.linestyle': u'-',\n",
       "          u'boxplot.meanprops.linewidth': 1.0,\n",
       "          u'boxplot.medianprops.color': u'r',\n",
       "          u'boxplot.medianprops.linestyle': u'-',\n",
       "          u'boxplot.medianprops.linewidth': 1.0,\n",
       "          u'boxplot.notch': False,\n",
       "          u'boxplot.patchartist': False,\n",
       "          u'boxplot.showbox': True,\n",
       "          u'boxplot.showcaps': True,\n",
       "          u'boxplot.showfliers': True,\n",
       "          u'boxplot.showmeans': False,\n",
       "          u'boxplot.vertical': True,\n",
       "          u'boxplot.whiskerprops.color': u'b',\n",
       "          u'boxplot.whiskerprops.linestyle': u'--',\n",
       "          u'boxplot.whiskerprops.linewidth': 1.0,\n",
       "          u'boxplot.whiskers': 1.5,\n",
       "          u'contour.corner_mask': True,\n",
       "          u'contour.negative_linestyle': u'dashed',\n",
       "          u'datapath': u'/home/rajatgirotra/tools/miniconda2/envs/shriram/lib/python2.7/site-packages/matplotlib/mpl-data',\n",
       "          u'docstring.hardcopy': False,\n",
       "          u'errorbar.capsize': 3.0,\n",
       "          u'examples.directory': u'',\n",
       "          u'figure.autolayout': False,\n",
       "          u'figure.dpi': 80.0,\n",
       "          u'figure.edgecolor': u'w',\n",
       "          u'figure.facecolor': u'0.75',\n",
       "          u'figure.figsize': [8.0, 6.0],\n",
       "          u'figure.frameon': True,\n",
       "          u'figure.max_open_warning': 20,\n",
       "          u'figure.subplot.bottom': 0.1,\n",
       "          u'figure.subplot.hspace': 0.2,\n",
       "          u'figure.subplot.left': 0.125,\n",
       "          u'figure.subplot.right': 0.9,\n",
       "          u'figure.subplot.top': 0.9,\n",
       "          u'figure.subplot.wspace': 0.2,\n",
       "          u'figure.titlesize': u'medium',\n",
       "          u'figure.titleweight': u'normal',\n",
       "          u'font.cursive': [u'Apple Chancery',\n",
       "                            u'Textile',\n",
       "                            u'Zapf Chancery',\n",
       "                            u'Sand',\n",
       "                            u'Script MT',\n",
       "                            u'Felipa',\n",
       "                            u'cursive'],\n",
       "          u'font.family': [u'sans-serif'],\n",
       "          u'font.fantasy': [u'Comic Sans MS',\n",
       "                            u'Chicago',\n",
       "                            u'Charcoal',\n",
       "                            u'ImpactWestern',\n",
       "                            u'Humor Sans',\n",
       "                            u'fantasy'],\n",
       "          u'font.monospace': [u'Bitstream Vera Sans Mono',\n",
       "                              u'DejaVu Sans Mono',\n",
       "                              u'Andale Mono',\n",
       "                              u'Nimbus Mono L',\n",
       "                              u'Courier New',\n",
       "                              u'Courier',\n",
       "                              u'Fixed',\n",
       "                              u'Terminal',\n",
       "                              u'monospace'],\n",
       "          u'font.sans-serif': [u'Bitstream Vera Sans',\n",
       "                               u'DejaVu Sans',\n",
       "                               u'Lucida Grande',\n",
       "                               u'Verdana',\n",
       "                               u'Geneva',\n",
       "                               u'Lucid',\n",
       "                               u'Arial',\n",
       "                               u'Helvetica',\n",
       "                               u'Avant Garde',\n",
       "                               u'sans-serif'],\n",
       "          u'font.serif': [u'Bitstream Vera Serif',\n",
       "                          u'DejaVu Serif',\n",
       "                          u'New Century Schoolbook',\n",
       "                          u'Century Schoolbook L',\n",
       "                          u'Utopia',\n",
       "                          u'ITC Bookman',\n",
       "                          u'Bookman',\n",
       "                          u'Nimbus Roman No9 L',\n",
       "                          u'Times New Roman',\n",
       "                          u'Times',\n",
       "                          u'Palatino',\n",
       "                          u'Charter',\n",
       "                          u'serif'],\n",
       "          u'font.size': 12.0,\n",
       "          u'font.stretch': u'normal',\n",
       "          u'font.style': u'normal',\n",
       "          u'font.variant': u'normal',\n",
       "          u'font.weight': u'normal',\n",
       "          u'grid.alpha': 1.0,\n",
       "          u'grid.color': u'k',\n",
       "          u'grid.linestyle': u':',\n",
       "          u'grid.linewidth': 0.5,\n",
       "          u'image.aspect': u'equal',\n",
       "          u'image.cmap': u'jet',\n",
       "          u'image.composite_image': True,\n",
       "          u'image.interpolation': u'bilinear',\n",
       "          u'image.lut': 256,\n",
       "          u'image.origin': u'upper',\n",
       "          u'image.resample': False,\n",
       "          u'interactive': False,\n",
       "          u'keymap.all_axes': [u'a'],\n",
       "          u'keymap.back': [u'left', u'c', u'backspace'],\n",
       "          u'keymap.forward': [u'right', u'v'],\n",
       "          u'keymap.fullscreen': [u'f', u'ctrl+f'],\n",
       "          u'keymap.grid': [u'g'],\n",
       "          u'keymap.home': [u'h', u'r', u'home'],\n",
       "          u'keymap.pan': [u'p'],\n",
       "          u'keymap.quit': [u'ctrl+w', u'cmd+w'],\n",
       "          u'keymap.save': [u's', u'ctrl+s'],\n",
       "          u'keymap.xscale': [u'k', u'L'],\n",
       "          u'keymap.yscale': [u'l'],\n",
       "          u'keymap.zoom': [u'o'],\n",
       "          u'legend.borderaxespad': 0.5,\n",
       "          u'legend.borderpad': 0.4,\n",
       "          u'legend.columnspacing': 2.0,\n",
       "          u'legend.edgecolor': u'inherit',\n",
       "          u'legend.facecolor': u'inherit',\n",
       "          u'legend.fancybox': False,\n",
       "          u'legend.fontsize': u'large',\n",
       "          u'legend.framealpha': None,\n",
       "          u'legend.frameon': True,\n",
       "          u'legend.handleheight': 0.7,\n",
       "          u'legend.handlelength': 2.0,\n",
       "          u'legend.handletextpad': 0.8,\n",
       "          u'legend.isaxes': True,\n",
       "          u'legend.labelspacing': 0.5,\n",
       "          u'legend.loc': u'upper right',\n",
       "          u'legend.markerscale': 1.0,\n",
       "          u'legend.numpoints': 2,\n",
       "          u'legend.scatterpoints': 3,\n",
       "          u'legend.shadow': False,\n",
       "          u'lines.antialiased': True,\n",
       "          u'lines.color': u'b',\n",
       "          u'lines.dash_capstyle': u'butt',\n",
       "          u'lines.dash_joinstyle': u'round',\n",
       "          u'lines.linestyle': u'-',\n",
       "          u'lines.linewidth': 1.0,\n",
       "          u'lines.marker': u'None',\n",
       "          u'lines.markeredgewidth': 0.5,\n",
       "          u'lines.markersize': 6.0,\n",
       "          u'lines.solid_capstyle': u'projecting',\n",
       "          u'lines.solid_joinstyle': u'round',\n",
       "          u'markers.fillstyle': u'full',\n",
       "          u'mathtext.bf': u'serif:bold',\n",
       "          u'mathtext.cal': u'cursive',\n",
       "          u'mathtext.default': u'it',\n",
       "          u'mathtext.fallback_to_cm': True,\n",
       "          u'mathtext.fontset': u'cm',\n",
       "          u'mathtext.it': u'serif:italic',\n",
       "          u'mathtext.rm': u'serif',\n",
       "          u'mathtext.sf': u'sans\\\\-serif',\n",
       "          u'mathtext.tt': u'monospace',\n",
       "          u'nbagg.transparent': True,\n",
       "          u'patch.antialiased': True,\n",
       "          u'patch.edgecolor': u'k',\n",
       "          u'patch.facecolor': u'b',\n",
       "          u'patch.linewidth': 1.0,\n",
       "          u'path.effects': [],\n",
       "          u'path.simplify': True,\n",
       "          u'path.simplify_threshold': 0.1111111111111111,\n",
       "          u'path.sketch': None,\n",
       "          u'path.snap': True,\n",
       "          u'pdf.compression': 6,\n",
       "          u'pdf.fonttype': 3,\n",
       "          u'pdf.inheritcolor': False,\n",
       "          u'pdf.use14corefonts': False,\n",
       "          u'pgf.debug': False,\n",
       "          u'pgf.preamble': [],\n",
       "          u'pgf.rcfonts': True,\n",
       "          u'pgf.texsystem': u'xelatex',\n",
       "          u'plugins.directory': u'.matplotlib_plugins',\n",
       "          u'polaraxes.grid': True,\n",
       "          u'ps.distiller.res': 6000,\n",
       "          u'ps.fonttype': 3,\n",
       "          u'ps.papersize': u'letter',\n",
       "          u'ps.useafm': False,\n",
       "          u'ps.usedistiller': False,\n",
       "          u'savefig.bbox': None,\n",
       "          u'savefig.directory': u'~',\n",
       "          u'savefig.dpi': 100.0,\n",
       "          u'savefig.edgecolor': u'w',\n",
       "          u'savefig.facecolor': u'w',\n",
       "          u'savefig.format': u'png',\n",
       "          u'savefig.frameon': True,\n",
       "          u'savefig.jpeg_quality': 95,\n",
       "          u'savefig.orientation': u'portrait',\n",
       "          u'savefig.pad_inches': 0.1,\n",
       "          u'savefig.transparent': False,\n",
       "          u'svg.fonttype': u'path',\n",
       "          u'svg.image_inline': True,\n",
       "          u'svg.image_noscale': False,\n",
       "          u'text.antialiased': True,\n",
       "          u'text.color': u'k',\n",
       "          u'text.dvipnghack': None,\n",
       "          u'text.hinting': u'auto',\n",
       "          u'text.hinting_factor': 8,\n",
       "          u'text.latex.preamble': [],\n",
       "          u'text.latex.preview': False,\n",
       "          u'text.latex.unicode': False,\n",
       "          u'text.usetex': False,\n",
       "          u'timezone': u'UTC',\n",
       "          u'tk.window_focus': False,\n",
       "          u'toolbar': u'toolbar2',\n",
       "          u'verbose.fileo': u'sys.stdout',\n",
       "          u'verbose.level': u'silent',\n",
       "          u'webagg.open_in_browser': True,\n",
       "          u'webagg.port': 8988,\n",
       "          u'webagg.port_retries': 50,\n",
       "          u'xtick.color': u'k',\n",
       "          u'xtick.direction': u'in',\n",
       "          u'xtick.labelsize': u'medium',\n",
       "          u'xtick.major.pad': 4.0,\n",
       "          u'xtick.major.size': 4.0,\n",
       "          u'xtick.major.width': 0.5,\n",
       "          u'xtick.minor.pad': 4.0,\n",
       "          u'xtick.minor.size': 2.0,\n",
       "          u'xtick.minor.visible': False,\n",
       "          u'xtick.minor.width': 0.5,\n",
       "          u'ytick.color': u'k',\n",
       "          u'ytick.direction': u'in',\n",
       "          u'ytick.labelsize': u'medium',\n",
       "          u'ytick.major.pad': 4.0,\n",
       "          u'ytick.major.size': 4.0,\n",
       "          u'ytick.major.width': 0.5,\n",
       "          u'ytick.minor.pad': 4.0,\n",
       "          u'ytick.minor.size': 2.0,\n",
       "          u'ytick.minor.visible': False,\n",
       "          u'ytick.minor.width': 0.5})"
      ]
     },
     "execution_count": 3,
     "metadata": {},
     "output_type": "execute_result"
    }
   ],
   "source": [
    "mpl.rcParams"
   ]
  },
  {
   "cell_type": "code",
   "execution_count": 4,
   "metadata": {
    "collapsed": true
   },
   "outputs": [],
   "source": [
    "import matplotlib.pyplot as plt"
   ]
  },
  {
   "cell_type": "code",
   "execution_count": 5,
   "metadata": {
    "collapsed": false
   },
   "outputs": [
    {
     "data": {
      "text/plain": [
       "[<matplotlib.lines.Line2D at 0x7f66952b7310>]"
      ]
     },
     "execution_count": 5,
     "metadata": {},
     "output_type": "execute_result"
    }
   ],
   "source": [
    "plt.plot(5)"
   ]
  },
  {
   "cell_type": "code",
   "execution_count": 7,
   "metadata": {
    "collapsed": false
   },
   "outputs": [
    {
     "data": {
      "text/plain": [
       "[<matplotlib.lines.Line2D at 0x7f669522cfd0>]"
      ]
     },
     "execution_count": 7,
     "metadata": {},
     "output_type": "execute_result"
    }
   ],
   "source": [
    "plt.plot(5, 'rD')"
   ]
  },
  {
   "cell_type": "code",
   "execution_count": 8,
   "metadata": {
    "collapsed": false
   },
   "outputs": [
    {
     "data": {
      "image/png": "[encoded data removed]",
      "text/plain": [
       "<matplotlib.figure.Figure at 0x7f66952b7550>"
      ]
     },
     "metadata": {},
     "output_type": "display_data"
    }
   ],
   "source": [
    "plt.show()"
   ]
  },
  {
   "cell_type": "code",
   "execution_count": 9,
   "metadata": {
    "collapsed": false
   },
   "outputs": [
    {
     "data": {
      "text/plain": [
       "[<matplotlib.lines.Line2D at 0x7f66950d0090>]"
      ]
     },
     "execution_count": 9,
     "metadata": {},
     "output_type": "execute_result"
    }
   ],
   "source": [
    "plt.plot(2, 5, 'g<')"
   ]
  },
  {
   "cell_type": "code",
   "execution_count": 10,
   "metadata": {
    "collapsed": false
   },
   "outputs": [
    {
     "data": {
      "image/png": "[encoded data removed]",
      "text/plain": [
       "<matplotlib.figure.Figure at 0x7f66951ed9d0>"
      ]
     },
     "metadata": {},
     "output_type": "display_data"
    }
   ],
   "source": [
    "plt.show()"
   ]
  },
  {
   "cell_type": "code",
   "execution_count": 13,
   "metadata": {
    "collapsed": false
   },
   "outputs": [
    {
     "data": {
      "text/plain": [
       "[<matplotlib.lines.Line2D at 0x7f6694f486d0>,\n",
       " <matplotlib.lines.Line2D at 0x7f6694f48810>,\n",
       " <matplotlib.lines.Line2D at 0x7f6694f48ed0>,\n",
       " <matplotlib.lines.Line2D at 0x7f6694f55510>]"
      ]
     },
     "execution_count": 13,
     "metadata": {},
     "output_type": "execute_result"
    }
   ],
   "source": [
    "plt.plot(2.5,'mo', 3.5, 'rD', 4.5, 'g<', 5.5, 'bD') "
   ]
  },
  {
   "cell_type": "code",
   "execution_count": 14,
   "metadata": {
    "collapsed": false
   },
   "outputs": [
    {
     "data": {
      "image/png": "[encoded data removed]",
      "text/plain": [
       "<matplotlib.figure.Figure at 0x7f66950aa2d0>"
      ]
     },
     "metadata": {},
     "output_type": "display_data"
    }
   ],
   "source": [
    "plt.show()"
   ]
  },
  {
   "cell_type": "code",
   "execution_count": 15,
   "metadata": {
    "collapsed": false
   },
   "outputs": [
    {
     "data": {
      "text/plain": [
       "[<matplotlib.lines.Line2D at 0x7f6694ef9f90>]"
      ]
     },
     "execution_count": 15,
     "metadata": {},
     "output_type": "execute_result"
    }
   ],
   "source": [
    "plt.plot([1,2,3,4],[0.5,1.5,2.5,3.5],'b+-')"
   ]
  },
  {
   "cell_type": "code",
   "execution_count": 16,
   "metadata": {
    "collapsed": false
   },
   "outputs": [
    {
     "data": {
      "image/png": "[encoded data removed]",
      "text/plain": [
       "<matplotlib.figure.Figure at 0x7f6694feb290>"
      ]
     },
     "metadata": {},
     "output_type": "display_data"
    }
   ],
   "source": [
    "plt.show()"
   ]
  },
  {
   "cell_type": "code",
   "execution_count": null,
   "metadata": {
    "collapsed": true
   },
   "outputs": [],
   "source": []
  }
 ],
 "metadata": {
  "kernelspec": {
   "display_name": "Python 2",
   "language": "python",
   "name": "python2"
  },
  "language_info": {
   "codemirror_mode": {
    "name": "ipython",
    "version": 2
   },
   "file_extension": ".py",
   "mimetype": "text/x-python",
   "name": "python",
   "nbconvert_exporter": "python",
   "pygments_lexer": "ipython2",
   "version": "2.7.13"
  }
 },
 "nbformat": 4,
 "nbformat_minor": 2
}
