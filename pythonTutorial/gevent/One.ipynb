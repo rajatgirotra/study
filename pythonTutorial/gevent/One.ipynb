{
 "cells": [
  {
   "cell_type": "code",
   "execution_count": 6,
   "metadata": {
    "collapsed": false
   },
   "outputs": [],
   "source": [
    "import gevent\n",
    "from gevent.greenlet import Greenlet\n",
    "import socket"
   ]
  },
  {
   "cell_type": "code",
   "execution_count": 7,
   "metadata": {
    "collapsed": false
   },
   "outputs": [],
   "source": [
    "# gevent is a simple library proving an event loop at its core. Its very similar to asyncio in python 3 so if you have\n",
    "# python 3, prefer using that. Lets' now see how to use it.\n",
    "\n",
    "# gevent depends on a gevent library, greenlet is a simple library for wrapping functions and arguments togther.\n",
    "# Lets see them in action."
   ]
  },
  {
   "cell_type": "code",
   "execution_count": 8,
   "metadata": {
    "collapsed": false
   },
   "outputs": [],
   "source": [
    "# Creating a simple function and wrapping it in greenlet\n",
    "def myfunction(arg1, arg2, **kwargs):\n",
    "    print (arg1, arg2, kwargs)\n",
    "    return 100\n"
   ]
  },
  {
   "cell_type": "code",
   "execution_count": 9,
   "metadata": {
    "collapsed": false
   },
   "outputs": [
    {
     "name": "stdout",
     "output_type": "stream",
     "text": [
      "('One', 'Two', {'now': 'Buckle my shoe'})\n",
      "Finished\n",
      "('Greenlet.value', 100)\n"
     ]
    }
   ],
   "source": [
    "g = Greenlet(myfunction, 'One', 'Two', now='Buckle my shoe')  # create a Greenlet instance using c'tor\n",
    "g.start()  # and then call start(), which immediately calls it, returns None always\n",
    "g.join()\n",
    "print('Finished')\n",
    "print('Greenlet.value', g.value)  # Stores the function return value"
   ]
  },
  {
   "cell_type": "code",
   "execution_count": 10,
   "metadata": {
    "collapsed": false
   },
   "outputs": [
    {
     "name": "stdout",
     "output_type": "stream",
     "text": [
      "('Type of item in jobs list', <class 'gevent.greenlet.Greenlet'>)\n",
      "('1', '2', {'now': 'Buckle my shoe'})\n",
      "('1', '2', {'now': 'Buckle my shoe'})\n",
      "('1', '2', {'now': 'Buckle my shoe'})\n",
      "('1', '2', {'now': 'Buckle my shoe'})\n",
      "('1', '2', {'now': 'Buckle my shoe'})\n"
     ]
    },
    {
     "data": {
      "text/plain": [
       "[100, 100, 100, 100, 100]"
      ]
     },
     "execution_count": 10,
     "metadata": {},
     "output_type": "execute_result"
    }
   ],
   "source": [
    "# the other way is to use the spawn() method, which creates an instance and calls start() too.\n",
    "# So it is a shorthand and widely used\n",
    "jobs = [gevent.spawn(myfunction, '1', '2', now='Buckle my shoe') for i in range(0,5)]  # execution starts here\n",
    "print('Type of item in jobs list', type(jobs[0]))\n",
    "gevent.joinall(jobs, timeout=3)  # the first parameter is reduced to a subset of jobs that finished under 3 seconds\n",
    "[job.value for job in jobs]"
   ]
  },
  {
   "cell_type": "code",
   "execution_count": null,
   "metadata": {
    "collapsed": true
   },
   "outputs": [],
   "source": []
  }
 ],
 "metadata": {
  "kernelspec": {
   "display_name": "Python 2",
   "language": "python",
   "name": "python2"
  },
  "language_info": {
   "codemirror_mode": {
    "name": "ipython",
    "version": 2
   },
   "file_extension": ".py",
   "mimetype": "text/x-python",
   "name": "python",
   "nbconvert_exporter": "python",
   "pygments_lexer": "ipython2",
   "version": "2.7.10"
  }
 },
 "nbformat": 4,
 "nbformat_minor": 0
}
