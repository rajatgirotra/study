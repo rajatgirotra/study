{
 "cells": [
  {
   "cell_type": "code",
   "execution_count": null,
   "id": "b8c5d3d3-072e-4f74-8880-f05379e67136",
   "metadata": {},
   "outputs": [],
   "source": [
    "import polars as pl\n",
    "from datetime import datetime, date, timedelta\n",
    "from io import StringIO"
   ]
  },
  {
   "cell_type": "code",
   "execution_count": null,
   "id": "f5cf426e-eb36-4b38-b343-5046244f0f1c",
   "metadata": {},
   "outputs": [],
   "source": [
    "pl.__version__"
   ]
  },
  {
   "cell_type": "code",
   "execution_count": null,
   "id": "a8920b53-bf2a-46c2-9068-be73c67c937b",
   "metadata": {},
   "outputs": [],
   "source": []
  },
  {
   "cell_type": "code",
   "execution_count": null,
   "id": "32e05951-c70c-4756-baed-60be74d6af62",
   "metadata": {},
   "outputs": [],
   "source": [
    "df = pl.DataFrame(\n",
    "    {\n",
    "        \"foo\": [1, 2, 3],\n",
    "        \"bar\": [6.0, 7.0, 8.0],\n",
    "        \"ham\": [\"a\", \"b\", \"c\"],\n",
    "    }\n",
    ")\n",
    "print(df)"
   ]
  },
  {
   "cell_type": "code",
   "execution_count": null,
   "id": "92aeb3ab-cdc6-48e4-926a-eabef9937a18",
   "metadata": {},
   "outputs": [],
   "source": [
    "other_df = pl.DataFrame(\n",
    "    {\n",
    "        \"apple\": [\"x\", \"y\", \"z\"],\n",
    "        \"ham\": [\"a\", \"b\", \"d\"],\n",
    "    }\n",
    ")\n",
    "print(other_df)"
   ]
  },
  {
   "cell_type": "code",
   "execution_count": null,
   "id": "816dae2d-fe3b-453d-93a3-f122e0d90a35",
   "metadata": {},
   "outputs": [],
   "source": [
    "df.join(other_df, on=\"ham\")"
   ]
  },
  {
   "cell_type": "code",
   "execution_count": null,
   "id": "62615e1d-5b36-4b1e-9dd0-7c7f168b2f75",
   "metadata": {},
   "outputs": [],
   "source": [
    "# df.join(other_df, on=\"ham\", how=\"inner\")\n",
    "# df.join(other_df, on=\"ham\", how=\"left\")\n",
    "df.join(other_df, on=\"ham\", how=\"left\", coalesce=False) # Don't merge join column. make a <JOIN_COL>_right col\n",
    "# df.join(other_df, on=\"ham\", how=\"right\")\n",
    "# df.join(other_df, on=\"ham\", how=\"full\")\n",
    "# df.join(other_df, how=\"cross\") # on not requires when how=\"cross\"\n",
    "# df.join(other_df, on=\"ham\", how=\"semi\")\n",
    "# df.join(other_df, on=\"ham\", how=\"anti\")"
   ]
  },
  {
   "cell_type": "code",
   "execution_count": null,
   "id": "74181c53-a9fc-4670-9652-1277a01b4c99",
   "metadata": {},
   "outputs": [],
   "source": [
    "df.join(other_df, on=\"ham\", how=\"full\", coalesce=True) # merge join columns when how=\"full\""
   ]
  },
  {
   "cell_type": "code",
   "execution_count": null,
   "id": "39203a3b-38b2-41a2-9543-9bdb03e82167",
   "metadata": {},
   "outputs": [],
   "source": [
    "props = \"\"\"property_name,group\n",
    "Old Ken Road,brown\n",
    "Whitechapel Road,brown\n",
    "The Shire,fantasy\n",
    "Kings Cross Station,stations\n",
    "\"The Angel,Islington\",light_blue\n",
    "\"\"\"\n",
    "props_csv = StringIO(props)\n",
    "props_groups = pl.read_csv(props_csv)\n",
    "print(props_groups)\n",
    "\n",
    "prices = \"\"\"property_name,cost\n",
    "Old Ken Road,60\n",
    "Whitechapel Road,60\n",
    "Sesame Street,100\n",
    "Kings Cross Station,200\n",
    "\"The Angel,Islington\",100\n",
    "\"\"\"\n",
    "prices_csv = StringIO(prices)\n",
    "props_prices = pl.read_csv(prices_csv)\n",
    "print(props_prices)"
   ]
  },
  {
   "cell_type": "code",
   "execution_count": null,
   "id": "2a8b5f98-8bfc-4900-a651-27560fbf7808",
   "metadata": {},
   "outputs": [],
   "source": [
    "props_groups.join(props_prices, on=\"property_name\") # Very very trivial"
   ]
  },
  {
   "cell_type": "code",
   "execution_count": null,
   "id": "5ea91b9d-f89a-4d21-9dca-90d3ff42a692",
   "metadata": {},
   "outputs": [],
   "source": [
    "props_groups2 = props_groups.with_columns(pl.col('property_name').str.to_lowercase().alias('property_name'))\n",
    "props_groups2"
   ]
  },
  {
   "cell_type": "code",
   "execution_count": null,
   "id": "9b49b589-5caf-4240-830a-45e8711f6a6d",
   "metadata": {},
   "outputs": [],
   "source": [
    "props_prices2 = props_prices.select(pl.col(\"property_name\").alias(\"name\"), pl.col(\"cost\"))\n",
    "props_prices2"
   ]
  },
  {
   "cell_type": "code",
   "execution_count": null,
   "id": "4545fb8d-8984-417f-b1c0-f452c12dfc56",
   "metadata": {},
   "outputs": [],
   "source": [
    "# how do we now apply the join between props_groups2 and props_prices2. We use left_on, and right_on where both are pl.Expr expressions\n",
    "res = props_groups2.join(props_prices2, left_on=pl.col('property_name'), right_on=pl.col('name').str.to_lowercase())\\\n",
    "                         .drop('property_name').rename({'name': 'property_name'})\\\n",
    "                         .select(pl.col('property_name'), pl.exclude('property_name'))\n",
    "res"
   ]
  },
  {
   "cell_type": "code",
   "execution_count": null,
   "id": "2b2d18fe-2e17-4dff-826c-7b15d7972002",
   "metadata": {},
   "outputs": [],
   "source": [
    "players = pl.DataFrame(\n",
    "    {\n",
    "        \"name\": [\"Alice\", \"Bob\"],\n",
    "        \"cash\": [78, 135],\n",
    "    }\n",
    ")\n",
    "print(players)\n",
    "print(props_prices)"
   ]
  },
  {
   "cell_type": "code",
   "execution_count": null,
   "id": "e527d9c4-ee5b-4b39-ab52-1807bd526fbf",
   "metadata": {},
   "outputs": [],
   "source": [
    "# How would you join rows where a person has the money to buy the property? You can't join on any common column.\n",
    "# here we can use join_where.\n",
    "players.join_where(props_prices, pl.col('cash') > pl.col('cost'))"
   ]
  },
  {
   "cell_type": "code",
   "execution_count": 101,
   "id": "595c38f2-6cde-441a-9ffa-b0b678dc4cd1",
   "metadata": {},
   "outputs": [
    {
     "name": "stdout",
     "output_type": "stream",
     "text": [
      "shape: (4, 3)\n",
      "┌─────────────────────┬───────┬───────┐\n",
      "│ time                ┆ stock ┆ trade │\n",
      "│ ---                 ┆ ---   ┆ ---   │\n",
      "│ datetime[μs]        ┆ str   ┆ i64   │\n",
      "╞═════════════════════╪═══════╪═══════╡\n",
      "│ 2020-01-01 09:01:00 ┆ A     ┆ 101   │\n",
      "│ 2020-01-01 09:01:00 ┆ B     ┆ 299   │\n",
      "│ 2020-01-01 09:03:00 ┆ B     ┆ 301   │\n",
      "│ 2020-01-01 09:06:00 ┆ C     ┆ 500   │\n",
      "└─────────────────────┴───────┴───────┘\n"
     ]
    }
   ],
   "source": [
    "df_trades = pl.DataFrame(\n",
    "    {\n",
    "        \"time\": [\n",
    "            datetime(2020, 1, 1, 9, 1, 0),\n",
    "            datetime(2020, 1, 1, 9, 1, 0),\n",
    "            datetime(2020, 1, 1, 9, 3, 0),\n",
    "            datetime(2020, 1, 1, 9, 6, 0),\n",
    "        ],\n",
    "        \"stock\": [\"A\", \"B\", \"B\", \"C\"],\n",
    "        \"trade\": [101, 299, 301, 500],\n",
    "    }\n",
    ")\n",
    "print(df_trades)"
   ]
  },
  {
   "cell_type": "code",
   "execution_count": 102,
   "id": "8e45d1c1-f66f-4f1f-a985-b05755b4314d",
   "metadata": {},
   "outputs": [
    {
     "name": "stdout",
     "output_type": "stream",
     "text": [
      "shape: (4, 3)\n",
      "┌─────────────────────┬───────┬───────┐\n",
      "│ time                ┆ stock ┆ quote │\n",
      "│ ---                 ┆ ---   ┆ ---   │\n",
      "│ datetime[μs]        ┆ str   ┆ i64   │\n",
      "╞═════════════════════╪═══════╪═══════╡\n",
      "│ 2020-01-01 09:00:00 ┆ A     ┆ 100   │\n",
      "│ 2020-01-01 09:02:00 ┆ B     ┆ 300   │\n",
      "│ 2020-01-01 09:04:00 ┆ C     ┆ 501   │\n",
      "│ 2020-01-01 09:06:00 ┆ A     ┆ 102   │\n",
      "└─────────────────────┴───────┴───────┘\n"
     ]
    }
   ],
   "source": [
    "df_quotes = pl.DataFrame(\n",
    "    {\n",
    "        \"time\": [\n",
    "            datetime(2020, 1, 1, 9, 0, 0),\n",
    "            datetime(2020, 1, 1, 9, 2, 0),\n",
    "            datetime(2020, 1, 1, 9, 4, 0),\n",
    "            datetime(2020, 1, 1, 9, 6, 0),\n",
    "        ],\n",
    "        \"stock\": [\"A\", \"B\", \"C\", \"A\"],\n",
    "        \"quote\": [100, 300, 501, 102],\n",
    "    }\n",
    ")\n",
    "\n",
    "print(df_quotes)"
   ]
  },
  {
   "cell_type": "code",
   "execution_count": 108,
   "id": "b668deca-cd77-40e6-83dc-bbd0662aebe4",
   "metadata": {},
   "outputs": [
    {
     "data": {
      "text/html": [
       "<div><style>\n",
       ".dataframe > thead > tr,\n",
       ".dataframe > tbody > tr {\n",
       "  text-align: right;\n",
       "  white-space: pre-wrap;\n",
       "}\n",
       "</style>\n",
       "<small>shape: (5, 5)</small><table border=\"1\" class=\"dataframe\"><thead><tr><th>time</th><th>stock</th><th>trade</th><th>time_right</th><th>quote</th></tr><tr><td>datetime[μs]</td><td>str</td><td>i64</td><td>datetime[μs]</td><td>i64</td></tr></thead><tbody><tr><td>2020-01-01 09:01:00</td><td>&quot;A&quot;</td><td>101</td><td>2020-01-01 09:00:00</td><td>100</td></tr><tr><td>2020-01-01 09:01:00</td><td>&quot;A&quot;</td><td>101</td><td>2020-01-01 09:06:00</td><td>102</td></tr><tr><td>2020-01-01 09:01:00</td><td>&quot;B&quot;</td><td>299</td><td>2020-01-01 09:02:00</td><td>300</td></tr><tr><td>2020-01-01 09:03:00</td><td>&quot;B&quot;</td><td>301</td><td>2020-01-01 09:02:00</td><td>300</td></tr><tr><td>2020-01-01 09:06:00</td><td>&quot;C&quot;</td><td>500</td><td>2020-01-01 09:04:00</td><td>501</td></tr></tbody></table></div>"
      ],
      "text/plain": [
       "shape: (5, 5)\n",
       "┌─────────────────────┬───────┬───────┬─────────────────────┬───────┐\n",
       "│ time                ┆ stock ┆ trade ┆ time_right          ┆ quote │\n",
       "│ ---                 ┆ ---   ┆ ---   ┆ ---                 ┆ ---   │\n",
       "│ datetime[μs]        ┆ str   ┆ i64   ┆ datetime[μs]        ┆ i64   │\n",
       "╞═════════════════════╪═══════╪═══════╪═════════════════════╪═══════╡\n",
       "│ 2020-01-01 09:01:00 ┆ A     ┆ 101   ┆ 2020-01-01 09:00:00 ┆ 100   │\n",
       "│ 2020-01-01 09:01:00 ┆ A     ┆ 101   ┆ 2020-01-01 09:06:00 ┆ 102   │\n",
       "│ 2020-01-01 09:01:00 ┆ B     ┆ 299   ┆ 2020-01-01 09:02:00 ┆ 300   │\n",
       "│ 2020-01-01 09:03:00 ┆ B     ┆ 301   ┆ 2020-01-01 09:02:00 ┆ 300   │\n",
       "│ 2020-01-01 09:06:00 ┆ C     ┆ 500   ┆ 2020-01-01 09:04:00 ┆ 501   │\n",
       "└─────────────────────┴───────┴───────┴─────────────────────┴───────┘"
      ]
     },
     "execution_count": 108,
     "metadata": {},
     "output_type": "execute_result"
    }
   ],
   "source": [
    "market = df_trades.join(df_quotes, on='stock', how='left')\n",
    "market"
   ]
  },
  {
   "cell_type": "code",
   "execution_count": 109,
   "id": "823e20df-0e73-405c-aab4-e60f56d76d1a",
   "metadata": {},
   "outputs": [
    {
     "data": {
      "text/html": [
       "<div><style>\n",
       ".dataframe > thead > tr,\n",
       ".dataframe > tbody > tr {\n",
       "  text-align: right;\n",
       "  white-space: pre-wrap;\n",
       "}\n",
       "</style>\n",
       "<small>shape: (3, 6)</small><table border=\"1\" class=\"dataframe\"><thead><tr><th>time</th><th>stock</th><th>trade</th><th>time_right</th><th>quote</th><th>time_diff</th></tr><tr><td>datetime[μs]</td><td>str</td><td>i64</td><td>datetime[μs]</td><td>i64</td><td>bool</td></tr></thead><tbody><tr><td>2020-01-01 09:01:00</td><td>&quot;A&quot;</td><td>101</td><td>2020-01-01 09:00:00</td><td>100</td><td>true</td></tr><tr><td>2020-01-01 09:03:00</td><td>&quot;B&quot;</td><td>301</td><td>2020-01-01 09:02:00</td><td>300</td><td>true</td></tr><tr><td>2020-01-01 09:06:00</td><td>&quot;C&quot;</td><td>500</td><td>2020-01-01 09:04:00</td><td>501</td><td>true</td></tr></tbody></table></div>"
      ],
      "text/plain": [
       "shape: (3, 6)\n",
       "┌─────────────────────┬───────┬───────┬─────────────────────┬───────┬───────────┐\n",
       "│ time                ┆ stock ┆ trade ┆ time_right          ┆ quote ┆ time_diff │\n",
       "│ ---                 ┆ ---   ┆ ---   ┆ ---                 ┆ ---   ┆ ---       │\n",
       "│ datetime[μs]        ┆ str   ┆ i64   ┆ datetime[μs]        ┆ i64   ┆ bool      │\n",
       "╞═════════════════════╪═══════╪═══════╪═════════════════════╪═══════╪═══════════╡\n",
       "│ 2020-01-01 09:01:00 ┆ A     ┆ 101   ┆ 2020-01-01 09:00:00 ┆ 100   ┆ true      │\n",
       "│ 2020-01-01 09:03:00 ┆ B     ┆ 301   ┆ 2020-01-01 09:02:00 ┆ 300   ┆ true      │\n",
       "│ 2020-01-01 09:06:00 ┆ C     ┆ 500   ┆ 2020-01-01 09:04:00 ┆ 501   ┆ true      │\n",
       "└─────────────────────┴───────┴───────┴─────────────────────┴───────┴───────────┘"
      ]
     },
     "execution_count": 109,
     "metadata": {},
     "output_type": "execute_result"
    }
   ],
   "source": [
    "# You want to produce a dataframe showing for each trade the most recent quote provided on or before the time of the trade.\n",
    "market = market.with_columns(time_diff=pl.when((pl.col('time') - pl.col('time_right') > 0)).then(True).otherwise(False)).remove(pl.col('time_diff') == False)\n",
    "market"
   ]
  },
  {
   "cell_type": "code",
   "execution_count": 105,
   "id": "caaeb0de-a78d-4575-8edb-7312f625a5e1",
   "metadata": {},
   "outputs": [
    {
     "data": {
      "text/html": [
       "<div><style>\n",
       ".dataframe > thead > tr,\n",
       ".dataframe > tbody > tr {\n",
       "  text-align: right;\n",
       "  white-space: pre-wrap;\n",
       "}\n",
       "</style>\n",
       "<small>shape: (4, 5)</small><table border=\"1\" class=\"dataframe\"><thead><tr><th>time</th><th>stock</th><th>trade</th><th>time_right</th><th>quote</th></tr><tr><td>datetime[μs]</td><td>str</td><td>i64</td><td>datetime[μs]</td><td>i64</td></tr></thead><tbody><tr><td>2020-01-01 09:01:00</td><td>&quot;A&quot;</td><td>101</td><td>2020-01-01 09:06:00</td><td>100</td></tr><tr><td>2020-01-01 09:01:00</td><td>&quot;B&quot;</td><td>299</td><td>2020-01-01 09:02:00</td><td>300</td></tr><tr><td>2020-01-01 09:03:00</td><td>&quot;B&quot;</td><td>301</td><td>2020-01-01 09:02:00</td><td>300</td></tr><tr><td>2020-01-01 09:06:00</td><td>&quot;C&quot;</td><td>500</td><td>2020-01-01 09:04:00</td><td>501</td></tr></tbody></table></div>"
      ],
      "text/plain": [
       "shape: (4, 5)\n",
       "┌─────────────────────┬───────┬───────┬─────────────────────┬───────┐\n",
       "│ time                ┆ stock ┆ trade ┆ time_right          ┆ quote │\n",
       "│ ---                 ┆ ---   ┆ ---   ┆ ---                 ┆ ---   │\n",
       "│ datetime[μs]        ┆ str   ┆ i64   ┆ datetime[μs]        ┆ i64   │\n",
       "╞═════════════════════╪═══════╪═══════╪═════════════════════╪═══════╡\n",
       "│ 2020-01-01 09:01:00 ┆ A     ┆ 101   ┆ 2020-01-01 09:06:00 ┆ 100   │\n",
       "│ 2020-01-01 09:01:00 ┆ B     ┆ 299   ┆ 2020-01-01 09:02:00 ┆ 300   │\n",
       "│ 2020-01-01 09:03:00 ┆ B     ┆ 301   ┆ 2020-01-01 09:02:00 ┆ 300   │\n",
       "│ 2020-01-01 09:06:00 ┆ C     ┆ 500   ┆ 2020-01-01 09:04:00 ┆ 501   │\n",
       "└─────────────────────┴───────┴───────┴─────────────────────┴───────┘"
      ]
     },
     "execution_count": 105,
     "metadata": {},
     "output_type": "execute_result"
    }
   ],
   "source": [
    "market.group_by(['time', 'stock', 'trade']).agg(pl.col('time_right').max(), pl.col('quote')).with_columns(pl.col('quote').list.first().alias('quote')).sort(by='stock')"
   ]
  },
  {
   "cell_type": "code",
   "execution_count": 100,
   "id": "940ae2b0-c916-4e07-93bb-d45ee361b8e7",
   "metadata": {},
   "outputs": [
    {
     "name": "stdout",
     "output_type": "stream",
     "text": [
      "shape: (4, 4)\n",
      "┌─────────────────────┬───────┬───────┬───────┐\n",
      "│ time                ┆ stock ┆ trade ┆ quote │\n",
      "│ ---                 ┆ ---   ┆ ---   ┆ ---   │\n",
      "│ datetime[μs]        ┆ str   ┆ i64   ┆ i64   │\n",
      "╞═════════════════════╪═══════╪═══════╪═══════╡\n",
      "│ 2020-01-01 09:01:00 ┆ A     ┆ 101   ┆ 100   │\n",
      "│ 2020-01-01 09:01:00 ┆ B     ┆ 299   ┆ null  │\n",
      "│ 2020-01-01 09:03:00 ┆ B     ┆ 301   ┆ 300   │\n",
      "│ 2020-01-01 09:06:00 ┆ C     ┆ 500   ┆ 501   │\n",
      "└─────────────────────┴───────┴───────┴───────┘\n"
     ]
    },
    {
     "name": "stderr",
     "output_type": "stream",
     "text": [
      "/tmp/ipykernel_29348/3924691432.py:2: UserWarning: Sortedness of columns cannot be checked when 'by' groups provided\n",
      "  df_asof_join = df_trades.join_asof(df_quotes, on=\"time\", by=\"stock\")\n"
     ]
    }
   ],
   "source": [
    "# the easier way is to use join_asof.\n",
    "df_asof_join = df_trades.join_asof(df_quotes, on=\"time\", by=\"stock\")\n",
    "print(df_asof_join)"
   ]
  },
  {
   "cell_type": "code",
   "execution_count": null,
   "id": "a5429a6d-8140-4537-b78e-04461de9bb06",
   "metadata": {},
   "outputs": [],
   "source": []
  }
 ],
 "metadata": {
  "kernelspec": {
   "display_name": "Python 3 (ipykernel)",
   "language": "python",
   "name": "python3"
  },
  "language_info": {
   "codemirror_mode": {
    "name": "ipython",
    "version": 3
   },
   "file_extension": ".py",
   "mimetype": "text/x-python",
   "name": "python",
   "nbconvert_exporter": "python",
   "pygments_lexer": "ipython3",
   "version": "3.12.3"
  }
 },
 "nbformat": 4,
 "nbformat_minor": 5
}
