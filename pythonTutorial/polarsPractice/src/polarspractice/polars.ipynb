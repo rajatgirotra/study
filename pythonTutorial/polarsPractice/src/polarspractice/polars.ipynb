{
 "cells": [
  {
   "cell_type": "code",
   "execution_count": null,
   "id": "b0632d09",
   "metadata": {},
   "outputs": [],
   "source": [
    "import numpy as np"
   ]
  },
  {
   "cell_type": "code",
   "execution_count": null,
   "id": "56ae4156",
   "metadata": {},
   "outputs": [],
   "source": [
    "import polars as pl"
   ]
  },
  {
   "cell_type": "code",
   "execution_count": null,
   "id": "b0261e64",
   "metadata": {
    "jupyter": {
     "source_hidden": true
    }
   },
   "outputs": [],
   "source": [
    "pl.__version__"
   ]
  },
  {
   "cell_type": "code",
   "execution_count": null,
   "id": "2d94a52c",
   "metadata": {},
   "outputs": [],
   "source": [
    "# should be the raw download page link\n",
    "!wget https://raw.githubusercontent.com/mattharrison/2023-Pycon-Polars/refs/heads/main/__mharrison__2020-2021.csv"
   ]
  },
  {
   "cell_type": "code",
   "execution_count": null,
   "id": "75097300",
   "metadata": {},
   "outputs": [],
   "source": [
    "file = '__mharrison__2020-2021.csv'\n",
    "df = pl.read_csv(file)\n",
    "\n",
    "# or read it directly from url\n",
    "url = 'https://raw.githubusercontent.com/mattharrison/2023-Pycon-Polars/refs/heads/main/__mharrison__2020-2021.csv'\n",
    "df = pl.read_csv(url)"
   ]
  },
  {
   "cell_type": "code",
   "execution_count": null,
   "id": "d259f771",
   "metadata": {},
   "outputs": [],
   "source": [
    "df"
   ]
  },
  {
   "cell_type": "code",
   "execution_count": null,
   "id": "c3538b65",
   "metadata": {
    "scrolled": true
   },
   "outputs": [],
   "source": [
    "df.schema # sees column names and types"
   ]
  },
  {
   "cell_type": "code",
   "execution_count": null,
   "id": "edfea8f9",
   "metadata": {
    "scrolled": true
   },
   "outputs": [],
   "source": [
    "df.describe() # some metadata about your dataframe\n"
   ]
  },
  {
   "cell_type": "code",
   "execution_count": null,
   "id": "0d9f540f",
   "metadata": {},
   "outputs": [],
   "source": [
    "df.quantile(0.25) # get the row at the 25% quantile"
   ]
  },
  {
   "cell_type": "code",
   "execution_count": null,
   "id": "01032aba",
   "metadata": {},
   "outputs": [],
   "source": [
    "df[0]"
   ]
  },
  {
   "cell_type": "code",
   "execution_count": null,
   "id": "9a9f58ca",
   "metadata": {},
   "outputs": [],
   "source": [
    "print(dir(pl)) # see things available in pl package"
   ]
  },
  {
   "cell_type": "code",
   "execution_count": null,
   "id": "4df5916a",
   "metadata": {},
   "outputs": [],
   "source": [
    "print(type(pl.col('foo'))) # there is a notion of columns in polars. type of pl.col('foo') is polars.expr.expr.Expr\n",
    "\n",
    "# You can do many things with expressions we will see later but lets just print the dir of the expressions.\n",
    "print(dir(pl.col('foo'))) # see things available in polars columns\n"
   ]
  },
  {
   "cell_type": "code",
   "execution_count": null,
   "id": "2ce7053e",
   "metadata": {},
   "outputs": [],
   "source": [
    "df.index # no index in polars by default. need to use with_row_count()"
   ]
  },
  {
   "cell_type": "code",
   "execution_count": null,
   "id": "c14b63fd",
   "metadata": {},
   "outputs": [],
   "source": [
    "df.columns"
   ]
  },
  {
   "cell_type": "code",
   "execution_count": null,
   "id": "26e5771d",
   "metadata": {},
   "outputs": [],
   "source": [
    "df.sample(20).transpose() # just a way of seeing some initial data."
   ]
  },
  {
   "cell_type": "code",
   "execution_count": null,
   "id": "289d59d9",
   "metadata": {},
   "outputs": [],
   "source": [
    "df.dtypes # these are pyarrow types"
   ]
  },
  {
   "cell_type": "code",
   "execution_count": null,
   "id": "2246f8cd",
   "metadata": {},
   "outputs": [],
   "source": [
    "df.estimated_size() # rough bytes"
   ]
  },
  {
   "cell_type": "code",
   "execution_count": null,
   "id": "7dde44ce",
   "metadata": {},
   "outputs": [],
   "source": [
    "df[1:5] # print rows 1, 4"
   ]
  },
  {
   "cell_type": "code",
   "execution_count": null,
   "id": "713e5a82",
   "metadata": {},
   "outputs": [],
   "source": [
    "# Prefer to use Expressions instead of working directly on dataframe\n",
    "# use pl.all() instead of pl.col('*')\n",
    "\n",
    "# so polars has an apache arrow at its core. followed by a rust layer on top, then followed by a python layer.\n",
    "# as long as possible, if you stick with Expressions, you remain at the rust layer and get speed benefits. \n",
    "\n",
    "# if you use the python later, yes you get some flexibility but it comes at the expense of speed.\n",
    "\n",
    "# df.select() is used to choose columns (you can give it multiple expressions as positional arguments, or even keyword expressions as \n",
    "# keyword arguments. the keys you use become the name(alias) for your columns\n",
    "df.select(pl.all()) # get all columns."
   ]
  },
  {
   "cell_type": "code",
   "execution_count": null,
   "id": "7b9864df",
   "metadata": {
    "jupyter": {
     "source_hidden": true
    }
   },
   "outputs": [],
   "source": [
    "df.select(pl.col('Tweet id')) # get all columns."
   ]
  },
  {
   "cell_type": "code",
   "execution_count": null,
   "id": "c25820ca",
   "metadata": {},
   "outputs": [],
   "source": [
    "# pl.col/pl.all is very flexible. Think of it as a where clause in a select statement.\n",
    "# you can actually select data types i.e. pl.col(pl.Float64) will return all f64 cols\n",
    "# exclude coloumns using exclude function, apply regex also on columns filtering. See examples below\n",
    "df.select(pl.all().exclude('Tweet id')) # select and where clause\n",
    "\n",
    "# pl.exclude is just a syntactic sugar over pl.all().exclude()\n",
    "df.select(pl.exclude(\"^Tweet\")) # remove all columns that begin with Tweet\n",
    "\n",
    "df.select(pl.exclude([pl.Float64])) # exclude Float64 columns. exclude can take a list\n",
    "\n",
    "df.select([\"impressions\"]).head()"
   ]
  },
  {
   "cell_type": "code",
   "execution_count": null,
   "id": "8c9d57a0-7355-4502-92e0-42a024db8e52",
   "metadata": {},
   "outputs": [],
   "source": [
    "# df.select(['impressions', 'impressions']) # polars doesnt allow duplicate columns\n",
    "\n",
    "# Workaround\n",
    "df.select(['impressions', pl.col('impressions').alias('impressions_2')]) # polars doesnt allow it"
   ]
  },
  {
   "cell_type": "code",
   "execution_count": null,
   "id": "6418be44-2e25-4262-b3e5-f405a7859782",
   "metadata": {},
   "outputs": [],
   "source": [
    "# select a column where all cell values are 0 if impressions is less than 100, or else 1\n",
    "# df.select(threshold=pl.pl.cols('impressions') > 100 #incomplete"
   ]
  },
  {
   "cell_type": "code",
   "execution_count": null,
   "id": "2ec4b4ce-2d4f-4e0f-b3be-b5a0e6258668",
   "metadata": {},
   "outputs": [],
   "source": [
    "# note that most operations return a copy of the dataframe and do not modify the original dataframe\n",
    "# with_columns(pl.lit('Q0).alias('Describe')) # with_columns means add a new column, pl.lit('Q0') means add a literal column, i.e. a column with Q0 as data.\n",
    "# and rename it to Describe\n",
    "df.quantile(0).with_columns(pl.lit('Q0').alias('Describe')).head()"
   ]
  },
  {
   "cell_type": "code",
   "execution_count": null,
   "id": "494bf3c4-7599-4223-a690-f9dc0d3f2000",
   "metadata": {},
   "outputs": [],
   "source": [
    "# add describe column at the beginning instead\n",
    "\n",
    "# DeprecationWarning: `NUMERIC_DTYPES` was deprecated in version 1.0.0. Define your own data type groups or use the `polars.selectors` module\n",
    "# for selecting columns of a certain data type.\n",
    "df = df.select([\n",
    "    pl.lit('Q1').alias('Describe'),\n",
    "    pl.col(pl.NUMERIC_DTYPES).quantile(0)\n",
    "])\n",
    "df"
   ]
  },
  {
   "cell_type": "code",
   "execution_count": null,
   "id": "d67368fb-ec24-4f99-be31-c58edfc100e5",
   "metadata": {},
   "outputs": [],
   "source": [
    "# Same as above but using selectors\n",
    "import polars.selectors as cs\n",
    "\n",
    "df = df.select([\n",
    "    pl.lit('Q0').alias('Describe'),\n",
    "    cs.by_dtype(pl.Float64).quantile(0)\n",
    "])\n",
    "df"
   ]
  },
  {
   "cell_type": "code",
   "execution_count": null,
   "id": "4250be32-ef79-41b7-afc0-a28b52c04006",
   "metadata": {},
   "outputs": [],
   "source": [
    "# Look at df.describe() command. We want to add a new statistic of Q0, Q0.25, Q0.5, Q0.75, Q1\n",
    "df.describe() # may be initialize the dataframe again and then see the clean output.\n"
   ]
  },
  {
   "cell_type": "code",
   "execution_count": null,
   "id": "6d8d176f-af98-48cb-90b8-23ff3e85a431",
   "metadata": {},
   "outputs": [],
   "source": [
    "# df.quantile(0).with_columns(pl.lit(f'Q0').alias('Describe')).select(pl.col('Describe'), pl.exclude('Describe'))\n",
    "# debug statement\n",
    "  \n",
    "\n",
    "# how we can do that. we can use pl.concat to concat multiple dataframes.\n",
    "# lets fetch the Q0, Q0.25, Q0.5, Q0.75, Q1 quantiles rows and a new column \"Describe\" (at the front) with values Q0, Q0.25, Q0.5, Q0.75, Q1 \n",
    "# then lets fetch the df.describe() dataframe and just contact both. Easy peasy!!.\n",
    "(pl\n",
    "  .concat(\n",
    "    [ \n",
    "        # 1st dataframe\n",
    "        *[df\n",
    "        .quantile(val)\n",
    "        .with_columns(pl.lit(f'Q{val}').alias('statistic')) # problem is that Describe will be added at the end. We need to move it to the beginning\n",
    "        .select(pl.col('statistic'), pl.exclude('statistic'))\n",
    "        for val in [0, 0.25, 0.5, 0.75, 1]\n",
    "        ],\n",
    "        # 6th dataframe (1st to 5th dataframes are for the quantiles\n",
    "        df.describe() \n",
    "    ],\n",
    "    how='vertical'\n",
    "  )\n",
    ")"
   ]
  },
  {
   "cell_type": "code",
   "execution_count": null,
   "id": "cae57320-48ef-4769-93f7-263f081c035a",
   "metadata": {},
   "outputs": [],
   "source": [
    "# lets just put this into a function and call dataframe.pipe(myfunction)\n",
    "\n",
    "def pd_describe(a_df: pl.DataFrame):\n",
    "    cols = ['statistic', *a_df.columns]\n",
    "    return (pl\n",
    "        .concat(\n",
    "            [ \n",
    "                # 1st dataframe\n",
    "                *[a_df\n",
    "                .quantile(val)\n",
    "                .with_columns(pl.lit(f'Q{val}').alias('statistic')) # problem is that Describe will be added at the end. We need to move it to the beginning\n",
    "                .select(cols)\n",
    "                for val in [0, 0.25, 0.5, 0.75, 1]\n",
    "                ],\n",
    "                # 6th dataframe (1st to 5th dataframes are for the quantiles\n",
    "                a_df.describe() \n",
    "            ],\n",
    "            how='vertical'\n",
    "          )\n",
    "     )"
   ]
  },
  {
   "cell_type": "code",
   "execution_count": null,
   "id": "65b04031-b644-414b-a092-641ccc7b8bd0",
   "metadata": {},
   "outputs": [],
   "source": [
    "# df.pipe offers a structured way to apply a sequence of user-defined functions (UDFs).\n",
    "df.pipe(pd_describe) # pd_describe this df as the a_df argument\n",
    "\n",
    "# your pd_describe function is a very handy way to look at statistics for any partial data in your data frame.\n",
    "# you could select just all the I64 columns and call pipe on it and it will give you statistics for that partial data. See example below\n"
   ]
  },
  {
   "cell_type": "code",
   "execution_count": null,
   "id": "64e7a342-a6f3-43bd-a503-2e6b199d9692",
   "metadata": {},
   "outputs": [],
   "source": [
    "# df.pipe offers a structured way to apply a sequence of user-defined functions (UDFs).\n",
    "df.select(pl.col(pl.Int64)).pipe(pd_describe)"
   ]
  },
  {
   "cell_type": "code",
   "execution_count": null,
   "id": "178a554e-af37-4d26-a9ca-dc199c368b0e",
   "metadata": {},
   "outputs": [],
   "source": [
    "# casting\n",
    "df.select(pl.col('impressions').cast(pl.Int32))"
   ]
  },
  {
   "cell_type": "code",
   "execution_count": null,
   "id": "8049dc94",
   "metadata": {},
   "outputs": [],
   "source": [
    "# stick the new Int32 impressinos column back in the main dataframe\n",
    "df.with_columns(pl.col('impressions').cast(pl.Int32))"
   ]
  },
  {
   "cell_type": "code",
   "execution_count": 111,
   "id": "f64208a5-590f-491a-ac30-18cf12c385af",
   "metadata": {},
   "outputs": [],
   "source": [
    "import numpy as np"
   ]
  },
  {
   "cell_type": "code",
   "execution_count": 112,
   "id": "3a7f6852-862b-4c06-b2c0-d6694586fc3c",
   "metadata": {},
   "outputs": [
    {
     "data": {
      "text/plain": [
       "iinfo(min=0, max=4294967295, dtype=uint32)"
      ]
     },
     "execution_count": 112,
     "metadata": {},
     "output_type": "execute_result"
    }
   ],
   "source": [
    "np.iinfo(np.uint32)"
   ]
  },
  {
   "cell_type": "code",
   "execution_count": 120,
   "id": "562c991c-f6f0-4694-8c6d-6e10397cc27c",
   "metadata": {},
   "outputs": [
    {
     "data": {
      "text/plain": [
       "['Tweet id',\n",
       " 'impressions',\n",
       " 'engagements',\n",
       " 'engagement rate',\n",
       " 'retweets',\n",
       " 'replies',\n",
       " 'likes',\n",
       " 'user profile clicks',\n",
       " 'url clicks',\n",
       " 'hashtag clicks',\n",
       " 'detail expands',\n",
       " 'permalink clicks',\n",
       " 'app opens',\n",
       " 'app installs',\n",
       " 'follows',\n",
       " 'email tweet',\n",
       " 'dial phone',\n",
       " 'media views',\n",
       " 'media engagements']"
      ]
     },
     "execution_count": 120,
     "metadata": {},
     "output_type": "execute_result"
    }
   ],
   "source": [
    "df.select(cs.numeric()).columns"
   ]
  },
  {
   "cell_type": "code",
   "execution_count": 121,
   "id": "e44aaa66-2749-461f-bbb0-0e11493665ba",
   "metadata": {},
   "outputs": [
    {
     "data": {
      "text/html": [
       "<div><style>\n",
       ".dataframe > thead > tr,\n",
       ".dataframe > tbody > tr {\n",
       "  text-align: right;\n",
       "  white-space: pre-wrap;\n",
       "}\n",
       "</style>\n",
       "<small>shape: (14, 9)</small><table border=\"1\" class=\"dataframe\"><thead><tr><th>engagement rate</th><th>replies</th><th>hashtag clicks</th><th>permalink clicks</th><th>app opens</th><th>app installs</th><th>follows</th><th>email tweet</th><th>dial phone</th></tr><tr><td>f64</td><td>f64</td><td>f64</td><td>f64</td><td>f64</td><td>f64</td><td>f64</td><td>f64</td><td>f64</td></tr></thead><tbody><tr><td>0.0</td><td>0.0</td><td>0.0</td><td>0.0</td><td>0.0</td><td>0.0</td><td>0.0</td><td>0.0</td><td>0.0</td></tr><tr><td>0.007064</td><td>0.0</td><td>0.0</td><td>0.0</td><td>0.0</td><td>0.0</td><td>0.0</td><td>0.0</td><td>0.0</td></tr><tr><td>0.016043</td><td>0.0</td><td>0.0</td><td>0.0</td><td>0.0</td><td>0.0</td><td>0.0</td><td>0.0</td><td>0.0</td></tr><tr><td>0.040902</td><td>1.0</td><td>0.0</td><td>0.0</td><td>0.0</td><td>0.0</td><td>0.0</td><td>0.0</td><td>0.0</td></tr><tr><td>0.484127</td><td>207.0</td><td>12.0</td><td>0.0</td><td>3.0</td><td>0.0</td><td>191.0</td><td>0.0</td><td>0.0</td></tr><tr><td>&hellip;</td><td>&hellip;</td><td>&hellip;</td><td>&hellip;</td><td>&hellip;</td><td>&hellip;</td><td>&hellip;</td><td>&hellip;</td><td>&hellip;</td></tr><tr><td>0.0</td><td>0.0</td><td>0.0</td><td>0.0</td><td>0.0</td><td>0.0</td><td>0.0</td><td>0.0</td><td>0.0</td></tr><tr><td>0.007064</td><td>0.0</td><td>0.0</td><td>0.0</td><td>0.0</td><td>0.0</td><td>0.0</td><td>0.0</td><td>0.0</td></tr><tr><td>0.016043</td><td>0.0</td><td>0.0</td><td>0.0</td><td>0.0</td><td>0.0</td><td>0.0</td><td>0.0</td><td>0.0</td></tr><tr><td>0.040902</td><td>1.0</td><td>0.0</td><td>0.0</td><td>0.0</td><td>0.0</td><td>0.0</td><td>0.0</td><td>0.0</td></tr><tr><td>0.484127</td><td>207.0</td><td>12.0</td><td>0.0</td><td>3.0</td><td>0.0</td><td>191.0</td><td>0.0</td><td>0.0</td></tr></tbody></table></div>"
      ],
      "text/plain": [
       "shape: (14, 9)\n",
       "┌─────────────────┬─────────┬─────────┬───────────┬───┬──────────┬─────────┬───────┬────────────┐\n",
       "│ engagement rate ┆ replies ┆ hashtag ┆ permalink ┆ … ┆ app      ┆ follows ┆ email ┆ dial phone │\n",
       "│ ---             ┆ ---     ┆ clicks  ┆ clicks    ┆   ┆ installs ┆ ---     ┆ tweet ┆ ---        │\n",
       "│ f64             ┆ f64     ┆ ---     ┆ ---       ┆   ┆ ---      ┆ f64     ┆ ---   ┆ f64        │\n",
       "│                 ┆         ┆ f64     ┆ f64       ┆   ┆ f64      ┆         ┆ f64   ┆            │\n",
       "╞═════════════════╪═════════╪═════════╪═══════════╪═══╪══════════╪═════════╪═══════╪════════════╡\n",
       "│ 0.0             ┆ 0.0     ┆ 0.0     ┆ 0.0       ┆ … ┆ 0.0      ┆ 0.0     ┆ 0.0   ┆ 0.0        │\n",
       "│ 0.007064        ┆ 0.0     ┆ 0.0     ┆ 0.0       ┆ … ┆ 0.0      ┆ 0.0     ┆ 0.0   ┆ 0.0        │\n",
       "│ 0.016043        ┆ 0.0     ┆ 0.0     ┆ 0.0       ┆ … ┆ 0.0      ┆ 0.0     ┆ 0.0   ┆ 0.0        │\n",
       "│ 0.040902        ┆ 1.0     ┆ 0.0     ┆ 0.0       ┆ … ┆ 0.0      ┆ 0.0     ┆ 0.0   ┆ 0.0        │\n",
       "│ 0.484127        ┆ 207.0   ┆ 12.0    ┆ 0.0       ┆ … ┆ 0.0      ┆ 191.0   ┆ 0.0   ┆ 0.0        │\n",
       "│ …               ┆ …       ┆ …       ┆ …         ┆ … ┆ …        ┆ …       ┆ …     ┆ …          │\n",
       "│ 0.0             ┆ 0.0     ┆ 0.0     ┆ 0.0       ┆ … ┆ 0.0      ┆ 0.0     ┆ 0.0   ┆ 0.0        │\n",
       "│ 0.007064        ┆ 0.0     ┆ 0.0     ┆ 0.0       ┆ … ┆ 0.0      ┆ 0.0     ┆ 0.0   ┆ 0.0        │\n",
       "│ 0.016043        ┆ 0.0     ┆ 0.0     ┆ 0.0       ┆ … ┆ 0.0      ┆ 0.0     ┆ 0.0   ┆ 0.0        │\n",
       "│ 0.040902        ┆ 1.0     ┆ 0.0     ┆ 0.0       ┆ … ┆ 0.0      ┆ 0.0     ┆ 0.0   ┆ 0.0        │\n",
       "│ 0.484127        ┆ 207.0   ┆ 12.0    ┆ 0.0       ┆ … ┆ 0.0      ┆ 191.0   ┆ 0.0   ┆ 0.0        │\n",
       "└─────────────────┴─────────┴─────────┴───────────┴───┴──────────┴─────────┴───────┴────────────┘"
      ]
     },
     "execution_count": 121,
     "metadata": {},
     "output_type": "execute_result"
    }
   ],
   "source": [
    "## \n",
    "(df\n",
    " .select(cs.numeric())  # take all the numeric cols\n",
    " .pipe(pd_describe) # do a describe on that\n",
    " .select([ # select numeric cols where max value is <= 255\n",
    "     pl.col(col)\n",
    "       for col in df.select(cs.numeric()).columns\n",
    "     if df[col].max() <= 255 \n",
    " ])\n",
    ") "
   ]
  },
  {
   "cell_type": "code",
   "execution_count": null,
   "id": "fb9b5e76-7cff-42a5-b24a-8ede575feb34",
   "metadata": {},
   "outputs": [],
   "source": [
    "# Laziness\n",
    "# in polars, you can actually create a chain of User defined operations on your dataframe and then hand it together to polars\n",
    "# polars will then analyze it, optimize it and run it as one big operations instead of running many smaller un-optimized operations"
   ]
  }
 ],
 "metadata": {
  "kernelspec": {
   "display_name": "Python 3 (ipykernel)",
   "language": "python",
   "name": "python3"
  },
  "language_info": {
   "codemirror_mode": {
    "name": "ipython",
    "version": 3
   },
   "file_extension": ".py",
   "mimetype": "text/x-python",
   "name": "python",
   "nbconvert_exporter": "python",
   "pygments_lexer": "ipython3",
   "version": "3.12.3"
  }
 },
 "nbformat": 4,
 "nbformat_minor": 5
}
