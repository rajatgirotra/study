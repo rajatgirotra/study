{
 "cells": [
  {
   "cell_type": "code",
   "execution_count": 1,
   "id": "b0632d09",
   "metadata": {},
   "outputs": [],
   "source": [
    "import numpy as np"
   ]
  },
  {
   "cell_type": "code",
   "execution_count": 2,
   "id": "56ae4156",
   "metadata": {},
   "outputs": [],
   "source": [
    "import polars as pl"
   ]
  },
  {
   "cell_type": "code",
   "execution_count": 3,
   "id": "b0261e64",
   "metadata": {
    "jupyter": {
     "source_hidden": true
    }
   },
   "outputs": [
    {
     "data": {
      "text/plain": [
       "'1.34.0'"
      ]
     },
     "execution_count": 3,
     "metadata": {},
     "output_type": "execute_result"
    }
   ],
   "source": [
    "pl.__version__"
   ]
  },
  {
   "cell_type": "code",
   "execution_count": 4,
   "id": "2d94a52c",
   "metadata": {},
   "outputs": [
    {
     "name": "stdout",
     "output_type": "stream",
     "text": [
      "--2025-10-16 06:50:48--  https://raw.githubusercontent.com/mattharrison/2023-Pycon-Polars/refs/heads/main/__mharrison__2020-2021.csv\n",
      "Resolving raw.githubusercontent.com (raw.githubusercontent.com)... 185.199.109.133, 185.199.111.133, 185.199.108.133, ...\n",
      "Connecting to raw.githubusercontent.com (raw.githubusercontent.com)|185.199.109.133|:443... connected.\n",
      "HTTP request sent, awaiting response... 200 OK\n",
      "Length: 1725101 (1.6M) [text/plain]\n",
      "Saving to: ‘__mharrison__2020-2021.csv.1’\n",
      "\n",
      "__mharrison__2020-2 100%[===================>]   1.64M  4.74MB/s    in 0.3s    \n",
      "\n",
      "2025-10-16 06:50:49 (4.74 MB/s) - ‘__mharrison__2020-2021.csv.1’ saved [1725101/1725101]\n",
      "\n"
     ]
    }
   ],
   "source": [
    "# should be the raw download page link\n",
    "!wget https://raw.githubusercontent.com/mattharrison/2023-Pycon-Polars/refs/heads/main/__mharrison__2020-2021.csv"
   ]
  },
  {
   "cell_type": "code",
   "execution_count": 5,
   "id": "75097300",
   "metadata": {},
   "outputs": [],
   "source": [
    "file = '__mharrison__2020-2021.csv'\n",
    "df = pl.read_csv(file)\n",
    "\n",
    "# or read it directly from url\n",
    "url = 'https://raw.githubusercontent.com/mattharrison/2023-Pycon-Polars/refs/heads/main/__mharrison__2020-2021.csv'\n",
    "df = pl.read_csv(url)"
   ]
  },
  {
   "cell_type": "code",
   "execution_count": 6,
   "id": "d259f771",
   "metadata": {},
   "outputs": [
    {
     "data": {
      "text/html": [
       "<div><style>\n",
       ".dataframe > thead > tr,\n",
       ".dataframe > tbody > tr {\n",
       "  text-align: right;\n",
       "  white-space: pre-wrap;\n",
       "}\n",
       "</style>\n",
       "<small>shape: (5_791, 40)</small><table border=\"1\" class=\"dataframe\"><thead><tr><th>Tweet id</th><th>Tweet permalink</th><th>Tweet text</th><th>time</th><th>impressions</th><th>engagements</th><th>engagement rate</th><th>retweets</th><th>replies</th><th>likes</th><th>user profile clicks</th><th>url clicks</th><th>hashtag clicks</th><th>detail expands</th><th>permalink clicks</th><th>app opens</th><th>app installs</th><th>follows</th><th>email tweet</th><th>dial phone</th><th>media views</th><th>media engagements</th><th>promoted impressions</th><th>promoted engagements</th><th>promoted engagement rate</th><th>promoted retweets</th><th>promoted replies</th><th>promoted likes</th><th>promoted user profile clicks</th><th>promoted url clicks</th><th>promoted hashtag clicks</th><th>promoted detail expands</th><th>promoted permalink clicks</th><th>promoted app opens</th><th>promoted app installs</th><th>promoted follows</th><th>promoted email tweet</th><th>promoted dial phone</th><th>promoted media views</th><th>promoted media engagements</th></tr><tr><td>i64</td><td>str</td><td>str</td><td>str</td><td>f64</td><td>f64</td><td>f64</td><td>f64</td><td>f64</td><td>f64</td><td>f64</td><td>f64</td><td>f64</td><td>f64</td><td>f64</td><td>i64</td><td>i64</td><td>i64</td><td>i64</td><td>i64</td><td>i64</td><td>i64</td><td>str</td><td>str</td><td>str</td><td>str</td><td>str</td><td>str</td><td>str</td><td>str</td><td>str</td><td>str</td><td>str</td><td>str</td><td>str</td><td>str</td><td>str</td><td>str</td><td>str</td><td>str</td></tr></thead><tbody><tr><td>1212580517905780737</td><td>&quot;https://twitter.com/__mharriso…</td><td>&quot;Sounds like a great topic! htt…</td><td>&quot;2020-01-02 03:44:00+00:00&quot;</td><td>1465.0</td><td>7.0</td><td>0.004778</td><td>0.0</td><td>0.0</td><td>3.0</td><td>3.0</td><td>0.0</td><td>0.0</td><td>1.0</td><td>0.0</td><td>0</td><td>0</td><td>0</td><td>0</td><td>0</td><td>0</td><td>0</td><td>null</td><td>null</td><td>null</td><td>null</td><td>null</td><td>null</td><td>null</td><td>null</td><td>null</td><td>null</td><td>null</td><td>null</td><td>null</td><td>null</td><td>null</td><td>null</td><td>null</td><td>null</td></tr><tr><td>1212582494828036097</td><td>&quot;https://twitter.com/__mharriso…</td><td>&quot;@FogleBird Looks like SLC. I c…</td><td>&quot;2020-01-02 03:52:00+00:00&quot;</td><td>154.0</td><td>3.0</td><td>0.019481</td><td>0.0</td><td>0.0</td><td>1.0</td><td>1.0</td><td>0.0</td><td>0.0</td><td>1.0</td><td>0.0</td><td>0</td><td>0</td><td>0</td><td>0</td><td>0</td><td>0</td><td>0</td><td>null</td><td>null</td><td>null</td><td>null</td><td>null</td><td>null</td><td>null</td><td>null</td><td>null</td><td>null</td><td>null</td><td>null</td><td>null</td><td>null</td><td>null</td><td>null</td><td>null</td><td>null</td></tr><tr><td>1212613735698690049</td><td>&quot;https://twitter.com/__mharriso…</td><td>&quot;@afilina That&#x27;s really amount …</td><td>&quot;2020-01-02 05:56:00+00:00&quot;</td><td>1024.0</td><td>6.0</td><td>0.005859</td><td>0.0</td><td>0.0</td><td>1.0</td><td>2.0</td><td>0.0</td><td>0.0</td><td>3.0</td><td>0.0</td><td>0</td><td>0</td><td>0</td><td>0</td><td>0</td><td>0</td><td>0</td><td>null</td><td>null</td><td>null</td><td>null</td><td>null</td><td>null</td><td>null</td><td>null</td><td>null</td><td>null</td><td>null</td><td>null</td><td>null</td><td>null</td><td>null</td><td>null</td><td>null</td><td>null</td></tr><tr><td>1212911749617242113</td><td>&quot;https://twitter.com/__mharriso…</td><td>&quot;@randal_olson I use anaconda w…</td><td>&quot;2020-01-03 01:41:00+00:00&quot;</td><td>1419.0</td><td>14.0</td><td>0.009866</td><td>0.0</td><td>1.0</td><td>5.0</td><td>7.0</td><td>0.0</td><td>0.0</td><td>1.0</td><td>0.0</td><td>0</td><td>0</td><td>0</td><td>0</td><td>0</td><td>0</td><td>0</td><td>null</td><td>null</td><td>null</td><td>null</td><td>null</td><td>null</td><td>null</td><td>null</td><td>null</td><td>null</td><td>null</td><td>null</td><td>null</td><td>null</td><td>null</td><td>null</td><td>null</td><td>null</td></tr><tr><td>1212920556028252160</td><td>&quot;https://twitter.com/__mharriso…</td><td>&quot;@AlSweigart Sometimes the stud…</td><td>&quot;2020-01-03 02:16:00+00:00&quot;</td><td>198.0</td><td>1.0</td><td>0.005051</td><td>0.0</td><td>0.0</td><td>1.0</td><td>0.0</td><td>0.0</td><td>0.0</td><td>0.0</td><td>0.0</td><td>0</td><td>0</td><td>0</td><td>0</td><td>0</td><td>0</td><td>0</td><td>null</td><td>null</td><td>null</td><td>null</td><td>null</td><td>null</td><td>null</td><td>null</td><td>null</td><td>null</td><td>null</td><td>null</td><td>null</td><td>null</td><td>null</td><td>null</td><td>null</td><td>null</td></tr><tr><td>&hellip;</td><td>&hellip;</td><td>&hellip;</td><td>&hellip;</td><td>&hellip;</td><td>&hellip;</td><td>&hellip;</td><td>&hellip;</td><td>&hellip;</td><td>&hellip;</td><td>&hellip;</td><td>&hellip;</td><td>&hellip;</td><td>&hellip;</td><td>&hellip;</td><td>&hellip;</td><td>&hellip;</td><td>&hellip;</td><td>&hellip;</td><td>&hellip;</td><td>&hellip;</td><td>&hellip;</td><td>&hellip;</td><td>&hellip;</td><td>&hellip;</td><td>&hellip;</td><td>&hellip;</td><td>&hellip;</td><td>&hellip;</td><td>&hellip;</td><td>&hellip;</td><td>&hellip;</td><td>&hellip;</td><td>&hellip;</td><td>&hellip;</td><td>&hellip;</td><td>&hellip;</td><td>&hellip;</td><td>&hellip;</td><td>&hellip;</td></tr><tr><td>1475300661851934721</td><td>&quot;https://twitter.com/__mharriso…</td><td>&quot;@allison_horst That&#x27;s awesome!&quot;</td><td>&quot;2021-12-27 03:01:00+00:00&quot;</td><td>986.0</td><td>1.0</td><td>0.001014</td><td>0.0</td><td>0.0</td><td>0.0</td><td>0.0</td><td>0.0</td><td>0.0</td><td>1.0</td><td>0.0</td><td>0</td><td>0</td><td>0</td><td>0</td><td>0</td><td>0</td><td>0</td><td>null</td><td>null</td><td>null</td><td>null</td><td>null</td><td>null</td><td>null</td><td>null</td><td>null</td><td>null</td><td>null</td><td>null</td><td>null</td><td>null</td><td>null</td><td>null</td><td>null</td><td>null</td></tr><tr><td>1475518143690801156</td><td>&quot;https://twitter.com/__mharriso…</td><td>&quot;@willmcgugan You need to find …</td><td>&quot;2021-12-27 17:25:00+00:00&quot;</td><td>1790.0</td><td>7.0</td><td>0.003911</td><td>0.0</td><td>0.0</td><td>3.0</td><td>1.0</td><td>0.0</td><td>0.0</td><td>3.0</td><td>0.0</td><td>0</td><td>0</td><td>0</td><td>0</td><td>0</td><td>0</td><td>0</td><td>null</td><td>null</td><td>null</td><td>null</td><td>null</td><td>null</td><td>null</td><td>null</td><td>null</td><td>null</td><td>null</td><td>null</td><td>null</td><td>null</td><td>null</td><td>null</td><td>null</td><td>null</td></tr><tr><td>1475891441243025408</td><td>&quot;https://twitter.com/__mharriso…</td><td>&quot;@posco Visiting Hawaii for the…</td><td>&quot;2021-12-28 18:08:00+00:00&quot;</td><td>1611.0</td><td>12.0</td><td>0.007449</td><td>0.0</td><td>0.0</td><td>4.0</td><td>4.0</td><td>0.0</td><td>0.0</td><td>4.0</td><td>0.0</td><td>0</td><td>0</td><td>0</td><td>0</td><td>0</td><td>0</td><td>0</td><td>null</td><td>null</td><td>null</td><td>null</td><td>null</td><td>null</td><td>null</td><td>null</td><td>null</td><td>null</td><td>null</td><td>null</td><td>null</td><td>null</td><td>null</td><td>null</td><td>null</td><td>null</td></tr><tr><td>1476453819751878656</td><td>&quot;https://twitter.com/__mharriso…</td><td>&quot;@johndsaunders My son just bui…</td><td>&quot;2021-12-30 07:23:00+00:00&quot;</td><td>1354.0</td><td>8.0</td><td>0.005908</td><td>0.0</td><td>0.0</td><td>2.0</td><td>4.0</td><td>0.0</td><td>0.0</td><td>2.0</td><td>0.0</td><td>0</td><td>0</td><td>0</td><td>0</td><td>0</td><td>0</td><td>0</td><td>null</td><td>null</td><td>null</td><td>null</td><td>null</td><td>null</td><td>null</td><td>null</td><td>null</td><td>null</td><td>null</td><td>null</td><td>null</td><td>null</td><td>null</td><td>null</td><td>null</td><td>null</td></tr><tr><td>1477024722051158018</td><td>&quot;https://twitter.com/__mharriso…</td><td>&quot;@tunguz Xgboost&quot;</td><td>&quot;2021-12-31 21:11:00+00:00&quot;</td><td>5041.0</td><td>63.0</td><td>0.012498</td><td>0.0</td><td>3.0</td><td>23.0</td><td>8.0</td><td>0.0</td><td>0.0</td><td>29.0</td><td>0.0</td><td>0</td><td>0</td><td>0</td><td>0</td><td>0</td><td>0</td><td>0</td><td>null</td><td>null</td><td>null</td><td>null</td><td>null</td><td>null</td><td>null</td><td>null</td><td>null</td><td>null</td><td>null</td><td>null</td><td>null</td><td>null</td><td>null</td><td>null</td><td>null</td><td>null</td></tr></tbody></table></div>"
      ],
      "text/plain": [
       "shape: (5_791, 40)\n",
       "┌───────────┬───────────┬───────────┬───────────┬───┬───────────┬───────────┬───────────┬──────────┐\n",
       "│ Tweet id  ┆ Tweet     ┆ Tweet     ┆ time      ┆ … ┆ promoted  ┆ promoted  ┆ promoted  ┆ promoted │\n",
       "│ ---       ┆ permalink ┆ text      ┆ ---       ┆   ┆ email     ┆ dial      ┆ media     ┆ media    │\n",
       "│ i64       ┆ ---       ┆ ---       ┆ str       ┆   ┆ tweet     ┆ phone     ┆ views     ┆ engageme │\n",
       "│           ┆ str       ┆ str       ┆           ┆   ┆ ---       ┆ ---       ┆ ---       ┆ nts      │\n",
       "│           ┆           ┆           ┆           ┆   ┆ str       ┆ str       ┆ str       ┆ ---      │\n",
       "│           ┆           ┆           ┆           ┆   ┆           ┆           ┆           ┆ str      │\n",
       "╞═══════════╪═══════════╪═══════════╪═══════════╪═══╪═══════════╪═══════════╪═══════════╪══════════╡\n",
       "│ 121258051 ┆ https://t ┆ Sounds    ┆ 2020-01-0 ┆ … ┆ null      ┆ null      ┆ null      ┆ null     │\n",
       "│ 790578073 ┆ witter.co ┆ like a    ┆ 2 03:44:0 ┆   ┆           ┆           ┆           ┆          │\n",
       "│ 7         ┆ m/__mharr ┆ great     ┆ 0+00:00   ┆   ┆           ┆           ┆           ┆          │\n",
       "│           ┆ iso…      ┆ topic!    ┆           ┆   ┆           ┆           ┆           ┆          │\n",
       "│           ┆           ┆ htt…      ┆           ┆   ┆           ┆           ┆           ┆          │\n",
       "│ 121258249 ┆ https://t ┆ @FogleBir ┆ 2020-01-0 ┆ … ┆ null      ┆ null      ┆ null      ┆ null     │\n",
       "│ 482803609 ┆ witter.co ┆ d Looks   ┆ 2 03:52:0 ┆   ┆           ┆           ┆           ┆          │\n",
       "│ 7         ┆ m/__mharr ┆ like SLC. ┆ 0+00:00   ┆   ┆           ┆           ┆           ┆          │\n",
       "│           ┆ iso…      ┆ I c…      ┆           ┆   ┆           ┆           ┆           ┆          │\n",
       "│ 121261373 ┆ https://t ┆ @afilina  ┆ 2020-01-0 ┆ … ┆ null      ┆ null      ┆ null      ┆ null     │\n",
       "│ 569869004 ┆ witter.co ┆ That's    ┆ 2 05:56:0 ┆   ┆           ┆           ┆           ┆          │\n",
       "│ 9         ┆ m/__mharr ┆ really    ┆ 0+00:00   ┆   ┆           ┆           ┆           ┆          │\n",
       "│           ┆ iso…      ┆ amount …  ┆           ┆   ┆           ┆           ┆           ┆          │\n",
       "│ 121291174 ┆ https://t ┆ @randal_o ┆ 2020-01-0 ┆ … ┆ null      ┆ null      ┆ null      ┆ null     │\n",
       "│ 961724211 ┆ witter.co ┆ lson I    ┆ 3 01:41:0 ┆   ┆           ┆           ┆           ┆          │\n",
       "│ 3         ┆ m/__mharr ┆ use       ┆ 0+00:00   ┆   ┆           ┆           ┆           ┆          │\n",
       "│           ┆ iso…      ┆ anaconda  ┆           ┆   ┆           ┆           ┆           ┆          │\n",
       "│           ┆           ┆ w…        ┆           ┆   ┆           ┆           ┆           ┆          │\n",
       "│ 121292055 ┆ https://t ┆ @AlSweiga ┆ 2020-01-0 ┆ … ┆ null      ┆ null      ┆ null      ┆ null     │\n",
       "│ 602825216 ┆ witter.co ┆ rt        ┆ 3 02:16:0 ┆   ┆           ┆           ┆           ┆          │\n",
       "│ 0         ┆ m/__mharr ┆ Sometimes ┆ 0+00:00   ┆   ┆           ┆           ┆           ┆          │\n",
       "│           ┆ iso…      ┆ the stud… ┆           ┆   ┆           ┆           ┆           ┆          │\n",
       "│ …         ┆ …         ┆ …         ┆ …         ┆ … ┆ …         ┆ …         ┆ …         ┆ …        │\n",
       "│ 147530066 ┆ https://t ┆ @allison_ ┆ 2021-12-2 ┆ … ┆ null      ┆ null      ┆ null      ┆ null     │\n",
       "│ 185193472 ┆ witter.co ┆ horst     ┆ 7 03:01:0 ┆   ┆           ┆           ┆           ┆          │\n",
       "│ 1         ┆ m/__mharr ┆ That's    ┆ 0+00:00   ┆   ┆           ┆           ┆           ┆          │\n",
       "│           ┆ iso…      ┆ awesome!  ┆           ┆   ┆           ┆           ┆           ┆          │\n",
       "│ 147551814 ┆ https://t ┆ @willmcgu ┆ 2021-12-2 ┆ … ┆ null      ┆ null      ┆ null      ┆ null     │\n",
       "│ 369080115 ┆ witter.co ┆ gan You   ┆ 7 17:25:0 ┆   ┆           ┆           ┆           ┆          │\n",
       "│ 6         ┆ m/__mharr ┆ need to   ┆ 0+00:00   ┆   ┆           ┆           ┆           ┆          │\n",
       "│           ┆ iso…      ┆ find …    ┆           ┆   ┆           ┆           ┆           ┆          │\n",
       "│ 147589144 ┆ https://t ┆ @posco    ┆ 2021-12-2 ┆ … ┆ null      ┆ null      ┆ null      ┆ null     │\n",
       "│ 124302540 ┆ witter.co ┆ Visiting  ┆ 8 18:08:0 ┆   ┆           ┆           ┆           ┆          │\n",
       "│ 8         ┆ m/__mharr ┆ Hawaii    ┆ 0+00:00   ┆   ┆           ┆           ┆           ┆          │\n",
       "│           ┆ iso…      ┆ for the…  ┆           ┆   ┆           ┆           ┆           ┆          │\n",
       "│ 147645381 ┆ https://t ┆ @johndsau ┆ 2021-12-3 ┆ … ┆ null      ┆ null      ┆ null      ┆ null     │\n",
       "│ 975187865 ┆ witter.co ┆ nders My  ┆ 0 07:23:0 ┆   ┆           ┆           ┆           ┆          │\n",
       "│ 6         ┆ m/__mharr ┆ son just  ┆ 0+00:00   ┆   ┆           ┆           ┆           ┆          │\n",
       "│           ┆ iso…      ┆ bui…      ┆           ┆   ┆           ┆           ┆           ┆          │\n",
       "│ 147702472 ┆ https://t ┆ @tunguz   ┆ 2021-12-3 ┆ … ┆ null      ┆ null      ┆ null      ┆ null     │\n",
       "│ 205115801 ┆ witter.co ┆ Xgboost   ┆ 1 21:11:0 ┆   ┆           ┆           ┆           ┆          │\n",
       "│ 8         ┆ m/__mharr ┆           ┆ 0+00:00   ┆   ┆           ┆           ┆           ┆          │\n",
       "│           ┆ iso…      ┆           ┆           ┆   ┆           ┆           ┆           ┆          │\n",
       "└───────────┴───────────┴───────────┴───────────┴───┴───────────┴───────────┴───────────┴──────────┘"
      ]
     },
     "execution_count": 6,
     "metadata": {},
     "output_type": "execute_result"
    }
   ],
   "source": [
    "df"
   ]
  },
  {
   "cell_type": "code",
   "execution_count": 7,
   "id": "c3538b65",
   "metadata": {
    "scrolled": true
   },
   "outputs": [
    {
     "data": {
      "text/plain": [
       "Schema([('Tweet id', Int64),\n",
       "        ('Tweet permalink', String),\n",
       "        ('Tweet text', String),\n",
       "        ('time', String),\n",
       "        ('impressions', Float64),\n",
       "        ('engagements', Float64),\n",
       "        ('engagement rate', Float64),\n",
       "        ('retweets', Float64),\n",
       "        ('replies', Float64),\n",
       "        ('likes', Float64),\n",
       "        ('user profile clicks', Float64),\n",
       "        ('url clicks', Float64),\n",
       "        ('hashtag clicks', Float64),\n",
       "        ('detail expands', Float64),\n",
       "        ('permalink clicks', Float64),\n",
       "        ('app opens', Int64),\n",
       "        ('app installs', Int64),\n",
       "        ('follows', Int64),\n",
       "        ('email tweet', Int64),\n",
       "        ('dial phone', Int64),\n",
       "        ('media views', Int64),\n",
       "        ('media engagements', Int64),\n",
       "        ('promoted impressions', String),\n",
       "        ('promoted engagements', String),\n",
       "        ('promoted engagement rate', String),\n",
       "        ('promoted retweets', String),\n",
       "        ('promoted replies', String),\n",
       "        ('promoted likes', String),\n",
       "        ('promoted user profile clicks', String),\n",
       "        ('promoted url clicks', String),\n",
       "        ('promoted hashtag clicks', String),\n",
       "        ('promoted detail expands', String),\n",
       "        ('promoted permalink clicks', String),\n",
       "        ('promoted app opens', String),\n",
       "        ('promoted app installs', String),\n",
       "        ('promoted follows', String),\n",
       "        ('promoted email tweet', String),\n",
       "        ('promoted dial phone', String),\n",
       "        ('promoted media views', String),\n",
       "        ('promoted media engagements', String)])"
      ]
     },
     "execution_count": 7,
     "metadata": {},
     "output_type": "execute_result"
    }
   ],
   "source": [
    "df.schema # sees column names and types"
   ]
  },
  {
   "cell_type": "code",
   "execution_count": 9,
   "id": "edfea8f9",
   "metadata": {
    "scrolled": true
   },
   "outputs": [
    {
     "data": {
      "text/html": [
       "<div><style>\n",
       ".dataframe > thead > tr,\n",
       ".dataframe > tbody > tr {\n",
       "  text-align: right;\n",
       "  white-space: pre-wrap;\n",
       "}\n",
       "</style>\n",
       "<small>shape: (9, 41)</small><table border=\"1\" class=\"dataframe\"><thead><tr><th>statistic</th><th>Tweet id</th><th>Tweet permalink</th><th>Tweet text</th><th>time</th><th>impressions</th><th>engagements</th><th>engagement rate</th><th>retweets</th><th>replies</th><th>likes</th><th>user profile clicks</th><th>url clicks</th><th>hashtag clicks</th><th>detail expands</th><th>permalink clicks</th><th>app opens</th><th>app installs</th><th>follows</th><th>email tweet</th><th>dial phone</th><th>media views</th><th>media engagements</th><th>promoted impressions</th><th>promoted engagements</th><th>promoted engagement rate</th><th>promoted retweets</th><th>promoted replies</th><th>promoted likes</th><th>promoted user profile clicks</th><th>promoted url clicks</th><th>promoted hashtag clicks</th><th>promoted detail expands</th><th>promoted permalink clicks</th><th>promoted app opens</th><th>promoted app installs</th><th>promoted follows</th><th>promoted email tweet</th><th>promoted dial phone</th><th>promoted media views</th><th>promoted media engagements</th></tr><tr><td>str</td><td>f64</td><td>str</td><td>str</td><td>str</td><td>f64</td><td>f64</td><td>f64</td><td>f64</td><td>f64</td><td>f64</td><td>f64</td><td>f64</td><td>f64</td><td>f64</td><td>f64</td><td>f64</td><td>f64</td><td>f64</td><td>f64</td><td>f64</td><td>f64</td><td>f64</td><td>str</td><td>str</td><td>str</td><td>str</td><td>str</td><td>str</td><td>str</td><td>str</td><td>str</td><td>str</td><td>str</td><td>str</td><td>str</td><td>str</td><td>str</td><td>str</td><td>str</td><td>str</td></tr></thead><tbody><tr><td>&quot;count&quot;</td><td>5791.0</td><td>&quot;5791&quot;</td><td>&quot;5791&quot;</td><td>&quot;5791&quot;</td><td>5791.0</td><td>5791.0</td><td>5791.0</td><td>5791.0</td><td>5791.0</td><td>5791.0</td><td>5791.0</td><td>5791.0</td><td>5791.0</td><td>5791.0</td><td>5791.0</td><td>5791.0</td><td>5791.0</td><td>5791.0</td><td>5791.0</td><td>5791.0</td><td>5791.0</td><td>5791.0</td><td>&quot;0&quot;</td><td>&quot;0&quot;</td><td>&quot;0&quot;</td><td>&quot;0&quot;</td><td>&quot;0&quot;</td><td>&quot;0&quot;</td><td>&quot;0&quot;</td><td>&quot;0&quot;</td><td>&quot;0&quot;</td><td>&quot;0&quot;</td><td>&quot;0&quot;</td><td>&quot;0&quot;</td><td>&quot;0&quot;</td><td>&quot;0&quot;</td><td>&quot;0&quot;</td><td>&quot;0&quot;</td><td>&quot;0&quot;</td><td>&quot;0&quot;</td></tr><tr><td>&quot;null_count&quot;</td><td>0.0</td><td>&quot;0&quot;</td><td>&quot;0&quot;</td><td>&quot;0&quot;</td><td>0.0</td><td>0.0</td><td>0.0</td><td>0.0</td><td>0.0</td><td>0.0</td><td>0.0</td><td>0.0</td><td>0.0</td><td>0.0</td><td>0.0</td><td>0.0</td><td>0.0</td><td>0.0</td><td>0.0</td><td>0.0</td><td>0.0</td><td>0.0</td><td>&quot;5791&quot;</td><td>&quot;5791&quot;</td><td>&quot;5791&quot;</td><td>&quot;5791&quot;</td><td>&quot;5791&quot;</td><td>&quot;5791&quot;</td><td>&quot;5791&quot;</td><td>&quot;5791&quot;</td><td>&quot;5791&quot;</td><td>&quot;5791&quot;</td><td>&quot;5791&quot;</td><td>&quot;5791&quot;</td><td>&quot;5791&quot;</td><td>&quot;5791&quot;</td><td>&quot;5791&quot;</td><td>&quot;5791&quot;</td><td>&quot;5791&quot;</td><td>&quot;5791&quot;</td></tr><tr><td>&quot;mean&quot;</td><td>1.3604e18</td><td>null</td><td>null</td><td>null</td><td>2297.820411</td><td>111.400967</td><td>0.034748</td><td>0.979796</td><td>1.124504</td><td>9.400622</td><td>20.594543</td><td>4.502331</td><td>0.019686</td><td>34.658436</td><td>0.0</td><td>0.001036</td><td>0.0</td><td>0.135901</td><td>0.0</td><td>0.0</td><td>39.868935</td><td>39.712485</td><td>null</td><td>null</td><td>null</td><td>null</td><td>null</td><td>null</td><td>null</td><td>null</td><td>null</td><td>null</td><td>null</td><td>null</td><td>null</td><td>null</td><td>null</td><td>null</td><td>null</td><td>null</td></tr><tr><td>&quot;std&quot;</td><td>6.8508e16</td><td>null</td><td>null</td><td>null</td><td>16414.560844</td><td>976.353689</td><td>0.050031</td><td>10.903919</td><td>6.322059</td><td>108.117865</td><td>436.521415</td><td>32.377223</td><td>0.302481</td><td>355.671163</td><td>0.0</td><td>0.045513</td><td>0.0</td><td>3.870531</td><td>0.0</td><td>0.0</td><td>333.838003</td><td>333.753866</td><td>null</td><td>null</td><td>null</td><td>null</td><td>null</td><td>null</td><td>null</td><td>null</td><td>null</td><td>null</td><td>null</td><td>null</td><td>null</td><td>null</td><td>null</td><td>null</td><td>null</td><td>null</td></tr><tr><td>&quot;min&quot;</td><td>1.2126e18</td><td>&quot;https://twitter.com/__mharriso…</td><td>&quot;&quot;i&quot; has a specific connotation…</td><td>&quot;2020-01-02 03:44:00+00:00&quot;</td><td>7.0</td><td>0.0</td><td>0.0</td><td>0.0</td><td>0.0</td><td>0.0</td><td>0.0</td><td>0.0</td><td>0.0</td><td>0.0</td><td>0.0</td><td>0.0</td><td>0.0</td><td>0.0</td><td>0.0</td><td>0.0</td><td>0.0</td><td>0.0</td><td>null</td><td>null</td><td>null</td><td>null</td><td>null</td><td>null</td><td>null</td><td>null</td><td>null</td><td>null</td><td>null</td><td>null</td><td>null</td><td>null</td><td>null</td><td>null</td><td>null</td><td>null</td></tr><tr><td>&quot;25%&quot;</td><td>1.3142e18</td><td>null</td><td>null</td><td>null</td><td>175.0</td><td>3.0</td><td>0.007064</td><td>0.0</td><td>0.0</td><td>0.0</td><td>0.0</td><td>0.0</td><td>0.0</td><td>1.0</td><td>0.0</td><td>0.0</td><td>0.0</td><td>0.0</td><td>0.0</td><td>0.0</td><td>0.0</td><td>0.0</td><td>null</td><td>null</td><td>null</td><td>null</td><td>null</td><td>null</td><td>null</td><td>null</td><td>null</td><td>null</td><td>null</td><td>null</td><td>null</td><td>null</td><td>null</td><td>null</td><td>null</td><td>null</td></tr><tr><td>&quot;50%&quot;</td><td>1.3589e18</td><td>null</td><td>null</td><td>null</td><td>612.0</td><td>7.0</td><td>0.016043</td><td>0.0</td><td>0.0</td><td>1.0</td><td>1.0</td><td>0.0</td><td>0.0</td><td>3.0</td><td>0.0</td><td>0.0</td><td>0.0</td><td>0.0</td><td>0.0</td><td>0.0</td><td>0.0</td><td>0.0</td><td>null</td><td>null</td><td>null</td><td>null</td><td>null</td><td>null</td><td>null</td><td>null</td><td>null</td><td>null</td><td>null</td><td>null</td><td>null</td><td>null</td><td>null</td><td>null</td><td>null</td><td>null</td></tr><tr><td>&quot;75%&quot;</td><td>1.4155e18</td><td>null</td><td>null</td><td>null</td><td>1617.0</td><td>25.0</td><td>0.040902</td><td>0.0</td><td>1.0</td><td>4.0</td><td>4.0</td><td>0.0</td><td>0.0</td><td>8.0</td><td>0.0</td><td>0.0</td><td>0.0</td><td>0.0</td><td>0.0</td><td>0.0</td><td>0.0</td><td>0.0</td><td>null</td><td>null</td><td>null</td><td>null</td><td>null</td><td>null</td><td>null</td><td>null</td><td>null</td><td>null</td><td>null</td><td>null</td><td>null</td><td>null</td><td>null</td><td>null</td><td>null</td><td>null</td></tr><tr><td>&quot;max&quot;</td><td>1.4770e18</td><td>&quot;https://twitter.com/__mharriso…</td><td>&quot;🤯🙏 https://t.co/AsLaS3Hrdv&quot;</td><td>&quot;2021-12-31 21:11:00+00:00&quot;</td><td>856749.0</td><td>45660.0</td><td>0.484127</td><td>465.0</td><td>207.0</td><td>5358.0</td><td>22393.0</td><td>1272.0</td><td>12.0</td><td>17078.0</td><td>0.0</td><td>3.0</td><td>0.0</td><td>191.0</td><td>0.0</td><td>0.0</td><td>16816.0</td><td>16816.0</td><td>null</td><td>null</td><td>null</td><td>null</td><td>null</td><td>null</td><td>null</td><td>null</td><td>null</td><td>null</td><td>null</td><td>null</td><td>null</td><td>null</td><td>null</td><td>null</td><td>null</td><td>null</td></tr></tbody></table></div>"
      ],
      "text/plain": [
       "shape: (9, 41)\n",
       "┌───────────┬───────────┬───────────┬───────────┬───┬───────────┬───────────┬───────────┬──────────┐\n",
       "│ statistic ┆ Tweet id  ┆ Tweet     ┆ Tweet     ┆ … ┆ promoted  ┆ promoted  ┆ promoted  ┆ promoted │\n",
       "│ ---       ┆ ---       ┆ permalink ┆ text      ┆   ┆ email     ┆ dial      ┆ media     ┆ media    │\n",
       "│ str       ┆ f64       ┆ ---       ┆ ---       ┆   ┆ tweet     ┆ phone     ┆ views     ┆ engageme │\n",
       "│           ┆           ┆ str       ┆ str       ┆   ┆ ---       ┆ ---       ┆ ---       ┆ nts      │\n",
       "│           ┆           ┆           ┆           ┆   ┆ str       ┆ str       ┆ str       ┆ ---      │\n",
       "│           ┆           ┆           ┆           ┆   ┆           ┆           ┆           ┆ str      │\n",
       "╞═══════════╪═══════════╪═══════════╪═══════════╪═══╪═══════════╪═══════════╪═══════════╪══════════╡\n",
       "│ count     ┆ 5791.0    ┆ 5791      ┆ 5791      ┆ … ┆ 0         ┆ 0         ┆ 0         ┆ 0        │\n",
       "│ null_coun ┆ 0.0       ┆ 0         ┆ 0         ┆ … ┆ 5791      ┆ 5791      ┆ 5791      ┆ 5791     │\n",
       "│ t         ┆           ┆           ┆           ┆   ┆           ┆           ┆           ┆          │\n",
       "│ mean      ┆ 1.3604e18 ┆ null      ┆ null      ┆ … ┆ null      ┆ null      ┆ null      ┆ null     │\n",
       "│ std       ┆ 6.8508e16 ┆ null      ┆ null      ┆ … ┆ null      ┆ null      ┆ null      ┆ null     │\n",
       "│ min       ┆ 1.2126e18 ┆ https://t ┆ \"i\" has a ┆ … ┆ null      ┆ null      ┆ null      ┆ null     │\n",
       "│           ┆           ┆ witter.co ┆ specific  ┆   ┆           ┆           ┆           ┆          │\n",
       "│           ┆           ┆ m/__mharr ┆ connotati ┆   ┆           ┆           ┆           ┆          │\n",
       "│           ┆           ┆ iso…      ┆ on…       ┆   ┆           ┆           ┆           ┆          │\n",
       "│ 25%       ┆ 1.3142e18 ┆ null      ┆ null      ┆ … ┆ null      ┆ null      ┆ null      ┆ null     │\n",
       "│ 50%       ┆ 1.3589e18 ┆ null      ┆ null      ┆ … ┆ null      ┆ null      ┆ null      ┆ null     │\n",
       "│ 75%       ┆ 1.4155e18 ┆ null      ┆ null      ┆ … ┆ null      ┆ null      ┆ null      ┆ null     │\n",
       "│ max       ┆ 1.4770e18 ┆ https://t ┆ 🤯🙏 http ┆ … ┆ null      ┆ null      ┆ null      ┆ null     │\n",
       "│           ┆           ┆ witter.co ┆ s://t.co/ ┆   ┆           ┆           ┆           ┆          │\n",
       "│           ┆           ┆ m/__mharr ┆ AsLaS3Hrd ┆   ┆           ┆           ┆           ┆          │\n",
       "│           ┆           ┆ iso…      ┆ v         ┆   ┆           ┆           ┆           ┆          │\n",
       "└───────────┴───────────┴───────────┴───────────┴───┴───────────┴───────────┴───────────┴──────────┘"
      ]
     },
     "execution_count": 9,
     "metadata": {},
     "output_type": "execute_result"
    }
   ],
   "source": [
    "df.describe() # some metadata about your dataframe. Not all the information may be of importance. but it does tell\n",
    "# you the number of nulls in each column\n"
   ]
  },
  {
   "cell_type": "code",
   "execution_count": 10,
   "id": "0d9f540f",
   "metadata": {},
   "outputs": [
    {
     "data": {
      "text/html": [
       "<div><style>\n",
       ".dataframe > thead > tr,\n",
       ".dataframe > tbody > tr {\n",
       "  text-align: right;\n",
       "  white-space: pre-wrap;\n",
       "}\n",
       "</style>\n",
       "<small>shape: (1, 40)</small><table border=\"1\" class=\"dataframe\"><thead><tr><th>Tweet id</th><th>Tweet permalink</th><th>Tweet text</th><th>time</th><th>impressions</th><th>engagements</th><th>engagement rate</th><th>retweets</th><th>replies</th><th>likes</th><th>user profile clicks</th><th>url clicks</th><th>hashtag clicks</th><th>detail expands</th><th>permalink clicks</th><th>app opens</th><th>app installs</th><th>follows</th><th>email tweet</th><th>dial phone</th><th>media views</th><th>media engagements</th><th>promoted impressions</th><th>promoted engagements</th><th>promoted engagement rate</th><th>promoted retweets</th><th>promoted replies</th><th>promoted likes</th><th>promoted user profile clicks</th><th>promoted url clicks</th><th>promoted hashtag clicks</th><th>promoted detail expands</th><th>promoted permalink clicks</th><th>promoted app opens</th><th>promoted app installs</th><th>promoted follows</th><th>promoted email tweet</th><th>promoted dial phone</th><th>promoted media views</th><th>promoted media engagements</th></tr><tr><td>f64</td><td>str</td><td>str</td><td>str</td><td>f64</td><td>f64</td><td>f64</td><td>f64</td><td>f64</td><td>f64</td><td>f64</td><td>f64</td><td>f64</td><td>f64</td><td>f64</td><td>f64</td><td>f64</td><td>f64</td><td>f64</td><td>f64</td><td>f64</td><td>f64</td><td>str</td><td>str</td><td>str</td><td>str</td><td>str</td><td>str</td><td>str</td><td>str</td><td>str</td><td>str</td><td>str</td><td>str</td><td>str</td><td>str</td><td>str</td><td>str</td><td>str</td><td>str</td></tr></thead><tbody><tr><td>1.3142e18</td><td>null</td><td>null</td><td>null</td><td>175.0</td><td>3.0</td><td>0.007064</td><td>0.0</td><td>0.0</td><td>0.0</td><td>0.0</td><td>0.0</td><td>0.0</td><td>1.0</td><td>0.0</td><td>0.0</td><td>0.0</td><td>0.0</td><td>0.0</td><td>0.0</td><td>0.0</td><td>0.0</td><td>null</td><td>null</td><td>null</td><td>null</td><td>null</td><td>null</td><td>null</td><td>null</td><td>null</td><td>null</td><td>null</td><td>null</td><td>null</td><td>null</td><td>null</td><td>null</td><td>null</td><td>null</td></tr></tbody></table></div>"
      ],
      "text/plain": [
       "shape: (1, 40)\n",
       "┌───────────┬─────────────┬───────┬──────┬───┬─────────────┬─────────────┬────────────┬────────────┐\n",
       "│ Tweet id  ┆ Tweet       ┆ Tweet ┆ time ┆ … ┆ promoted    ┆ promoted    ┆ promoted   ┆ promoted   │\n",
       "│ ---       ┆ permalink   ┆ text  ┆ ---  ┆   ┆ email tweet ┆ dial phone  ┆ media      ┆ media enga │\n",
       "│ f64       ┆ ---         ┆ ---   ┆ str  ┆   ┆ ---         ┆ ---         ┆ views      ┆ gements    │\n",
       "│           ┆ str         ┆ str   ┆      ┆   ┆ str         ┆ str         ┆ ---        ┆ ---        │\n",
       "│           ┆             ┆       ┆      ┆   ┆             ┆             ┆ str        ┆ str        │\n",
       "╞═══════════╪═════════════╪═══════╪══════╪═══╪═════════════╪═════════════╪════════════╪════════════╡\n",
       "│ 1.3142e18 ┆ null        ┆ null  ┆ null ┆ … ┆ null        ┆ null        ┆ null       ┆ null       │\n",
       "└───────────┴─────────────┴───────┴──────┴───┴─────────────┴─────────────┴────────────┴────────────┘"
      ]
     },
     "execution_count": 10,
     "metadata": {},
     "output_type": "execute_result"
    }
   ],
   "source": [
    "df.quantile(0.25) # get the row at the 25% quantile"
   ]
  },
  {
   "cell_type": "code",
   "execution_count": 16,
   "id": "01032aba",
   "metadata": {},
   "outputs": [
    {
     "name": "stdout",
     "output_type": "stream",
     "text": [
      "first row\n",
      " shape: (1, 40)\n",
      "┌───────────┬───────────┬───────────┬───────────┬───┬───────────┬───────────┬───────────┬──────────┐\n",
      "│ Tweet id  ┆ Tweet     ┆ Tweet     ┆ time      ┆ … ┆ promoted  ┆ promoted  ┆ promoted  ┆ promoted │\n",
      "│ ---       ┆ permalink ┆ text      ┆ ---       ┆   ┆ email     ┆ dial      ┆ media     ┆ media    │\n",
      "│ i64       ┆ ---       ┆ ---       ┆ str       ┆   ┆ tweet     ┆ phone     ┆ views     ┆ engageme │\n",
      "│           ┆ str       ┆ str       ┆           ┆   ┆ ---       ┆ ---       ┆ ---       ┆ nts      │\n",
      "│           ┆           ┆           ┆           ┆   ┆ str       ┆ str       ┆ str       ┆ ---      │\n",
      "│           ┆           ┆           ┆           ┆   ┆           ┆           ┆           ┆ str      │\n",
      "╞═══════════╪═══════════╪═══════════╪═══════════╪═══╪═══════════╪═══════════╪═══════════╪══════════╡\n",
      "│ 121258051 ┆ https://t ┆ Sounds    ┆ 2020-01-0 ┆ … ┆ null      ┆ null      ┆ null      ┆ null     │\n",
      "│ 790578073 ┆ witter.co ┆ like a    ┆ 2 03:44:0 ┆   ┆           ┆           ┆           ┆          │\n",
      "│ 7         ┆ m/__mharr ┆ great     ┆ 0+00:00   ┆   ┆           ┆           ┆           ┆          │\n",
      "│           ┆ iso…      ┆ topic!    ┆           ┆   ┆           ┆           ┆           ┆          │\n",
      "│           ┆           ┆ htt…      ┆           ┆   ┆           ┆           ┆           ┆          │\n",
      "└───────────┴───────────┴───────────┴───────────┴───┴───────────┴───────────┴───────────┴──────────┘\n",
      "second row\n",
      " shape: (1, 40)\n",
      "┌───────────┬───────────┬───────────┬───────────┬───┬───────────┬───────────┬───────────┬──────────┐\n",
      "│ Tweet id  ┆ Tweet     ┆ Tweet     ┆ time      ┆ … ┆ promoted  ┆ promoted  ┆ promoted  ┆ promoted │\n",
      "│ ---       ┆ permalink ┆ text      ┆ ---       ┆   ┆ email     ┆ dial      ┆ media     ┆ media    │\n",
      "│ i64       ┆ ---       ┆ ---       ┆ str       ┆   ┆ tweet     ┆ phone     ┆ views     ┆ engageme │\n",
      "│           ┆ str       ┆ str       ┆           ┆   ┆ ---       ┆ ---       ┆ ---       ┆ nts      │\n",
      "│           ┆           ┆           ┆           ┆   ┆ str       ┆ str       ┆ str       ┆ ---      │\n",
      "│           ┆           ┆           ┆           ┆   ┆           ┆           ┆           ┆ str      │\n",
      "╞═══════════╪═══════════╪═══════════╪═══════════╪═══╪═══════════╪═══════════╪═══════════╪══════════╡\n",
      "│ 121258249 ┆ https://t ┆ @FogleBir ┆ 2020-01-0 ┆ … ┆ null      ┆ null      ┆ null      ┆ null     │\n",
      "│ 482803609 ┆ witter.co ┆ d Looks   ┆ 2 03:52:0 ┆   ┆           ┆           ┆           ┆          │\n",
      "│ 7         ┆ m/__mharr ┆ like SLC. ┆ 0+00:00   ┆   ┆           ┆           ┆           ┆          │\n",
      "│           ┆ iso…      ┆ I c…      ┆           ┆   ┆           ┆           ┆           ┆          │\n",
      "└───────────┴───────────┴───────────┴───────────┴───┴───────────┴───────────┴───────────┴──────────┘\n",
      "row 1-4\n",
      " shape: (4, 40)\n",
      "┌───────────┬───────────┬───────────┬───────────┬───┬───────────┬───────────┬───────────┬──────────┐\n",
      "│ Tweet id  ┆ Tweet     ┆ Tweet     ┆ time      ┆ … ┆ promoted  ┆ promoted  ┆ promoted  ┆ promoted │\n",
      "│ ---       ┆ permalink ┆ text      ┆ ---       ┆   ┆ email     ┆ dial      ┆ media     ┆ media    │\n",
      "│ i64       ┆ ---       ┆ ---       ┆ str       ┆   ┆ tweet     ┆ phone     ┆ views     ┆ engageme │\n",
      "│           ┆ str       ┆ str       ┆           ┆   ┆ ---       ┆ ---       ┆ ---       ┆ nts      │\n",
      "│           ┆           ┆           ┆           ┆   ┆ str       ┆ str       ┆ str       ┆ ---      │\n",
      "│           ┆           ┆           ┆           ┆   ┆           ┆           ┆           ┆ str      │\n",
      "╞═══════════╪═══════════╪═══════════╪═══════════╪═══╪═══════════╪═══════════╪═══════════╪══════════╡\n",
      "│ 121258249 ┆ https://t ┆ @FogleBir ┆ 2020-01-0 ┆ … ┆ null      ┆ null      ┆ null      ┆ null     │\n",
      "│ 482803609 ┆ witter.co ┆ d Looks   ┆ 2 03:52:0 ┆   ┆           ┆           ┆           ┆          │\n",
      "│ 7         ┆ m/__mharr ┆ like SLC. ┆ 0+00:00   ┆   ┆           ┆           ┆           ┆          │\n",
      "│           ┆ iso…      ┆ I c…      ┆           ┆   ┆           ┆           ┆           ┆          │\n",
      "│ 121261373 ┆ https://t ┆ @afilina  ┆ 2020-01-0 ┆ … ┆ null      ┆ null      ┆ null      ┆ null     │\n",
      "│ 569869004 ┆ witter.co ┆ That's    ┆ 2 05:56:0 ┆   ┆           ┆           ┆           ┆          │\n",
      "│ 9         ┆ m/__mharr ┆ really    ┆ 0+00:00   ┆   ┆           ┆           ┆           ┆          │\n",
      "│           ┆ iso…      ┆ amount …  ┆           ┆   ┆           ┆           ┆           ┆          │\n",
      "│ 121291174 ┆ https://t ┆ @randal_o ┆ 2020-01-0 ┆ … ┆ null      ┆ null      ┆ null      ┆ null     │\n",
      "│ 961724211 ┆ witter.co ┆ lson I    ┆ 3 01:41:0 ┆   ┆           ┆           ┆           ┆          │\n",
      "│ 3         ┆ m/__mharr ┆ use       ┆ 0+00:00   ┆   ┆           ┆           ┆           ┆          │\n",
      "│           ┆ iso…      ┆ anaconda  ┆           ┆   ┆           ┆           ┆           ┆          │\n",
      "│           ┆           ┆ w…        ┆           ┆   ┆           ┆           ┆           ┆          │\n",
      "│ 121292055 ┆ https://t ┆ @AlSweiga ┆ 2020-01-0 ┆ … ┆ null      ┆ null      ┆ null      ┆ null     │\n",
      "│ 602825216 ┆ witter.co ┆ rt        ┆ 3 02:16:0 ┆   ┆           ┆           ┆           ┆          │\n",
      "│ 0         ┆ m/__mharr ┆ Sometimes ┆ 0+00:00   ┆   ┆           ┆           ┆           ┆          │\n",
      "│           ┆ iso…      ┆ the stud… ┆           ┆   ┆           ┆           ┆           ┆          │\n",
      "└───────────┴───────────┴───────────┴───────────┴───┴───────────┴───────────┴───────────┴──────────┘\n"
     ]
    }
   ],
   "source": [
    "print(f'first row\\n {df[0]}') # get first row\n",
    "print(f'second row\\n {df[1]}') # get second row\n",
    "print(f'row 1-4\\n {df[1:5]}') # get first row"
   ]
  },
  {
   "cell_type": "code",
   "execution_count": 14,
   "id": "9a9f58ca",
   "metadata": {},
   "outputs": [
    {
     "name": "stdout",
     "output_type": "stream",
     "text": [
      "['Any', 'Array', 'BasePartitionContext', 'Binary', 'Boolean', 'Catalog', 'Categorical', 'Categories', 'CompatLevel', 'Config', 'CredentialProvider', 'CredentialProviderAWS', 'CredentialProviderAzure', 'CredentialProviderFunction', 'CredentialProviderFunctionReturn', 'CredentialProviderGCP', 'DataFrame', 'DataType', 'DataTypeExpr', 'Date', 'Datetime', 'Decimal', 'Duration', 'Enum', 'Expr', 'Field', 'Float32', 'Float64', 'GPUEngine', 'Int128', 'Int16', 'Int32', 'Int64', 'Int8', 'KeyedPartition', 'KeyedPartitionContext', 'LazyFrame', 'List', 'Null', 'Object', 'PartitionByKey', 'PartitionMaxSize', 'PartitionParted', 'QueryOptFlags', 'SQLContext', 'ScanCastOptions', 'Schema', 'Series', 'String', 'StringCache', 'Struct', 'TYPE_CHECKING', 'Time', 'UInt128', 'UInt16', 'UInt32', 'UInt64', 'UInt8', 'Unknown', 'Utf8', '__all__', '__annotations__', '__builtins__', '__cached__', '__doc__', '__file__', '__getattr__', '__loader__', '__name__', '__package__', '__path__', '__register_startup_deps', '__spec__', '__version__', '_cpu_check', '_dependencies', '_plr', '_reexport', '_typing', '_utils', 'align_frames', 'all', 'all_horizontal', 'any', 'any_horizontal', 'api', 'approx_n_unique', 'arange', 'arctan2', 'arctan2d', 'arg_sort_by', 'arg_where', 'build_info', 'business_day_count', 'catalog', 'coalesce', 'col', 'collect_all', 'collect_all_async', 'concat', 'concat_arr', 'concat_list', 'concat_str', 'config', 'contextlib', 'convert', 'corr', 'count', 'cov', 'cum_count', 'cum_fold', 'cum_reduce', 'cum_sum', 'cum_sum_horizontal', 'dataframe', 'datatype_expr', 'datatypes', 'date', 'date_range', 'date_ranges', 'datetime', 'datetime_range', 'datetime_ranges', 'defer', 'disable_string_cache', 'dtype_of', 'duration', 'element', 'enable_string_cache', 'escape_regex', 'exceptions', 'exclude', 'explain_all', 'expr', 'field', 'first', 'fold', 'format', 'from_arrow', 'from_dataframe', 'from_dict', 'from_dicts', 'from_epoch', 'from_numpy', 'from_pandas', 'from_records', 'from_repr', 'from_torch', 'functions', 'get_index_type', 'groups', 'head', 'implode', 'int_range', 'int_ranges', 'interchange', 'io', 'jemalloc_conf', 'json_normalize', 'last', 'lazyframe', 'len', 'linear_space', 'linear_spaces', 'lit', 'map_batches', 'map_groups', 'max', 'max_horizontal', 'mean', 'mean_horizontal', 'median', 'meta', 'min', 'min_horizontal', 'n_unique', 'nth', 'ones', 'os', 'override', 'plr', 'plugins', 'quantile', 'read_avro', 'read_clipboard', 'read_csv', 'read_csv_batched', 'read_database', 'read_database_uri', 'read_delta', 'read_excel', 'read_ipc', 'read_ipc_schema', 'read_ipc_stream', 'read_json', 'read_ndjson', 'read_ods', 'read_parquet', 'read_parquet_metadata', 'read_parquet_schema', 'reduce', 'repeat', 'rolling_corr', 'rolling_cov', 'row_index', 'scan_csv', 'scan_delta', 'scan_iceberg', 'scan_ipc', 'scan_ndjson', 'scan_parquet', 'scan_pyarrow_dataset', 'schema', 'select', 'selectors', 'self_dtype', 'series', 'set_random_seed', 'show_versions', 'sql', 'sql_expr', 'std', 'string_cache', 'struct', 'struct_with_fields', 'sum', 'sum_horizontal', 'tail', 'thread_pool_size', 'threadpool_size', 'time', 'time_range', 'time_ranges', 'using_string_cache', 'var', 'when', 'wrap_df', 'wrap_s', 'zeros']\n"
     ]
    }
   ],
   "source": [
    "print(dir(pl)) # see things available in pl package"
   ]
  },
  {
   "cell_type": "code",
   "execution_count": 17,
   "id": "4df5916a",
   "metadata": {},
   "outputs": [
    {
     "name": "stdout",
     "output_type": "stream",
     "text": [
      "<class 'polars.expr.expr.Expr'>\n",
      "['__abs__', '__add__', '__and__', '__annotations__', '__array_ufunc__', '__bool__', '__class__', '__delattr__', '__dict__', '__dir__', '__doc__', '__eq__', '__floordiv__', '__format__', '__ge__', '__getattribute__', '__getstate__', '__gt__', '__hash__', '__init__', '__init_subclass__', '__invert__', '__le__', '__lt__', '__mod__', '__module__', '__mul__', '__ne__', '__neg__', '__new__', '__or__', '__pos__', '__pow__', '__radd__', '__rand__', '__reduce__', '__reduce_ex__', '__repr__', '__rfloordiv__', '__rmod__', '__rmul__', '__ror__', '__rpow__', '__rsub__', '__rtruediv__', '__rxor__', '__setattr__', '__setstate__', '__sizeof__', '__str__', '__sub__', '__subclasshook__', '__truediv__', '__weakref__', '__xor__', '_accessors', '_from_pyexpr', '_pyexpr', '_repr_html_', '_row_decode', '_row_encode', '_skip_batch_predicate', 'abs', 'add', 'agg_groups', 'alias', 'all', 'and_', 'any', 'append', 'approx_n_unique', 'arccos', 'arccosh', 'arcsin', 'arcsinh', 'arctan', 'arctanh', 'arg_max', 'arg_min', 'arg_sort', 'arg_true', 'arg_unique', 'arr', 'backward_fill', 'bin', 'bitwise_and', 'bitwise_count_ones', 'bitwise_count_zeros', 'bitwise_leading_ones', 'bitwise_leading_zeros', 'bitwise_or', 'bitwise_trailing_ones', 'bitwise_trailing_zeros', 'bitwise_xor', 'bottom_k', 'bottom_k_by', 'cast', 'cat', 'cbrt', 'ceil', 'clip', 'cos', 'cosh', 'cot', 'count', 'cum_count', 'cum_max', 'cum_min', 'cum_prod', 'cum_sum', 'cumulative_eval', 'cut', 'degrees', 'deserialize', 'diff', 'dot', 'drop_nans', 'drop_nulls', 'dt', 'entropy', 'eq', 'eq_missing', 'ewm_mean', 'ewm_mean_by', 'ewm_std', 'ewm_var', 'exclude', 'exp', 'explode', 'extend_constant', 'fill_nan', 'fill_null', 'filter', 'first', 'flatten', 'floor', 'floordiv', 'forward_fill', 'from_json', 'gather', 'gather_every', 'ge', 'get', 'gt', 'has_nulls', 'hash', 'head', 'hist', 'implode', 'index_of', 'inspect', 'interpolate', 'interpolate_by', 'is_between', 'is_close', 'is_duplicated', 'is_finite', 'is_first_distinct', 'is_in', 'is_infinite', 'is_last_distinct', 'is_nan', 'is_not_nan', 'is_not_null', 'is_null', 'is_unique', 'kurtosis', 'last', 'le', 'len', 'limit', 'list', 'log', 'log10', 'log1p', 'lower_bound', 'lt', 'map_batches', 'map_elements', 'max', 'mean', 'median', 'meta', 'min', 'mod', 'mode', 'mul', 'n_unique', 'name', 'nan_max', 'nan_min', 'ne', 'ne_missing', 'neg', 'not_', 'null_count', 'or_', 'over', 'pct_change', 'peak_max', 'peak_min', 'pipe', 'pow', 'product', 'qcut', 'quantile', 'radians', 'rank', 'rechunk', 'register_plugin', 'reinterpret', 'repeat_by', 'replace', 'replace_strict', 'reshape', 'reverse', 'rle', 'rle_id', 'rolling', 'rolling_kurtosis', 'rolling_map', 'rolling_max', 'rolling_max_by', 'rolling_mean', 'rolling_mean_by', 'rolling_median', 'rolling_median_by', 'rolling_min', 'rolling_min_by', 'rolling_quantile', 'rolling_quantile_by', 'rolling_skew', 'rolling_std', 'rolling_std_by', 'rolling_sum', 'rolling_sum_by', 'rolling_var', 'rolling_var_by', 'round', 'round_sig_figs', 'sample', 'search_sorted', 'set_sorted', 'shift', 'shrink_dtype', 'shuffle', 'sign', 'sin', 'sinh', 'skew', 'slice', 'sort', 'sort_by', 'sqrt', 'std', 'str', 'struct', 'sub', 'sum', 'tail', 'tan', 'tanh', 'to_physical', 'top_k', 'top_k_by', 'truediv', 'unique', 'unique_counts', 'upper_bound', 'value_counts', 'var', 'where', 'xor']\n"
     ]
    }
   ],
   "source": [
    "# polars is written from the ground up. Under the python code in polars is a Rust layer.\n",
    "# to get the speed and performance benefits, polars introuced \"expressions\" i.e polars.expr.expr.Expr. Expressions are just a way to describe\n",
    "# what you intend to do. It is just a way to hold your execution plan. Expressions don't hold any data.\n",
    "# so Expressions enable deferred computation — they are a recipe for how to compute something on a DataFrame or Series.\n",
    "# You can think of it as a lazy formula that Polars will evaluate later when needed. Polars uses expressions to build efficient,\n",
    "# vectorized, and parallel query plans — much like SQL or Spark.\n",
    "\n",
    "# These expressions can be either evaluated eagerly or lazily. I will show later how we can create lazy data frames and inspect our evaluation\n",
    "# plan using api's such as \"describe_plan(), describe_optimized_plan(), and explain()\"\n",
    "\n",
    "# if you use the python layer, yes you get some flexibility but it comes at the expense of speed.\n",
    "\n",
    "print(type(pl.col('foo'))) # pl.col('foo') is polars.expr.expr.Expr\n",
    "\n",
    "# You can do many things with expressions we will see later but lets just print the dir of the expressions.\n",
    "print(dir(pl.col('foo'))) # see things available in polars columns\n"
   ]
  },
  {
   "cell_type": "code",
   "execution_count": 18,
   "id": "2ce7053e",
   "metadata": {},
   "outputs": [
    {
     "ename": "AttributeError",
     "evalue": "'DataFrame' object has no attribute 'index'",
     "output_type": "error",
     "traceback": [
      "\u001b[31m---------------------------------------------------------------------------\u001b[39m",
      "\u001b[31mAttributeError\u001b[39m                            Traceback (most recent call last)",
      "\u001b[36mCell\u001b[39m\u001b[36m \u001b[39m\u001b[32mIn[18]\u001b[39m\u001b[32m, line 1\u001b[39m\n\u001b[32m----> \u001b[39m\u001b[32m1\u001b[39m \u001b[43mdf\u001b[49m\u001b[43m.\u001b[49m\u001b[43mindex\u001b[49m \u001b[38;5;66;03m# no index in polars by default. need to use with_row_count()\u001b[39;00m\n",
      "\u001b[31mAttributeError\u001b[39m: 'DataFrame' object has no attribute 'index'"
     ]
    }
   ],
   "source": [
    "df.index # no index in polars by default. need to use with_row_count()"
   ]
  },
  {
   "cell_type": "code",
   "execution_count": 19,
   "id": "c14b63fd",
   "metadata": {},
   "outputs": [
    {
     "data": {
      "text/plain": [
       "['Tweet id',\n",
       " 'Tweet permalink',\n",
       " 'Tweet text',\n",
       " 'time',\n",
       " 'impressions',\n",
       " 'engagements',\n",
       " 'engagement rate',\n",
       " 'retweets',\n",
       " 'replies',\n",
       " 'likes',\n",
       " 'user profile clicks',\n",
       " 'url clicks',\n",
       " 'hashtag clicks',\n",
       " 'detail expands',\n",
       " 'permalink clicks',\n",
       " 'app opens',\n",
       " 'app installs',\n",
       " 'follows',\n",
       " 'email tweet',\n",
       " 'dial phone',\n",
       " 'media views',\n",
       " 'media engagements',\n",
       " 'promoted impressions',\n",
       " 'promoted engagements',\n",
       " 'promoted engagement rate',\n",
       " 'promoted retweets',\n",
       " 'promoted replies',\n",
       " 'promoted likes',\n",
       " 'promoted user profile clicks',\n",
       " 'promoted url clicks',\n",
       " 'promoted hashtag clicks',\n",
       " 'promoted detail expands',\n",
       " 'promoted permalink clicks',\n",
       " 'promoted app opens',\n",
       " 'promoted app installs',\n",
       " 'promoted follows',\n",
       " 'promoted email tweet',\n",
       " 'promoted dial phone',\n",
       " 'promoted media views',\n",
       " 'promoted media engagements']"
      ]
     },
     "execution_count": 19,
     "metadata": {},
     "output_type": "execute_result"
    }
   ],
   "source": [
    "df.columns"
   ]
  },
  {
   "cell_type": "code",
   "execution_count": 20,
   "id": "26e5771d",
   "metadata": {},
   "outputs": [
    {
     "data": {
      "text/html": [
       "<div><style>\n",
       ".dataframe > thead > tr,\n",
       ".dataframe > tbody > tr {\n",
       "  text-align: right;\n",
       "  white-space: pre-wrap;\n",
       "}\n",
       "</style>\n",
       "<small>shape: (40, 20)</small><table border=\"1\" class=\"dataframe\"><thead><tr><th>column_0</th><th>column_1</th><th>column_2</th><th>column_3</th><th>column_4</th><th>column_5</th><th>column_6</th><th>column_7</th><th>column_8</th><th>column_9</th><th>column_10</th><th>column_11</th><th>column_12</th><th>column_13</th><th>column_14</th><th>column_15</th><th>column_16</th><th>column_17</th><th>column_18</th><th>column_19</th></tr><tr><td>str</td><td>str</td><td>str</td><td>str</td><td>str</td><td>str</td><td>str</td><td>str</td><td>str</td><td>str</td><td>str</td><td>str</td><td>str</td><td>str</td><td>str</td><td>str</td><td>str</td><td>str</td><td>str</td><td>str</td></tr></thead><tbody><tr><td>&quot;1449496446177325059&quot;</td><td>&quot;1357117512211517440&quot;</td><td>&quot;1343210526755581952&quot;</td><td>&quot;1298655875553357824&quot;</td><td>&quot;1270500973698379777&quot;</td><td>&quot;1439260549624172554&quot;</td><td>&quot;1326639463926177792&quot;</td><td>&quot;1372000835945697281&quot;</td><td>&quot;1293680192305508352&quot;</td><td>&quot;1387609212721647617&quot;</td><td>&quot;1334867872665927681&quot;</td><td>&quot;1362250200396361729&quot;</td><td>&quot;1405901375892979715&quot;</td><td>&quot;1336172251633184768&quot;</td><td>&quot;1313949991988203520&quot;</td><td>&quot;1441244688703393797&quot;</td><td>&quot;1448495961140039685&quot;</td><td>&quot;1453832636867043329&quot;</td><td>&quot;1327258302544273408&quot;</td><td>&quot;1453937510426374154&quot;</td></tr><tr><td>&quot;https://twitter.com/__mharriso…</td><td>&quot;https://twitter.com/__mharriso…</td><td>&quot;https://twitter.com/__mharriso…</td><td>&quot;https://twitter.com/__mharriso…</td><td>&quot;https://twitter.com/__mharriso…</td><td>&quot;https://twitter.com/__mharriso…</td><td>&quot;https://twitter.com/__mharriso…</td><td>&quot;https://twitter.com/__mharriso…</td><td>&quot;https://twitter.com/__mharriso…</td><td>&quot;https://twitter.com/__mharriso…</td><td>&quot;https://twitter.com/__mharriso…</td><td>&quot;https://twitter.com/__mharriso…</td><td>&quot;https://twitter.com/__mharriso…</td><td>&quot;https://twitter.com/__mharriso…</td><td>&quot;https://twitter.com/__mharriso…</td><td>&quot;https://twitter.com/__mharriso…</td><td>&quot;https://twitter.com/__mharriso…</td><td>&quot;https://twitter.com/__mharriso…</td><td>&quot;https://twitter.com/__mharriso…</td><td>&quot;https://twitter.com/__mharriso…</td></tr><tr><td>&quot;Reviews make the creator econo…</td><td>&quot;Just taught this in my Python …</td><td>&quot;Emacs &amp;gt; Word https://t.co/V…</td><td>&quot;My takeaways:\n",
       "\n",
       "✔- Master tools…</td><td>&quot;@devspeed @mattisadev @ryanflo…</td><td>&quot;@DrSamuelBrown Thanks for your…</td><td>&quot;plt? They got the matplotlib a…</td><td>&quot;@_WaylonWalker @biopharm_tweet…</td><td>&quot;@tunguz Grouping by a derived …</td><td>&quot;@JeremyCMorgan @OReillyMedia I…</td><td>&quot;@mariaKhalusova If you want to…</td><td>&quot;@craigmod Make a podia course.…</td><td>&quot;Some aspiring city council mem…</td><td>&quot;Going to live stream day 8 #ad…</td><td>&quot;Getting Things Done - a framew…</td><td>&quot;Similar story but I&#x27;m no longe…</td><td>&quot;@tunguz Have you ever tried to…</td><td>&quot;@treyhunner Iterable -&amp;gt; has…</td><td>&quot;Most startups I&#x27;ve worked at h…</td><td>&quot;@sarahdoody Get a teleprompter…</td></tr><tr><td>&quot;2021-10-16 22:04:00+00:00&quot;</td><td>&quot;2021-02-04 00:03:00+00:00&quot;</td><td>&quot;2020-12-27 15:01:00+00:00&quot;</td><td>&quot;2020-08-26 16:17:00+00:00&quot;</td><td>&quot;2020-06-09 23:40:00+00:00&quot;</td><td>&quot;2021-09-18 16:10:00+00:00&quot;</td><td>&quot;2020-11-11 21:34:00+00:00&quot;</td><td>&quot;2021-03-17 01:44:00+00:00&quot;</td><td>&quot;2020-08-12 22:46:00+00:00&quot;</td><td>&quot;2021-04-29 03:26:00+00:00&quot;</td><td>&quot;2020-12-04 14:31:00+00:00&quot;</td><td>&quot;2021-02-18 03:58:00+00:00&quot;</td><td>&quot;2021-06-18 14:53:00+00:00&quot;</td><td>&quot;2020-12-08 04:54:00+00:00&quot;</td><td>&quot;2020-10-07 21:11:00+00:00&quot;</td><td>&quot;2021-09-24 03:34:00+00:00&quot;</td><td>&quot;2021-10-14 03:48:00+00:00&quot;</td><td>&quot;2021-10-28 21:14:00+00:00&quot;</td><td>&quot;2020-11-13 14:33:00+00:00&quot;</td><td>&quot;2021-10-29 04:11:00+00:00&quot;</td></tr><tr><td>&quot;6728.0&quot;</td><td>&quot;1509.0&quot;</td><td>&quot;1808.0&quot;</td><td>&quot;1466.0&quot;</td><td>&quot;140.0&quot;</td><td>&quot;2061.0&quot;</td><td>&quot;3748.0&quot;</td><td>&quot;100.0&quot;</td><td>&quot;130.0&quot;</td><td>&quot;95.0&quot;</td><td>&quot;53.0&quot;</td><td>&quot;95.0&quot;</td><td>&quot;5038.0&quot;</td><td>&quot;1338.0&quot;</td><td>&quot;396.0&quot;</td><td>&quot;6058.0&quot;</td><td>&quot;3828.0&quot;</td><td>&quot;1379.0&quot;</td><td>&quot;1225.0&quot;</td><td>&quot;1039.0&quot;</td></tr><tr><td>&hellip;</td><td>&hellip;</td><td>&hellip;</td><td>&hellip;</td><td>&hellip;</td><td>&hellip;</td><td>&hellip;</td><td>&hellip;</td><td>&hellip;</td><td>&hellip;</td><td>&hellip;</td><td>&hellip;</td><td>&hellip;</td><td>&hellip;</td><td>&hellip;</td><td>&hellip;</td><td>&hellip;</td><td>&hellip;</td><td>&hellip;</td><td>&hellip;</td></tr><tr><td>null</td><td>null</td><td>null</td><td>null</td><td>null</td><td>null</td><td>null</td><td>null</td><td>null</td><td>null</td><td>null</td><td>null</td><td>null</td><td>null</td><td>null</td><td>null</td><td>null</td><td>null</td><td>null</td><td>null</td></tr><tr><td>null</td><td>null</td><td>null</td><td>null</td><td>null</td><td>null</td><td>null</td><td>null</td><td>null</td><td>null</td><td>null</td><td>null</td><td>null</td><td>null</td><td>null</td><td>null</td><td>null</td><td>null</td><td>null</td><td>null</td></tr><tr><td>null</td><td>null</td><td>null</td><td>null</td><td>null</td><td>null</td><td>null</td><td>null</td><td>null</td><td>null</td><td>null</td><td>null</td><td>null</td><td>null</td><td>null</td><td>null</td><td>null</td><td>null</td><td>null</td><td>null</td></tr><tr><td>null</td><td>null</td><td>null</td><td>null</td><td>null</td><td>null</td><td>null</td><td>null</td><td>null</td><td>null</td><td>null</td><td>null</td><td>null</td><td>null</td><td>null</td><td>null</td><td>null</td><td>null</td><td>null</td><td>null</td></tr><tr><td>null</td><td>null</td><td>null</td><td>null</td><td>null</td><td>null</td><td>null</td><td>null</td><td>null</td><td>null</td><td>null</td><td>null</td><td>null</td><td>null</td><td>null</td><td>null</td><td>null</td><td>null</td><td>null</td><td>null</td></tr></tbody></table></div>"
      ],
      "text/plain": [
       "shape: (40, 20)\n",
       "┌───────────┬───────────┬───────────┬───────────┬───┬───────────┬───────────┬───────────┬──────────┐\n",
       "│ column_0  ┆ column_1  ┆ column_2  ┆ column_3  ┆ … ┆ column_16 ┆ column_17 ┆ column_18 ┆ column_1 │\n",
       "│ ---       ┆ ---       ┆ ---       ┆ ---       ┆   ┆ ---       ┆ ---       ┆ ---       ┆ 9        │\n",
       "│ str       ┆ str       ┆ str       ┆ str       ┆   ┆ str       ┆ str       ┆ str       ┆ ---      │\n",
       "│           ┆           ┆           ┆           ┆   ┆           ┆           ┆           ┆ str      │\n",
       "╞═══════════╪═══════════╪═══════════╪═══════════╪═══╪═══════════╪═══════════╪═══════════╪══════════╡\n",
       "│ 144949644 ┆ 135711751 ┆ 134321052 ┆ 129865587 ┆ … ┆ 144849596 ┆ 145383263 ┆ 132725830 ┆ 14539375 │\n",
       "│ 617732505 ┆ 221151744 ┆ 675558195 ┆ 555335782 ┆   ┆ 114003968 ┆ 686704332 ┆ 254427340 ┆ 10426374 │\n",
       "│ 9         ┆ 0         ┆ 2         ┆ 4         ┆   ┆ 5         ┆ 9         ┆ 8         ┆ 154      │\n",
       "│ https://t ┆ https://t ┆ https://t ┆ https://t ┆ … ┆ https://t ┆ https://t ┆ https://t ┆ https:// │\n",
       "│ witter.co ┆ witter.co ┆ witter.co ┆ witter.co ┆   ┆ witter.co ┆ witter.co ┆ witter.co ┆ twitter. │\n",
       "│ m/__mharr ┆ m/__mharr ┆ m/__mharr ┆ m/__mharr ┆   ┆ m/__mharr ┆ m/__mharr ┆ m/__mharr ┆ com/__mh │\n",
       "│ iso…      ┆ iso…      ┆ iso…      ┆ iso…      ┆   ┆ iso…      ┆ iso…      ┆ iso…      ┆ arriso…  │\n",
       "│ Reviews   ┆ Just      ┆ Emacs     ┆ My takeaw ┆ … ┆ @tunguz   ┆ @treyhunn ┆ Most      ┆ @sarahdo │\n",
       "│ make the  ┆ taught    ┆ &gt; Word ┆ ays:      ┆   ┆ Have you  ┆ er        ┆ startups  ┆ ody Get  │\n",
       "│ creator   ┆ this in   ┆ https://t ┆           ┆   ┆ ever      ┆ Iterable  ┆ I've      ┆ a telepr │\n",
       "│ econo…    ┆ my Python ┆ .co/V…    ┆ ✔- Master ┆   ┆ tried to… ┆ -&gt;     ┆ worked at ┆ ompter…  │\n",
       "│           ┆ …         ┆           ┆ tools…    ┆   ┆           ┆ has…      ┆ h…        ┆          │\n",
       "│ 2021-10-1 ┆ 2021-02-0 ┆ 2020-12-2 ┆ 2020-08-2 ┆ … ┆ 2021-10-1 ┆ 2021-10-2 ┆ 2020-11-1 ┆ 2021-10- │\n",
       "│ 6 22:04:0 ┆ 4 00:03:0 ┆ 7 15:01:0 ┆ 6 16:17:0 ┆   ┆ 4 03:48:0 ┆ 8 21:14:0 ┆ 3 14:33:0 ┆ 29 04:11 │\n",
       "│ 0+00:00   ┆ 0+00:00   ┆ 0+00:00   ┆ 0+00:00   ┆   ┆ 0+00:00   ┆ 0+00:00   ┆ 0+00:00   ┆ :00+00:0 │\n",
       "│           ┆           ┆           ┆           ┆   ┆           ┆           ┆           ┆ 0        │\n",
       "│ 6728.0    ┆ 1509.0    ┆ 1808.0    ┆ 1466.0    ┆ … ┆ 3828.0    ┆ 1379.0    ┆ 1225.0    ┆ 1039.0   │\n",
       "│ …         ┆ …         ┆ …         ┆ …         ┆ … ┆ …         ┆ …         ┆ …         ┆ …        │\n",
       "│ null      ┆ null      ┆ null      ┆ null      ┆ … ┆ null      ┆ null      ┆ null      ┆ null     │\n",
       "│ null      ┆ null      ┆ null      ┆ null      ┆ … ┆ null      ┆ null      ┆ null      ┆ null     │\n",
       "│ null      ┆ null      ┆ null      ┆ null      ┆ … ┆ null      ┆ null      ┆ null      ┆ null     │\n",
       "│ null      ┆ null      ┆ null      ┆ null      ┆ … ┆ null      ┆ null      ┆ null      ┆ null     │\n",
       "│ null      ┆ null      ┆ null      ┆ null      ┆ … ┆ null      ┆ null      ┆ null      ┆ null     │\n",
       "└───────────┴───────────┴───────────┴───────────┴───┴───────────┴───────────┴───────────┴──────────┘"
      ]
     },
     "execution_count": 20,
     "metadata": {},
     "output_type": "execute_result"
    }
   ],
   "source": [
    "df.sample(20).transpose() # just a way of seeing some initial data."
   ]
  },
  {
   "cell_type": "code",
   "execution_count": 21,
   "id": "289d59d9",
   "metadata": {},
   "outputs": [
    {
     "data": {
      "text/plain": [
       "[Int64,\n",
       " String,\n",
       " String,\n",
       " String,\n",
       " Float64,\n",
       " Float64,\n",
       " Float64,\n",
       " Float64,\n",
       " Float64,\n",
       " Float64,\n",
       " Float64,\n",
       " Float64,\n",
       " Float64,\n",
       " Float64,\n",
       " Float64,\n",
       " Int64,\n",
       " Int64,\n",
       " Int64,\n",
       " Int64,\n",
       " Int64,\n",
       " Int64,\n",
       " Int64,\n",
       " String,\n",
       " String,\n",
       " String,\n",
       " String,\n",
       " String,\n",
       " String,\n",
       " String,\n",
       " String,\n",
       " String,\n",
       " String,\n",
       " String,\n",
       " String,\n",
       " String,\n",
       " String,\n",
       " String,\n",
       " String,\n",
       " String,\n",
       " String]"
      ]
     },
     "execution_count": 21,
     "metadata": {},
     "output_type": "execute_result"
    }
   ],
   "source": [
    "df.dtypes # these are pyarrow types"
   ]
  },
  {
   "cell_type": "code",
   "execution_count": null,
   "id": "2246f8cd",
   "metadata": {},
   "outputs": [],
   "source": [
    "df.estimated_size() # rough bytes"
   ]
  },
  {
   "cell_type": "code",
   "execution_count": null,
   "id": "7dde44ce",
   "metadata": {},
   "outputs": [],
   "source": [
    "df[1:5] # print rows 1, 4"
   ]
  },
  {
   "cell_type": "code",
   "execution_count": 22,
   "id": "713e5a82",
   "metadata": {},
   "outputs": [
    {
     "data": {
      "text/html": [
       "<div><style>\n",
       ".dataframe > thead > tr,\n",
       ".dataframe > tbody > tr {\n",
       "  text-align: right;\n",
       "  white-space: pre-wrap;\n",
       "}\n",
       "</style>\n",
       "<small>shape: (5_791, 40)</small><table border=\"1\" class=\"dataframe\"><thead><tr><th>Tweet id</th><th>Tweet permalink</th><th>Tweet text</th><th>time</th><th>impressions</th><th>engagements</th><th>engagement rate</th><th>retweets</th><th>replies</th><th>likes</th><th>user profile clicks</th><th>url clicks</th><th>hashtag clicks</th><th>detail expands</th><th>permalink clicks</th><th>app opens</th><th>app installs</th><th>follows</th><th>email tweet</th><th>dial phone</th><th>media views</th><th>media engagements</th><th>promoted impressions</th><th>promoted engagements</th><th>promoted engagement rate</th><th>promoted retweets</th><th>promoted replies</th><th>promoted likes</th><th>promoted user profile clicks</th><th>promoted url clicks</th><th>promoted hashtag clicks</th><th>promoted detail expands</th><th>promoted permalink clicks</th><th>promoted app opens</th><th>promoted app installs</th><th>promoted follows</th><th>promoted email tweet</th><th>promoted dial phone</th><th>promoted media views</th><th>promoted media engagements</th></tr><tr><td>i64</td><td>str</td><td>str</td><td>str</td><td>f64</td><td>f64</td><td>f64</td><td>f64</td><td>f64</td><td>f64</td><td>f64</td><td>f64</td><td>f64</td><td>f64</td><td>f64</td><td>i64</td><td>i64</td><td>i64</td><td>i64</td><td>i64</td><td>i64</td><td>i64</td><td>str</td><td>str</td><td>str</td><td>str</td><td>str</td><td>str</td><td>str</td><td>str</td><td>str</td><td>str</td><td>str</td><td>str</td><td>str</td><td>str</td><td>str</td><td>str</td><td>str</td><td>str</td></tr></thead><tbody><tr><td>1212580517905780737</td><td>&quot;https://twitter.com/__mharriso…</td><td>&quot;Sounds like a great topic! htt…</td><td>&quot;2020-01-02 03:44:00+00:00&quot;</td><td>1465.0</td><td>7.0</td><td>0.004778</td><td>0.0</td><td>0.0</td><td>3.0</td><td>3.0</td><td>0.0</td><td>0.0</td><td>1.0</td><td>0.0</td><td>0</td><td>0</td><td>0</td><td>0</td><td>0</td><td>0</td><td>0</td><td>null</td><td>null</td><td>null</td><td>null</td><td>null</td><td>null</td><td>null</td><td>null</td><td>null</td><td>null</td><td>null</td><td>null</td><td>null</td><td>null</td><td>null</td><td>null</td><td>null</td><td>null</td></tr><tr><td>1212582494828036097</td><td>&quot;https://twitter.com/__mharriso…</td><td>&quot;@FogleBird Looks like SLC. I c…</td><td>&quot;2020-01-02 03:52:00+00:00&quot;</td><td>154.0</td><td>3.0</td><td>0.019481</td><td>0.0</td><td>0.0</td><td>1.0</td><td>1.0</td><td>0.0</td><td>0.0</td><td>1.0</td><td>0.0</td><td>0</td><td>0</td><td>0</td><td>0</td><td>0</td><td>0</td><td>0</td><td>null</td><td>null</td><td>null</td><td>null</td><td>null</td><td>null</td><td>null</td><td>null</td><td>null</td><td>null</td><td>null</td><td>null</td><td>null</td><td>null</td><td>null</td><td>null</td><td>null</td><td>null</td></tr><tr><td>1212613735698690049</td><td>&quot;https://twitter.com/__mharriso…</td><td>&quot;@afilina That&#x27;s really amount …</td><td>&quot;2020-01-02 05:56:00+00:00&quot;</td><td>1024.0</td><td>6.0</td><td>0.005859</td><td>0.0</td><td>0.0</td><td>1.0</td><td>2.0</td><td>0.0</td><td>0.0</td><td>3.0</td><td>0.0</td><td>0</td><td>0</td><td>0</td><td>0</td><td>0</td><td>0</td><td>0</td><td>null</td><td>null</td><td>null</td><td>null</td><td>null</td><td>null</td><td>null</td><td>null</td><td>null</td><td>null</td><td>null</td><td>null</td><td>null</td><td>null</td><td>null</td><td>null</td><td>null</td><td>null</td></tr><tr><td>1212911749617242113</td><td>&quot;https://twitter.com/__mharriso…</td><td>&quot;@randal_olson I use anaconda w…</td><td>&quot;2020-01-03 01:41:00+00:00&quot;</td><td>1419.0</td><td>14.0</td><td>0.009866</td><td>0.0</td><td>1.0</td><td>5.0</td><td>7.0</td><td>0.0</td><td>0.0</td><td>1.0</td><td>0.0</td><td>0</td><td>0</td><td>0</td><td>0</td><td>0</td><td>0</td><td>0</td><td>null</td><td>null</td><td>null</td><td>null</td><td>null</td><td>null</td><td>null</td><td>null</td><td>null</td><td>null</td><td>null</td><td>null</td><td>null</td><td>null</td><td>null</td><td>null</td><td>null</td><td>null</td></tr><tr><td>1212920556028252160</td><td>&quot;https://twitter.com/__mharriso…</td><td>&quot;@AlSweigart Sometimes the stud…</td><td>&quot;2020-01-03 02:16:00+00:00&quot;</td><td>198.0</td><td>1.0</td><td>0.005051</td><td>0.0</td><td>0.0</td><td>1.0</td><td>0.0</td><td>0.0</td><td>0.0</td><td>0.0</td><td>0.0</td><td>0</td><td>0</td><td>0</td><td>0</td><td>0</td><td>0</td><td>0</td><td>null</td><td>null</td><td>null</td><td>null</td><td>null</td><td>null</td><td>null</td><td>null</td><td>null</td><td>null</td><td>null</td><td>null</td><td>null</td><td>null</td><td>null</td><td>null</td><td>null</td><td>null</td></tr><tr><td>&hellip;</td><td>&hellip;</td><td>&hellip;</td><td>&hellip;</td><td>&hellip;</td><td>&hellip;</td><td>&hellip;</td><td>&hellip;</td><td>&hellip;</td><td>&hellip;</td><td>&hellip;</td><td>&hellip;</td><td>&hellip;</td><td>&hellip;</td><td>&hellip;</td><td>&hellip;</td><td>&hellip;</td><td>&hellip;</td><td>&hellip;</td><td>&hellip;</td><td>&hellip;</td><td>&hellip;</td><td>&hellip;</td><td>&hellip;</td><td>&hellip;</td><td>&hellip;</td><td>&hellip;</td><td>&hellip;</td><td>&hellip;</td><td>&hellip;</td><td>&hellip;</td><td>&hellip;</td><td>&hellip;</td><td>&hellip;</td><td>&hellip;</td><td>&hellip;</td><td>&hellip;</td><td>&hellip;</td><td>&hellip;</td><td>&hellip;</td></tr><tr><td>1475300661851934721</td><td>&quot;https://twitter.com/__mharriso…</td><td>&quot;@allison_horst That&#x27;s awesome!&quot;</td><td>&quot;2021-12-27 03:01:00+00:00&quot;</td><td>986.0</td><td>1.0</td><td>0.001014</td><td>0.0</td><td>0.0</td><td>0.0</td><td>0.0</td><td>0.0</td><td>0.0</td><td>1.0</td><td>0.0</td><td>0</td><td>0</td><td>0</td><td>0</td><td>0</td><td>0</td><td>0</td><td>null</td><td>null</td><td>null</td><td>null</td><td>null</td><td>null</td><td>null</td><td>null</td><td>null</td><td>null</td><td>null</td><td>null</td><td>null</td><td>null</td><td>null</td><td>null</td><td>null</td><td>null</td></tr><tr><td>1475518143690801156</td><td>&quot;https://twitter.com/__mharriso…</td><td>&quot;@willmcgugan You need to find …</td><td>&quot;2021-12-27 17:25:00+00:00&quot;</td><td>1790.0</td><td>7.0</td><td>0.003911</td><td>0.0</td><td>0.0</td><td>3.0</td><td>1.0</td><td>0.0</td><td>0.0</td><td>3.0</td><td>0.0</td><td>0</td><td>0</td><td>0</td><td>0</td><td>0</td><td>0</td><td>0</td><td>null</td><td>null</td><td>null</td><td>null</td><td>null</td><td>null</td><td>null</td><td>null</td><td>null</td><td>null</td><td>null</td><td>null</td><td>null</td><td>null</td><td>null</td><td>null</td><td>null</td><td>null</td></tr><tr><td>1475891441243025408</td><td>&quot;https://twitter.com/__mharriso…</td><td>&quot;@posco Visiting Hawaii for the…</td><td>&quot;2021-12-28 18:08:00+00:00&quot;</td><td>1611.0</td><td>12.0</td><td>0.007449</td><td>0.0</td><td>0.0</td><td>4.0</td><td>4.0</td><td>0.0</td><td>0.0</td><td>4.0</td><td>0.0</td><td>0</td><td>0</td><td>0</td><td>0</td><td>0</td><td>0</td><td>0</td><td>null</td><td>null</td><td>null</td><td>null</td><td>null</td><td>null</td><td>null</td><td>null</td><td>null</td><td>null</td><td>null</td><td>null</td><td>null</td><td>null</td><td>null</td><td>null</td><td>null</td><td>null</td></tr><tr><td>1476453819751878656</td><td>&quot;https://twitter.com/__mharriso…</td><td>&quot;@johndsaunders My son just bui…</td><td>&quot;2021-12-30 07:23:00+00:00&quot;</td><td>1354.0</td><td>8.0</td><td>0.005908</td><td>0.0</td><td>0.0</td><td>2.0</td><td>4.0</td><td>0.0</td><td>0.0</td><td>2.0</td><td>0.0</td><td>0</td><td>0</td><td>0</td><td>0</td><td>0</td><td>0</td><td>0</td><td>null</td><td>null</td><td>null</td><td>null</td><td>null</td><td>null</td><td>null</td><td>null</td><td>null</td><td>null</td><td>null</td><td>null</td><td>null</td><td>null</td><td>null</td><td>null</td><td>null</td><td>null</td></tr><tr><td>1477024722051158018</td><td>&quot;https://twitter.com/__mharriso…</td><td>&quot;@tunguz Xgboost&quot;</td><td>&quot;2021-12-31 21:11:00+00:00&quot;</td><td>5041.0</td><td>63.0</td><td>0.012498</td><td>0.0</td><td>3.0</td><td>23.0</td><td>8.0</td><td>0.0</td><td>0.0</td><td>29.0</td><td>0.0</td><td>0</td><td>0</td><td>0</td><td>0</td><td>0</td><td>0</td><td>0</td><td>null</td><td>null</td><td>null</td><td>null</td><td>null</td><td>null</td><td>null</td><td>null</td><td>null</td><td>null</td><td>null</td><td>null</td><td>null</td><td>null</td><td>null</td><td>null</td><td>null</td><td>null</td></tr></tbody></table></div>"
      ],
      "text/plain": [
       "shape: (5_791, 40)\n",
       "┌───────────┬───────────┬───────────┬───────────┬───┬───────────┬───────────┬───────────┬──────────┐\n",
       "│ Tweet id  ┆ Tweet     ┆ Tweet     ┆ time      ┆ … ┆ promoted  ┆ promoted  ┆ promoted  ┆ promoted │\n",
       "│ ---       ┆ permalink ┆ text      ┆ ---       ┆   ┆ email     ┆ dial      ┆ media     ┆ media    │\n",
       "│ i64       ┆ ---       ┆ ---       ┆ str       ┆   ┆ tweet     ┆ phone     ┆ views     ┆ engageme │\n",
       "│           ┆ str       ┆ str       ┆           ┆   ┆ ---       ┆ ---       ┆ ---       ┆ nts      │\n",
       "│           ┆           ┆           ┆           ┆   ┆ str       ┆ str       ┆ str       ┆ ---      │\n",
       "│           ┆           ┆           ┆           ┆   ┆           ┆           ┆           ┆ str      │\n",
       "╞═══════════╪═══════════╪═══════════╪═══════════╪═══╪═══════════╪═══════════╪═══════════╪══════════╡\n",
       "│ 121258051 ┆ https://t ┆ Sounds    ┆ 2020-01-0 ┆ … ┆ null      ┆ null      ┆ null      ┆ null     │\n",
       "│ 790578073 ┆ witter.co ┆ like a    ┆ 2 03:44:0 ┆   ┆           ┆           ┆           ┆          │\n",
       "│ 7         ┆ m/__mharr ┆ great     ┆ 0+00:00   ┆   ┆           ┆           ┆           ┆          │\n",
       "│           ┆ iso…      ┆ topic!    ┆           ┆   ┆           ┆           ┆           ┆          │\n",
       "│           ┆           ┆ htt…      ┆           ┆   ┆           ┆           ┆           ┆          │\n",
       "│ 121258249 ┆ https://t ┆ @FogleBir ┆ 2020-01-0 ┆ … ┆ null      ┆ null      ┆ null      ┆ null     │\n",
       "│ 482803609 ┆ witter.co ┆ d Looks   ┆ 2 03:52:0 ┆   ┆           ┆           ┆           ┆          │\n",
       "│ 7         ┆ m/__mharr ┆ like SLC. ┆ 0+00:00   ┆   ┆           ┆           ┆           ┆          │\n",
       "│           ┆ iso…      ┆ I c…      ┆           ┆   ┆           ┆           ┆           ┆          │\n",
       "│ 121261373 ┆ https://t ┆ @afilina  ┆ 2020-01-0 ┆ … ┆ null      ┆ null      ┆ null      ┆ null     │\n",
       "│ 569869004 ┆ witter.co ┆ That's    ┆ 2 05:56:0 ┆   ┆           ┆           ┆           ┆          │\n",
       "│ 9         ┆ m/__mharr ┆ really    ┆ 0+00:00   ┆   ┆           ┆           ┆           ┆          │\n",
       "│           ┆ iso…      ┆ amount …  ┆           ┆   ┆           ┆           ┆           ┆          │\n",
       "│ 121291174 ┆ https://t ┆ @randal_o ┆ 2020-01-0 ┆ … ┆ null      ┆ null      ┆ null      ┆ null     │\n",
       "│ 961724211 ┆ witter.co ┆ lson I    ┆ 3 01:41:0 ┆   ┆           ┆           ┆           ┆          │\n",
       "│ 3         ┆ m/__mharr ┆ use       ┆ 0+00:00   ┆   ┆           ┆           ┆           ┆          │\n",
       "│           ┆ iso…      ┆ anaconda  ┆           ┆   ┆           ┆           ┆           ┆          │\n",
       "│           ┆           ┆ w…        ┆           ┆   ┆           ┆           ┆           ┆          │\n",
       "│ 121292055 ┆ https://t ┆ @AlSweiga ┆ 2020-01-0 ┆ … ┆ null      ┆ null      ┆ null      ┆ null     │\n",
       "│ 602825216 ┆ witter.co ┆ rt        ┆ 3 02:16:0 ┆   ┆           ┆           ┆           ┆          │\n",
       "│ 0         ┆ m/__mharr ┆ Sometimes ┆ 0+00:00   ┆   ┆           ┆           ┆           ┆          │\n",
       "│           ┆ iso…      ┆ the stud… ┆           ┆   ┆           ┆           ┆           ┆          │\n",
       "│ …         ┆ …         ┆ …         ┆ …         ┆ … ┆ …         ┆ …         ┆ …         ┆ …        │\n",
       "│ 147530066 ┆ https://t ┆ @allison_ ┆ 2021-12-2 ┆ … ┆ null      ┆ null      ┆ null      ┆ null     │\n",
       "│ 185193472 ┆ witter.co ┆ horst     ┆ 7 03:01:0 ┆   ┆           ┆           ┆           ┆          │\n",
       "│ 1         ┆ m/__mharr ┆ That's    ┆ 0+00:00   ┆   ┆           ┆           ┆           ┆          │\n",
       "│           ┆ iso…      ┆ awesome!  ┆           ┆   ┆           ┆           ┆           ┆          │\n",
       "│ 147551814 ┆ https://t ┆ @willmcgu ┆ 2021-12-2 ┆ … ┆ null      ┆ null      ┆ null      ┆ null     │\n",
       "│ 369080115 ┆ witter.co ┆ gan You   ┆ 7 17:25:0 ┆   ┆           ┆           ┆           ┆          │\n",
       "│ 6         ┆ m/__mharr ┆ need to   ┆ 0+00:00   ┆   ┆           ┆           ┆           ┆          │\n",
       "│           ┆ iso…      ┆ find …    ┆           ┆   ┆           ┆           ┆           ┆          │\n",
       "│ 147589144 ┆ https://t ┆ @posco    ┆ 2021-12-2 ┆ … ┆ null      ┆ null      ┆ null      ┆ null     │\n",
       "│ 124302540 ┆ witter.co ┆ Visiting  ┆ 8 18:08:0 ┆   ┆           ┆           ┆           ┆          │\n",
       "│ 8         ┆ m/__mharr ┆ Hawaii    ┆ 0+00:00   ┆   ┆           ┆           ┆           ┆          │\n",
       "│           ┆ iso…      ┆ for the…  ┆           ┆   ┆           ┆           ┆           ┆          │\n",
       "│ 147645381 ┆ https://t ┆ @johndsau ┆ 2021-12-3 ┆ … ┆ null      ┆ null      ┆ null      ┆ null     │\n",
       "│ 975187865 ┆ witter.co ┆ nders My  ┆ 0 07:23:0 ┆   ┆           ┆           ┆           ┆          │\n",
       "│ 6         ┆ m/__mharr ┆ son just  ┆ 0+00:00   ┆   ┆           ┆           ┆           ┆          │\n",
       "│           ┆ iso…      ┆ bui…      ┆           ┆   ┆           ┆           ┆           ┆          │\n",
       "│ 147702472 ┆ https://t ┆ @tunguz   ┆ 2021-12-3 ┆ … ┆ null      ┆ null      ┆ null      ┆ null     │\n",
       "│ 205115801 ┆ witter.co ┆ Xgboost   ┆ 1 21:11:0 ┆   ┆           ┆           ┆           ┆          │\n",
       "│ 8         ┆ m/__mharr ┆           ┆ 0+00:00   ┆   ┆           ┆           ┆           ┆          │\n",
       "│           ┆ iso…      ┆           ┆           ┆   ┆           ┆           ┆           ┆          │\n",
       "└───────────┴───────────┴───────────┴───────────┴───┴───────────┴───────────┴───────────┴──────────┘"
      ]
     },
     "execution_count": 22,
     "metadata": {},
     "output_type": "execute_result"
    }
   ],
   "source": [
    "# Prefer to use Expressions instead of working directly on dataframe\n",
    "# use pl.all() instead of pl.col('*')\n",
    "\n",
    "# df.select() is used to choose columns (you can give it multiple expressions as positional arguments, or even keyword expressions as \n",
    "# keyword arguments. the keys you use become the name(alias) for your columns\n",
    "df.select(pl.all()) # get all columns."
   ]
  },
  {
   "cell_type": "code",
   "execution_count": 26,
   "id": "4a52e764-552e-44bb-ad68-4a0c929021bd",
   "metadata": {},
   "outputs": [
    {
     "data": {
      "text/html": [
       "<div><style>\n",
       ".dataframe > thead > tr,\n",
       ".dataframe > tbody > tr {\n",
       "  text-align: right;\n",
       "  white-space: pre-wrap;\n",
       "}\n",
       "</style>\n",
       "<small>shape: (5, 1)</small><table border=\"1\" class=\"dataframe\"><thead><tr><th>Rajat</th></tr><tr><td>i64</td></tr></thead><tbody><tr><td>1212580517905780737</td></tr><tr><td>1212582494828036097</td></tr><tr><td>1212613735698690049</td></tr><tr><td>1212911749617242113</td></tr><tr><td>1212920556028252160</td></tr></tbody></table></div>"
      ],
      "text/plain": [
       "shape: (5, 1)\n",
       "┌─────────────────────┐\n",
       "│ Rajat               │\n",
       "│ ---                 │\n",
       "│ i64                 │\n",
       "╞═════════════════════╡\n",
       "│ 1212580517905780737 │\n",
       "│ 1212582494828036097 │\n",
       "│ 1212613735698690049 │\n",
       "│ 1212911749617242113 │\n",
       "│ 1212920556028252160 │\n",
       "└─────────────────────┘"
      ]
     },
     "execution_count": 26,
     "metadata": {},
     "output_type": "execute_result"
    }
   ],
   "source": [
    "df.select(pl.col('Tweet id').alias('Rajat')).head()"
   ]
  },
  {
   "cell_type": "code",
   "execution_count": null,
   "id": "7b9864df",
   "metadata": {},
   "outputs": [],
   "source": [
    "df.select(pl.col('Tweet id')) # get all columns."
   ]
  },
  {
   "cell_type": "code",
   "execution_count": null,
   "id": "c25820ca",
   "metadata": {},
   "outputs": [],
   "source": [
    "# pl.col/pl.all is very flexible. Think of it as a where clause in a select statement.\n",
    "# you can actually select data types i.e. pl.col(pl.Float64) will return all f64 cols\n",
    "# exclude coloumns using exclude function, apply regex also on columns filtering. See examples below\n",
    "df.select(pl.all().exclude('Tweet id')) # select and where clause\n",
    "\n",
    "# pl.exclude is just a syntactic sugar over pl.all().exclude()\n",
    "df.select(pl.exclude(\"^Tweet\")) # remove all columns that begin with Tweet\n",
    "\n",
    "df.select(pl.exclude([pl.Float64])) # exclude Float64 columns. exclude can take a list\n",
    "\n",
    "df.select([\"impressions\"]).head()"
   ]
  },
  {
   "cell_type": "code",
   "execution_count": null,
   "id": "8c9d57a0-7355-4502-92e0-42a024db8e52",
   "metadata": {},
   "outputs": [],
   "source": [
    "# df.select(['impressions', 'impressions']) # polars doesnt allow duplicate columns\n",
    "\n",
    "# Workaround\n",
    "df.select(['impressions', pl.col('impressions').alias('impressions_2')]) # polars doesnt allow it"
   ]
  },
  {
   "cell_type": "code",
   "execution_count": null,
   "id": "6418be44-2e25-4262-b3e5-f405a7859782",
   "metadata": {},
   "outputs": [],
   "source": [
    "# select a column where all cell values are 0 if impressions is less than 100, or else 1\n",
    "# df.select(threshold=pl.pl.cols('impressions') > 100 #incomplete"
   ]
  },
  {
   "cell_type": "code",
   "execution_count": null,
   "id": "2ec4b4ce-2d4f-4e0f-b3be-b5a0e6258668",
   "metadata": {},
   "outputs": [],
   "source": [
    "# note that most operations return a copy of the dataframe and do not modify the original dataframe\n",
    "# with_columns(pl.lit('Q0).alias('Describe')) # with_columns means add a new column, pl.lit('Q0') means add a literal column, i.e. a column with Q0 as data.\n",
    "# and rename it to Describe\n",
    "df.quantile(0).with_columns(pl.lit('Q0').alias('Describe')).head()"
   ]
  },
  {
   "cell_type": "code",
   "execution_count": null,
   "id": "494bf3c4-7599-4223-a690-f9dc0d3f2000",
   "metadata": {},
   "outputs": [],
   "source": [
    "# add describe column at the beginning instead\n",
    "\n",
    "# DeprecationWarning: `NUMERIC_DTYPES` was deprecated in version 1.0.0. Define your own data type groups or use the `polars.selectors` module\n",
    "# for selecting columns of a certain data type.\n",
    "df = df.select([\n",
    "    pl.lit('Q1').alias('Describe'),\n",
    "    pl.col(pl.NUMERIC_DTYPES).quantile(0)\n",
    "])\n",
    "df"
   ]
  },
  {
   "cell_type": "code",
   "execution_count": null,
   "id": "d67368fb-ec24-4f99-be31-c58edfc100e5",
   "metadata": {},
   "outputs": [],
   "source": [
    "# Same as above but using selectors\n",
    "import polars.selectors as cs\n",
    "\n",
    "df = df.select([\n",
    "    pl.lit('Q0').alias('Describe'),\n",
    "    cs.by_dtype(pl.Float64).quantile(0)\n",
    "])\n",
    "df"
   ]
  },
  {
   "cell_type": "code",
   "execution_count": null,
   "id": "4250be32-ef79-41b7-afc0-a28b52c04006",
   "metadata": {},
   "outputs": [],
   "source": [
    "# Look at df.describe() command. We want to add a new statistic of Q0, Q0.25, Q0.5, Q0.75, Q1\n",
    "df.describe() # may be initialize the dataframe again and then see the clean output.\n"
   ]
  },
  {
   "cell_type": "code",
   "execution_count": null,
   "id": "6d8d176f-af98-48cb-90b8-23ff3e85a431",
   "metadata": {},
   "outputs": [],
   "source": [
    "# df.quantile(0).with_columns(pl.lit(f'Q0').alias('Describe')).select(pl.col('Describe'), pl.exclude('Describe'))\n",
    "# debug statement\n",
    "  \n",
    "\n",
    "# how we can do that. we can use pl.concat to concat multiple dataframes.\n",
    "# lets fetch the Q0, Q0.25, Q0.5, Q0.75, Q1 quantiles rows and a new column \"Describe\" (at the front) with values Q0, Q0.25, Q0.5, Q0.75, Q1 \n",
    "# then lets fetch the df.describe() dataframe and just contact both. Easy peasy!!.\n",
    "(pl\n",
    "  .concat(\n",
    "    [ \n",
    "        # 1st dataframe\n",
    "        *[df\n",
    "        .quantile(val)\n",
    "        .with_columns(pl.lit(f'Q{val}').alias('statistic')) # problem is that Describe will be added at the end. We need to move it to the beginning\n",
    "        .select(pl.col('statistic'), pl.exclude('statistic'))\n",
    "        for val in [0, 0.25, 0.5, 0.75, 1]\n",
    "        ],\n",
    "        # 6th dataframe (1st to 5th dataframes are for the quantiles\n",
    "        df.describe() \n",
    "    ],\n",
    "    how='vertical'\n",
    "  )\n",
    ")"
   ]
  },
  {
   "cell_type": "code",
   "execution_count": null,
   "id": "cae57320-48ef-4769-93f7-263f081c035a",
   "metadata": {},
   "outputs": [],
   "source": [
    "# lets just put this into a function and call dataframe.pipe(myfunction)\n",
    "\n",
    "def pd_describe(a_df: pl.DataFrame):\n",
    "    cols = ['statistic', *a_df.columns]\n",
    "    return (pl\n",
    "        .concat(\n",
    "            [ \n",
    "                # 1st dataframe\n",
    "                *[a_df\n",
    "                .quantile(val)\n",
    "                .with_columns(pl.lit(f'Q{val}').alias('statistic')) # problem is that Describe will be added at the end. We need to move it to the beginning\n",
    "                .select(cols)\n",
    "                for val in [0, 0.25, 0.5, 0.75, 1]\n",
    "                ],\n",
    "                # 6th dataframe (1st to 5th dataframes are for the quantiles\n",
    "                a_df.describe() \n",
    "            ],\n",
    "            how='vertical'\n",
    "          )\n",
    "     )"
   ]
  },
  {
   "cell_type": "code",
   "execution_count": null,
   "id": "65b04031-b644-414b-a092-641ccc7b8bd0",
   "metadata": {},
   "outputs": [],
   "source": [
    "# df.pipe offers a structured way to apply a sequence of user-defined functions (UDFs).\n",
    "df.pipe(pd_describe) # pd_describe this df as the a_df argument\n",
    "\n",
    "# your pd_describe function is a very handy way to look at statistics for any partial data in your data frame.\n",
    "# you could select just all the I64 columns and call pipe on it and it will give you statistics for that partial data. See example below\n"
   ]
  },
  {
   "cell_type": "code",
   "execution_count": null,
   "id": "64e7a342-a6f3-43bd-a503-2e6b199d9692",
   "metadata": {},
   "outputs": [],
   "source": [
    "# df.pipe offers a structured way to apply a sequence of user-defined functions (UDFs).\n",
    "df.select(pl.col(pl.Int64)).pipe(pd_describe)"
   ]
  },
  {
   "cell_type": "code",
   "execution_count": null,
   "id": "178a554e-af37-4d26-a9ca-dc199c368b0e",
   "metadata": {},
   "outputs": [],
   "source": [
    "# casting\n",
    "df.select(pl.col('impressions').cast(pl.Int32))"
   ]
  },
  {
   "cell_type": "code",
   "execution_count": null,
   "id": "8049dc94",
   "metadata": {},
   "outputs": [],
   "source": [
    "# stick the new Int32 impressinos column back in the main dataframe\n",
    "df.with_columns(pl.col('impressions').cast(pl.Int32))"
   ]
  },
  {
   "cell_type": "code",
   "execution_count": 111,
   "id": "f64208a5-590f-491a-ac30-18cf12c385af",
   "metadata": {},
   "outputs": [],
   "source": [
    "import numpy as np"
   ]
  },
  {
   "cell_type": "code",
   "execution_count": 112,
   "id": "3a7f6852-862b-4c06-b2c0-d6694586fc3c",
   "metadata": {},
   "outputs": [
    {
     "data": {
      "text/plain": [
       "iinfo(min=0, max=4294967295, dtype=uint32)"
      ]
     },
     "execution_count": 112,
     "metadata": {},
     "output_type": "execute_result"
    }
   ],
   "source": [
    "np.iinfo(np.uint32)"
   ]
  },
  {
   "cell_type": "code",
   "execution_count": 120,
   "id": "562c991c-f6f0-4694-8c6d-6e10397cc27c",
   "metadata": {},
   "outputs": [
    {
     "data": {
      "text/plain": [
       "['Tweet id',\n",
       " 'impressions',\n",
       " 'engagements',\n",
       " 'engagement rate',\n",
       " 'retweets',\n",
       " 'replies',\n",
       " 'likes',\n",
       " 'user profile clicks',\n",
       " 'url clicks',\n",
       " 'hashtag clicks',\n",
       " 'detail expands',\n",
       " 'permalink clicks',\n",
       " 'app opens',\n",
       " 'app installs',\n",
       " 'follows',\n",
       " 'email tweet',\n",
       " 'dial phone',\n",
       " 'media views',\n",
       " 'media engagements']"
      ]
     },
     "execution_count": 120,
     "metadata": {},
     "output_type": "execute_result"
    }
   ],
   "source": [
    "df.select(cs.numeric()).columns"
   ]
  },
  {
   "cell_type": "code",
   "execution_count": 121,
   "id": "e44aaa66-2749-461f-bbb0-0e11493665ba",
   "metadata": {},
   "outputs": [
    {
     "data": {
      "text/html": [
       "<div><style>\n",
       ".dataframe > thead > tr,\n",
       ".dataframe > tbody > tr {\n",
       "  text-align: right;\n",
       "  white-space: pre-wrap;\n",
       "}\n",
       "</style>\n",
       "<small>shape: (14, 9)</small><table border=\"1\" class=\"dataframe\"><thead><tr><th>engagement rate</th><th>replies</th><th>hashtag clicks</th><th>permalink clicks</th><th>app opens</th><th>app installs</th><th>follows</th><th>email tweet</th><th>dial phone</th></tr><tr><td>f64</td><td>f64</td><td>f64</td><td>f64</td><td>f64</td><td>f64</td><td>f64</td><td>f64</td><td>f64</td></tr></thead><tbody><tr><td>0.0</td><td>0.0</td><td>0.0</td><td>0.0</td><td>0.0</td><td>0.0</td><td>0.0</td><td>0.0</td><td>0.0</td></tr><tr><td>0.007064</td><td>0.0</td><td>0.0</td><td>0.0</td><td>0.0</td><td>0.0</td><td>0.0</td><td>0.0</td><td>0.0</td></tr><tr><td>0.016043</td><td>0.0</td><td>0.0</td><td>0.0</td><td>0.0</td><td>0.0</td><td>0.0</td><td>0.0</td><td>0.0</td></tr><tr><td>0.040902</td><td>1.0</td><td>0.0</td><td>0.0</td><td>0.0</td><td>0.0</td><td>0.0</td><td>0.0</td><td>0.0</td></tr><tr><td>0.484127</td><td>207.0</td><td>12.0</td><td>0.0</td><td>3.0</td><td>0.0</td><td>191.0</td><td>0.0</td><td>0.0</td></tr><tr><td>&hellip;</td><td>&hellip;</td><td>&hellip;</td><td>&hellip;</td><td>&hellip;</td><td>&hellip;</td><td>&hellip;</td><td>&hellip;</td><td>&hellip;</td></tr><tr><td>0.0</td><td>0.0</td><td>0.0</td><td>0.0</td><td>0.0</td><td>0.0</td><td>0.0</td><td>0.0</td><td>0.0</td></tr><tr><td>0.007064</td><td>0.0</td><td>0.0</td><td>0.0</td><td>0.0</td><td>0.0</td><td>0.0</td><td>0.0</td><td>0.0</td></tr><tr><td>0.016043</td><td>0.0</td><td>0.0</td><td>0.0</td><td>0.0</td><td>0.0</td><td>0.0</td><td>0.0</td><td>0.0</td></tr><tr><td>0.040902</td><td>1.0</td><td>0.0</td><td>0.0</td><td>0.0</td><td>0.0</td><td>0.0</td><td>0.0</td><td>0.0</td></tr><tr><td>0.484127</td><td>207.0</td><td>12.0</td><td>0.0</td><td>3.0</td><td>0.0</td><td>191.0</td><td>0.0</td><td>0.0</td></tr></tbody></table></div>"
      ],
      "text/plain": [
       "shape: (14, 9)\n",
       "┌─────────────────┬─────────┬─────────┬───────────┬───┬──────────┬─────────┬───────┬────────────┐\n",
       "│ engagement rate ┆ replies ┆ hashtag ┆ permalink ┆ … ┆ app      ┆ follows ┆ email ┆ dial phone │\n",
       "│ ---             ┆ ---     ┆ clicks  ┆ clicks    ┆   ┆ installs ┆ ---     ┆ tweet ┆ ---        │\n",
       "│ f64             ┆ f64     ┆ ---     ┆ ---       ┆   ┆ ---      ┆ f64     ┆ ---   ┆ f64        │\n",
       "│                 ┆         ┆ f64     ┆ f64       ┆   ┆ f64      ┆         ┆ f64   ┆            │\n",
       "╞═════════════════╪═════════╪═════════╪═══════════╪═══╪══════════╪═════════╪═══════╪════════════╡\n",
       "│ 0.0             ┆ 0.0     ┆ 0.0     ┆ 0.0       ┆ … ┆ 0.0      ┆ 0.0     ┆ 0.0   ┆ 0.0        │\n",
       "│ 0.007064        ┆ 0.0     ┆ 0.0     ┆ 0.0       ┆ … ┆ 0.0      ┆ 0.0     ┆ 0.0   ┆ 0.0        │\n",
       "│ 0.016043        ┆ 0.0     ┆ 0.0     ┆ 0.0       ┆ … ┆ 0.0      ┆ 0.0     ┆ 0.0   ┆ 0.0        │\n",
       "│ 0.040902        ┆ 1.0     ┆ 0.0     ┆ 0.0       ┆ … ┆ 0.0      ┆ 0.0     ┆ 0.0   ┆ 0.0        │\n",
       "│ 0.484127        ┆ 207.0   ┆ 12.0    ┆ 0.0       ┆ … ┆ 0.0      ┆ 191.0   ┆ 0.0   ┆ 0.0        │\n",
       "│ …               ┆ …       ┆ …       ┆ …         ┆ … ┆ …        ┆ …       ┆ …     ┆ …          │\n",
       "│ 0.0             ┆ 0.0     ┆ 0.0     ┆ 0.0       ┆ … ┆ 0.0      ┆ 0.0     ┆ 0.0   ┆ 0.0        │\n",
       "│ 0.007064        ┆ 0.0     ┆ 0.0     ┆ 0.0       ┆ … ┆ 0.0      ┆ 0.0     ┆ 0.0   ┆ 0.0        │\n",
       "│ 0.016043        ┆ 0.0     ┆ 0.0     ┆ 0.0       ┆ … ┆ 0.0      ┆ 0.0     ┆ 0.0   ┆ 0.0        │\n",
       "│ 0.040902        ┆ 1.0     ┆ 0.0     ┆ 0.0       ┆ … ┆ 0.0      ┆ 0.0     ┆ 0.0   ┆ 0.0        │\n",
       "│ 0.484127        ┆ 207.0   ┆ 12.0    ┆ 0.0       ┆ … ┆ 0.0      ┆ 191.0   ┆ 0.0   ┆ 0.0        │\n",
       "└─────────────────┴─────────┴─────────┴───────────┴───┴──────────┴─────────┴───────┴────────────┘"
      ]
     },
     "execution_count": 121,
     "metadata": {},
     "output_type": "execute_result"
    }
   ],
   "source": [
    "## \n",
    "(df\n",
    " .select(cs.numeric())  # take all the numeric cols\n",
    " .pipe(pd_describe) # do a describe on that\n",
    " .select([ # select numeric cols where max value is <= 255\n",
    "     pl.col(col)\n",
    "       for col in df.select(cs.numeric()).columns\n",
    "     if df[col].max() <= 255 \n",
    " ])\n",
    ") "
   ]
  },
  {
   "cell_type": "code",
   "execution_count": null,
   "id": "fb9b5e76-7cff-42a5-b24a-8ede575feb34",
   "metadata": {},
   "outputs": [],
   "source": [
    "# Laziness\n",
    "# in polars, you can actually create a chain of User defined operations on your dataframe and then hand it together to polars\n",
    "# polars will then analyze it, optimize it and run it as one big operations instead of running many smaller un-optimized operations"
   ]
  }
 ],
 "metadata": {
  "kernelspec": {
   "display_name": "Python 3 (ipykernel)",
   "language": "python",
   "name": "python3"
  },
  "language_info": {
   "codemirror_mode": {
    "name": "ipython",
    "version": 3
   },
   "file_extension": ".py",
   "mimetype": "text/x-python",
   "name": "python",
   "nbconvert_exporter": "python",
   "pygments_lexer": "ipython3",
   "version": "3.12.3"
  }
 },
 "nbformat": 4,
 "nbformat_minor": 5
}
