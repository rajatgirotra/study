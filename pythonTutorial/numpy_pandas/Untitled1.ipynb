{
 "cells": [
  {
   "cell_type": "code",
   "execution_count": 1,
   "metadata": {
    "collapsed": true
   },
   "outputs": [],
   "source": [
    "import matplotlib as mpl\n",
    "import matplotlib.pyplot as plt\n",
    "from pandas import Series, DataFrame\n",
    "import numpy as np\n",
    "import pandas as pd"
   ]
  },
  {
   "cell_type": "code",
   "execution_count": 2,
   "metadata": {
    "collapsed": true
   },
   "outputs": [],
   "source": [
    "%matplotlib inline"
   ]
  },
  {
   "cell_type": "code",
   "execution_count": 26,
   "metadata": {},
   "outputs": [
    {
     "data": {
      "text/plain": [
       "[<matplotlib.lines.Line2D at 0x7f3c8c9e9fd0>]"
      ]
     },
     "execution_count": 26,
     "metadata": {},
     "output_type": "execute_result"
    },
    {
     "data": {
      "image/png": "[encoded data removed]",
      "text/plain": [
       "<matplotlib.figure.Figure at 0x7f3c8c601860>"
      ]
     },
     "metadata": {},
     "output_type": "display_data"
    }
   ],
   "source": [
    "#fig_1 = plt.figure(facecolor='m', edgecolor='g')\n",
    "\n",
    "fig = plt.figure(\"Profits\", facecolor='w', edgecolor='m')\n",
    "#plt.plot(2, 3, marker='D', markersize=12)\n",
    "\n",
    "#fig = plt.figure(1)\n",
    "#plt.plot(3, 2, marker='D', markersize=12)\n",
    "\n",
    "#fig = plt.figure(2)\n",
    "plt.suptitle('Profits')\n",
    "ax = plt.subplot(211)\n",
    "plt.plot(3, 3, marker='D', markersize=12)\n",
    "plt.subplot(212)\n",
    "plt.plot(3, 3, marker='D', markersize=12)\n",
    "\n",
    "#mpl.rcParams\n",
    "#plt.setp('axes', 'facecolor')\n",
    "#plt.close(fig)"
   ]
  },
  {
   "cell_type": "code",
   "execution_count": 20,
   "metadata": {},
   "outputs": [
    {
     "name": "stdout",
     "output_type": "stream",
     "text": [
      "  facecolor: any matplotlib color - see help(colors) \n"
     ]
    }
   ],
   "source": [
    "plt.setp(fig, 'facecolor')"
   ]
  },
  {
   "cell_type": "code",
   "execution_count": null,
   "metadata": {
    "collapsed": true
   },
   "outputs": [],
   "source": []
  }
 ],
 "metadata": {
  "kernelspec": {
   "display_name": "Python 3",
   "language": "python",
   "name": "python3"
  },
  "language_info": {
   "codemirror_mode": {
    "name": "ipython",
    "version": 3
   },
   "file_extension": ".py",
   "mimetype": "text/x-python",
   "name": "python",
   "nbconvert_exporter": "python",
   "pygments_lexer": "ipython3",
   "version": "3.6.2"
  }
 },
 "nbformat": 4,
 "nbformat_minor": 2
}
