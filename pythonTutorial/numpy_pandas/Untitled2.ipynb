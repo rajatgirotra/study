{
 "cells": [
  {
   "cell_type": "code",
   "execution_count": 1,
   "id": "1d84da56",
   "metadata": {},
   "outputs": [],
   "source": [
    "import numpy as np"
   ]
  },
  {
   "cell_type": "code",
   "execution_count": 2,
   "id": "82645c63",
   "metadata": {},
   "outputs": [],
   "source": [
    "\n",
    "arr = np.array([1, 2, 3, 4], dtype=np.float64)"
   ]
  },
  {
   "cell_type": "code",
   "execution_count": 3,
   "id": "462e783e",
   "metadata": {},
   "outputs": [
    {
     "name": "stdout",
     "output_type": "stream",
     "text": [
      "(4,)\n",
      "float64\n",
      "1\n",
      "4\n",
      "[1. 2. 3. 4.]\n"
     ]
    }
   ],
   "source": [
    "print(f'{arr.shape}')\n",
    "print(arr.dtype)\n",
    "print(arr.ndim)\n",
    "print(arr\n",
    "      .size)\n",
    "print(arr)"
   ]
  },
  {
   "cell_type": "code",
   "execution_count": 4,
   "id": "72fb0387",
   "metadata": {},
   "outputs": [
    {
     "data": {
      "text/plain": [
       "array([[1., 1., 1.],\n",
       "       [1., 1., 1.]])"
      ]
     },
     "execution_count": 4,
     "metadata": {},
     "output_type": "execute_result"
    }
   ],
   "source": [
    "arr = np.ones((2, 3))\n",
    "arr"
   ]
  },
  {
   "cell_type": "code",
   "execution_count": 6,
   "id": "05cc1ab0",
   "metadata": {},
   "outputs": [
    {
     "data": {
      "text/plain": [
       "array([0. , 0.5, 1. , 1.5, 2. , 2.5, 3. , 3.5, 4. , 4.5, 5. , 5.5, 6. ,\n",
       "       6.5, 7. , 7.5, 8. , 8.5, 9. , 9.5])"
      ]
     },
     "execution_count": 6,
     "metadata": {},
     "output_type": "execute_result"
    }
   ],
   "source": [
    "np.arange(0, 10, 0.5, dtype=np.float64)"
   ]
  },
  {
   "cell_type": "code",
   "execution_count": 20,
   "id": "cabf0583",
   "metadata": {},
   "outputs": [
    {
     "data": {
      "text/plain": [
       "array([0. , 0.3, 0.6, 0.9, 1.2, 1.5, 1.8, 2.1, 2.4, 2.7, 3. , 3.3, 3.6,\n",
       "       3.9, 4.2, 4.5, 4.8, 5.1, 5.4, 5.7, 6. ])"
      ]
     },
     "execution_count": 20,
     "metadata": {},
     "output_type": "execute_result"
    }
   ],
   "source": [
    "arr = np.linspace(0, 6, num=21, dtype=np.float64)\n",
    "arr"
   ]
  },
  {
   "cell_type": "code",
   "execution_count": 18,
   "id": "81a1f4e2-f6c1-45f6-a0dc-e9fefa061458",
   "metadata": {},
   "outputs": [
    {
     "data": {
      "text/plain": [
       "array([0, 0, 0, 0, 1, 1, 1, 2, 2, 2, 3, 3, 3, 3, 4, 4, 4, 5, 5, 5, 6])"
      ]
     },
     "execution_count": 18,
     "metadata": {},
     "output_type": "execute_result"
    }
   ],
   "source": [
    "arr.astype(np.int64)"
   ]
  },
  {
   "cell_type": "code",
   "execution_count": 16,
   "id": "016b366e-2f5c-4613-af87-aec760f5958b",
   "metadata": {},
   "outputs": [
    {
     "data": {
      "text/plain": [
       "array([[[1.51558634e-316, 0.00000000e+000, 6.12141097e-310],\n",
       "        [6.12141097e-310, 6.12141097e-310, 6.12141097e-310],\n",
       "        [6.12141097e-310, 6.12141097e-310, 6.12141097e-310]],\n",
       "\n",
       "       [[6.12141097e-310, 6.12141097e-310, 6.12141097e-310],\n",
       "        [6.12141097e-310, 6.12141097e-310, 6.12141097e-310],\n",
       "        [6.12141097e-310, 6.12141097e-310, 6.12141097e-310]]])"
      ]
     },
     "execution_count": 16,
     "metadata": {},
     "output_type": "execute_result"
    }
   ],
   "source": [
    "np.empty((2, 3, 3))"
   ]
  },
  {
   "cell_type": "code",
   "execution_count": 22,
   "id": "edabd6c1-75ff-4d35-af78-3d54aabe09f9",
   "metadata": {},
   "outputs": [
    {
     "data": {
      "text/plain": [
       "array([[0. , 0.3, 0.6, 0.9, 1.2, 1.5, 1.8],\n",
       "       [2.1, 2.4, 2.7, 3. , 3.3, 3.6, 3.9],\n",
       "       [4.2, 4.5, 4.8, 5.1, 5.4, 5.7, 6. ]])"
      ]
     },
     "execution_count": 22,
     "metadata": {},
     "output_type": "execute_result"
    }
   ],
   "source": [
    "np.reshape(arr, (3, 7))\n"
   ]
  },
  {
   "cell_type": "code",
   "execution_count": 36,
   "id": "d52c7556-d251-4f72-9343-3a7dac50f805",
   "metadata": {},
   "outputs": [
    {
     "data": {
      "text/plain": [
       "array([[ 1.39956639,  0.22652026,  0.24278483],\n",
       "       [-0.05312508,  0.66737861, -0.06432593]])"
      ]
     },
     "execution_count": 36,
     "metadata": {},
     "output_type": "execute_result"
    }
   ],
   "source": [
    "rng = np.random.default_rng()\n",
    "rng.standard_normal((2, 3))"
   ]
  },
  {
   "cell_type": "code",
   "execution_count": 93,
   "id": "20f22a1d-c2ec-4742-be59-5554224a236e",
   "metadata": {},
   "outputs": [],
   "source": [
    "#arr = np.arange(1, 13, 1).reshape(2, 2, 3)\n",
    "arr = np.arange(1, 25, 1).reshape(3, 2, 4)\n"
   ]
  },
  {
   "cell_type": "code",
   "execution_count": 94,
   "id": "7f49d5ea-7161-4157-b0d0-6c4d3292181a",
   "metadata": {},
   "outputs": [
    {
     "data": {
      "text/plain": [
       "array([[[ 1,  2,  3,  4],\n",
       "        [ 5,  6,  7,  8]],\n",
       "\n",
       "       [[ 9, 10, 11, 12],\n",
       "        [13, 14, 15, 16]],\n",
       "\n",
       "       [[17, 18, 19, 20],\n",
       "        [21, 22, 23, 24]]])"
      ]
     },
     "execution_count": 94,
     "metadata": {},
     "output_type": "execute_result"
    }
   ],
   "source": [
    "arr"
   ]
  },
  {
   "cell_type": "code",
   "execution_count": 97,
   "id": "4f08235e-cfa7-4244-834c-1768f9d3055c",
   "metadata": {},
   "outputs": [
    {
     "data": {
      "text/plain": [
       "(2, 2)"
      ]
     },
     "execution_count": 97,
     "metadata": {},
     "output_type": "execute_result"
    }
   ],
   "source": [
    "arr[1, :, 1:3].shape"
   ]
  },
  {
   "cell_type": "code",
   "execution_count": 103,
   "id": "aa2ab0f5-d248-4840-8d47-8fec3f160253",
   "metadata": {},
   "outputs": [],
   "source": [
    "arr = np.random.randn(2, 3)"
   ]
  },
  {
   "cell_type": "code",
   "execution_count": 104,
   "id": "2653964b-3b99-4c45-bea9-872789ffdfab",
   "metadata": {},
   "outputs": [
    {
     "data": {
      "text/plain": [
       "array([[ 1.08176782e+00, -9.88744052e-01,  9.07071503e-04],\n",
       "       [-6.68244429e-02, -9.45144327e-01,  6.64241373e-02]])"
      ]
     },
     "execution_count": 104,
     "metadata": {},
     "output_type": "execute_result"
    }
   ],
   "source": [
    "arr"
   ]
  },
  {
   "cell_type": "code",
   "execution_count": 105,
   "id": "b8f0cea3-676d-45be-aa1c-c46429e0b50a",
   "metadata": {},
   "outputs": [
    {
     "data": {
      "text/plain": [
       "array([[False,  True, False],\n",
       "       [ True,  True, False]])"
      ]
     },
     "execution_count": 105,
     "metadata": {},
     "output_type": "execute_result"
    }
   ],
   "source": [
    "arr < 0"
   ]
  },
  {
   "cell_type": "code",
   "execution_count": 106,
   "id": "ad0e0b7d-447f-4932-a0c7-688abac221ce",
   "metadata": {},
   "outputs": [
    {
     "data": {
      "text/plain": [
       "(3,)"
      ]
     },
     "execution_count": 106,
     "metadata": {},
     "output_type": "execute_result"
    }
   ],
   "source": [
    "arr[arr<0].shape"
   ]
  },
  {
   "cell_type": "code",
   "execution_count": 107,
   "id": "140af246-acd3-4e24-a2b4-8dd72861ebfc",
   "metadata": {},
   "outputs": [],
   "source": [
    "names = np.array([\"Bob\", \"Will\", \"Joe\", \"Bob\", \"Henry\", \"Will\", \"Matt\"])"
   ]
  },
  {
   "cell_type": "code",
   "execution_count": 108,
   "id": "e1ccec84-c8d2-4d66-b8e1-a6d45e060cfb",
   "metadata": {},
   "outputs": [
    {
     "data": {
      "text/plain": [
       "array([ True, False, False,  True, False, False, False])"
      ]
     },
     "execution_count": 108,
     "metadata": {},
     "output_type": "execute_result"
    }
   ],
   "source": [
    "names == 'Bob'"
   ]
  },
  {
   "cell_type": "code",
   "execution_count": 110,
   "id": "46d75768-8fac-4a12-b220-00f54e9f8c3d",
   "metadata": {},
   "outputs": [
    {
     "data": {
      "text/plain": [
       "array([[ 0.58789652,  2.08139464,  1.5608841 ,  2.12885675],\n",
       "       [-1.88469053,  0.41512657,  1.62204397,  0.43979452],\n",
       "       [-0.29621396, -1.09018962, -0.2369001 , -0.55428327],\n",
       "       [-1.03972336,  0.06664559, -0.21286953, -1.36794122],\n",
       "       [ 0.54852535,  0.41414849,  0.22261525, -0.13181781],\n",
       "       [ 2.37343818,  0.50792256, -0.48387882, -0.00768293],\n",
       "       [ 0.78502352,  0.34573973,  1.17316116,  0.49708119]])"
      ]
     },
     "execution_count": 110,
     "metadata": {},
     "output_type": "execute_result"
    }
   ],
   "source": [
    "arr = np.random.randn(7, 4) \n",
    "arr"
   ]
  },
  {
   "cell_type": "code",
   "execution_count": 120,
   "id": "51bdc90c-a14d-44e8-9a5b-75898e0cb73a",
   "metadata": {},
   "outputs": [
    {
     "data": {
      "text/plain": [
       "(2,)"
      ]
     },
     "execution_count": 120,
     "metadata": {},
     "output_type": "execute_result"
    }
   ],
   "source": [
    "arr[1:3, 0].shape"
   ]
  },
  {
   "cell_type": "code",
   "execution_count": 122,
   "id": "6d134648-9fb4-4cf3-a522-858dbfde0f51",
   "metadata": {},
   "outputs": [
    {
     "data": {
      "text/plain": [
       "array([10,  9,  8,  7,  6,  5,  4,  3,  2,  1])"
      ]
     },
     "execution_count": 122,
     "metadata": {},
     "output_type": "execute_result"
    }
   ],
   "source": [
    "arr = np.arange(10, 0, -1) \n",
    "arr"
   ]
  },
  {
   "cell_type": "code",
   "execution_count": 126,
   "id": "5d240c14-6077-4705-a0c4-6314f3fd886a",
   "metadata": {},
   "outputs": [
    {
     "data": {
      "text/plain": [
       "array([[10,  9],\n",
       "       [10,  9]])"
      ]
     },
     "execution_count": 126,
     "metadata": {},
     "output_type": "execute_result"
    }
   ],
   "source": [
    "arr[np.array([[0, 1], [0, 1]])]"
   ]
  },
  {
   "cell_type": "code",
   "execution_count": 128,
   "id": "4785a2bb-5d27-4ad9-a293-30c076423d0c",
   "metadata": {},
   "outputs": [
    {
     "data": {
      "text/plain": [
       "array([[[ 0,  1,  2,  3],\n",
       "        [ 4,  5,  6,  7],\n",
       "        [ 8,  9, 10, 11]],\n",
       "\n",
       "       [[12, 13, 14, 15],\n",
       "        [16, 17, 18, 19],\n",
       "        [20, 21, 22, 23]]])"
      ]
     },
     "execution_count": 128,
     "metadata": {},
     "output_type": "execute_result"
    }
   ],
   "source": [
    "arr = np.arange(24).reshape(2, 3, 4)\n",
    "arr"
   ]
  },
  {
   "cell_type": "code",
   "execution_count": 131,
   "id": "0e946c81-38c0-462d-952c-a0577a1e796d",
   "metadata": {},
   "outputs": [
    {
     "data": {
      "text/plain": [
       "(3,)"
      ]
     },
     "execution_count": 131,
     "metadata": {},
     "output_type": "execute_result"
    }
   ],
   "source": [
    "arr[np.array([0, 1, 1]), np.array([1, 2, 1]), np.array([1, 2, 3])].shape"
   ]
  },
  {
   "cell_type": "code",
   "execution_count": 138,
   "id": "2bbd2b48-60ed-4c16-bd25-1b7df543b3fd",
   "metadata": {},
   "outputs": [
    {
     "data": {
      "text/plain": [
       "array([[ 4,  5,  6,  7],\n",
       "       [20, 21, 22, 23],\n",
       "       [16, 17, 18, 19]])"
      ]
     },
     "execution_count": 138,
     "metadata": {},
     "output_type": "execute_result"
    }
   ],
   "source": [
    "arr_indexed = arr[np.array([0, 1, 1]), np.array([1, 2, 1])]\n",
    "arr_indexed"
   ]
  },
  {
   "cell_type": "code",
   "execution_count": 139,
   "id": "d6bcf031-6396-4444-bf54-a0fa17cd8403",
   "metadata": {},
   "outputs": [],
   "source": [
    "arr_indexed[:] = 0\n"
   ]
  },
  {
   "cell_type": "code",
   "execution_count": 141,
   "id": "2af5991f-dbd9-472b-9bc1-81284c172c0e",
   "metadata": {},
   "outputs": [
    {
     "data": {
      "text/plain": [
       "array([[[ 0,  1,  2,  3],\n",
       "        [ 4,  5,  6,  7],\n",
       "        [ 8,  9, 10, 11]],\n",
       "\n",
       "       [[12, 13, 14, 15],\n",
       "        [16, 17, 18, 19],\n",
       "        [20, 21, 22, 23]]])"
      ]
     },
     "execution_count": 141,
     "metadata": {},
     "output_type": "execute_result"
    }
   ],
   "source": [
    "arr\n",
    "#arr_indexed"
   ]
  },
  {
   "cell_type": "code",
   "execution_count": 144,
   "id": "88d42cd0-3721-4237-9fc5-a30324bca1bd",
   "metadata": {},
   "outputs": [
    {
     "ename": "IndexError",
     "evalue": "shape mismatch: indexing arrays could not be broadcast together with shapes (3,) (2,) ",
     "output_type": "error",
     "traceback": [
      "\u001b[0;31m---------------------------------------------------------------------------\u001b[0m",
      "\u001b[0;31mIndexError\u001b[0m                                Traceback (most recent call last)",
      "Cell \u001b[0;32mIn[144], line 1\u001b[0m\n\u001b[0;32m----> 1\u001b[0m arr_indexed \u001b[38;5;241m=\u001b[39m arr[np\u001b[38;5;241m.\u001b[39marray([\u001b[38;5;241m0\u001b[39m, \u001b[38;5;241m1\u001b[39m, \u001b[38;5;241m1\u001b[39m]), [\u001b[38;5;241m0\u001b[39m, \u001b[38;5;241m2\u001b[39m], \u001b[38;5;241m3\u001b[39m]\n",
      "\u001b[0;31mIndexError\u001b[0m: shape mismatch: indexing arrays could not be broadcast together with shapes (3,) (2,) "
     ]
    }
   ],
   "source": [
    "arr_indexed = arr[np.array([0, 1, 1]), [0, 2], 3]"
   ]
  },
  {
   "cell_type": "code",
   "execution_count": 143,
   "id": "866c824d-8562-4912-8b6c-b81a6a0efce4",
   "metadata": {},
   "outputs": [
    {
     "data": {
      "text/plain": [
       "array([11, 23, 23])"
      ]
     },
     "execution_count": 143,
     "metadata": {},
     "output_type": "execute_result"
    }
   ],
   "source": [
    "arr_indexed"
   ]
  },
  {
   "cell_type": "code",
   "execution_count": 145,
   "id": "4b33fcca-6acd-4a23-8656-46ee2dec7d4e",
   "metadata": {},
   "outputs": [
    {
     "data": {
      "text/plain": [
       "array([[-0.77790687, -0.72662062, -2.03107631, -2.03987679],\n",
       "       [ 2.07057823, -0.04199792,  0.10140466, -0.88617013],\n",
       "       [-0.93374722, -2.76092072, -0.55573462, -0.68438273],\n",
       "       [ 0.58597968,  1.2080812 ,  0.29081551,  0.74137408],\n",
       "       [-0.22334866,  1.82240807,  0.46266871, -0.19841311],\n",
       "       [-1.90197375,  1.28513776,  0.79456649,  0.64744116],\n",
       "       [ 0.21739798, -1.46741487, -1.00200072,  0.67573917]])"
      ]
     },
     "execution_count": 145,
     "metadata": {},
     "output_type": "execute_result"
    }
   ],
   "source": [
    "rng = np.random.default_rng()\n",
    "arr = rng.standard_normal((7, 4))\n",
    "arr"
   ]
  },
  {
   "cell_type": "code",
   "execution_count": 146,
   "id": "37729fe3-831d-49c4-bb4a-3d6657587446",
   "metadata": {},
   "outputs": [],
   "source": [
    "boolArr = rng.choice([True, False], (7,))"
   ]
  },
  {
   "cell_type": "code",
   "execution_count": 147,
   "id": "87221a3d-8669-439e-b438-1f7efd21b854",
   "metadata": {},
   "outputs": [
    {
     "data": {
      "text/plain": [
       "array([False, False,  True, False,  True, False, False])"
      ]
     },
     "execution_count": 147,
     "metadata": {},
     "output_type": "execute_result"
    }
   ],
   "source": [
    "boolArr"
   ]
  },
  {
   "cell_type": "code",
   "execution_count": 148,
   "id": "2c67fbba-a35f-4db7-85a1-f418fc8d1b8b",
   "metadata": {},
   "outputs": [],
   "source": [
    "arr_indexed = arr[boolArr]"
   ]
  },
  {
   "cell_type": "code",
   "execution_count": 149,
   "id": "d8022521-bdc6-4fcf-9b35-0f78e4c4064a",
   "metadata": {},
   "outputs": [
    {
     "data": {
      "text/plain": [
       "(2, 4)"
      ]
     },
     "execution_count": 149,
     "metadata": {},
     "output_type": "execute_result"
    }
   ],
   "source": [
    "arr_indexed.shape"
   ]
  },
  {
   "cell_type": "code",
   "execution_count": 150,
   "id": "74b864e7-f5d7-4914-96ac-0eba77243f90",
   "metadata": {},
   "outputs": [
    {
     "data": {
      "text/plain": [
       "array([[-0.93374722, -2.76092072, -0.55573462, -0.68438273],\n",
       "       [-0.22334866,  1.82240807,  0.46266871, -0.19841311]])"
      ]
     },
     "execution_count": 150,
     "metadata": {},
     "output_type": "execute_result"
    }
   ],
   "source": [
    "arr_indexed"
   ]
  },
  {
   "cell_type": "code",
   "execution_count": 151,
   "id": "82654e19-d62e-4f20-a086-e9a7d78c3662",
   "metadata": {},
   "outputs": [],
   "source": [
    "arr = np.arange(1, 13, 1).reshape(2, 2, 3)"
   ]
  },
  {
   "cell_type": "code",
   "execution_count": 152,
   "id": "fffa9bfb-4cd7-4492-9b2b-5e7f4d3792a6",
   "metadata": {},
   "outputs": [
    {
     "data": {
      "text/plain": [
       "array([[[ 1,  2,  3],\n",
       "        [ 4,  5,  6]],\n",
       "\n",
       "       [[ 7,  8,  9],\n",
       "        [10, 11, 12]]])"
      ]
     },
     "execution_count": 152,
     "metadata": {},
     "output_type": "execute_result"
    }
   ],
   "source": [
    "arr"
   ]
  },
  {
   "cell_type": "code",
   "execution_count": 153,
   "id": "1350deb3-575f-461d-a4f4-2f34ac9a9680",
   "metadata": {},
   "outputs": [],
   "source": [
    "arr1d = np.array([0, 1, 2])"
   ]
  },
  {
   "cell_type": "code",
   "execution_count": 154,
   "id": "ce263a81-c381-4a1b-bb2f-cbd9dd8f507d",
   "metadata": {},
   "outputs": [
    {
     "data": {
      "text/plain": [
       "array([[[ 1,  3,  5],\n",
       "        [ 4,  6,  8]],\n",
       "\n",
       "       [[ 7,  9, 11],\n",
       "        [10, 12, 14]]])"
      ]
     },
     "execution_count": 154,
     "metadata": {},
     "output_type": "execute_result"
    }
   ],
   "source": [
    "arr + arr1d"
   ]
  },
  {
   "cell_type": "code",
   "execution_count": 155,
   "id": "49730730-2d13-499b-81e4-151feb0235c8",
   "metadata": {},
   "outputs": [],
   "source": [
    "a = np.array([0.0, 10.0, 20.0, 30.0])\n",
    "b = np.array([1.0, 2.0, 3.0])"
   ]
  },
  {
   "cell_type": "code",
   "execution_count": 163,
   "id": "3c46b26e-70a6-4de2-bc8e-e7b58800ce35",
   "metadata": {},
   "outputs": [],
   "source": [
    "x = a[:, np.newaxis]"
   ]
  },
  {
   "cell_type": "code",
   "execution_count": 164,
   "id": "45b110d3-2bc0-483d-a22f-fdc6949bc8b5",
   "metadata": {},
   "outputs": [
    {
     "data": {
      "text/plain": [
       "(4, 1)"
      ]
     },
     "execution_count": 164,
     "metadata": {},
     "output_type": "execute_result"
    }
   ],
   "source": [
    "x.shape"
   ]
  },
  {
   "cell_type": "code",
   "execution_count": 165,
   "id": "f23b5c20-5182-4810-abce-b5989add3798",
   "metadata": {},
   "outputs": [
    {
     "data": {
      "text/plain": [
       "(3,)"
      ]
     },
     "execution_count": 165,
     "metadata": {},
     "output_type": "execute_result"
    }
   ],
   "source": [
    "b.shape"
   ]
  },
  {
   "cell_type": "code",
   "execution_count": 166,
   "id": "ccee705f-a8a3-492c-a0cc-bab936e9c429",
   "metadata": {},
   "outputs": [
    {
     "data": {
      "text/plain": [
       "array([[ 1.,  2.,  3.],\n",
       "       [11., 12., 13.],\n",
       "       [21., 22., 23.],\n",
       "       [31., 32., 33.]])"
      ]
     },
     "execution_count": 166,
     "metadata": {},
     "output_type": "execute_result"
    }
   ],
   "source": [
    "x + b"
   ]
  },
  {
   "cell_type": "code",
   "execution_count": null,
   "id": "f2fdcc4e-2141-4c3b-ae47-8d1083ce4880",
   "metadata": {},
   "outputs": [],
   "source": []
  }
 ],
 "metadata": {
  "kernelspec": {
   "display_name": "Python 3 (ipykernel)",
   "language": "python",
   "name": "python3"
  },
  "language_info": {
   "codemirror_mode": {
    "name": "ipython",
    "version": 3
   },
   "file_extension": ".py",
   "mimetype": "text/x-python",
   "name": "python",
   "nbconvert_exporter": "python",
   "pygments_lexer": "ipython3",
   "version": "3.12.3"
  }
 },
 "nbformat": 4,
 "nbformat_minor": 5
}
