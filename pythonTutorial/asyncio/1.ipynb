{
 "cells": [
  {
   "cell_type": "code",
   "execution_count": 1,
   "metadata": {
    "collapsed": true
   },
   "outputs": [],
   "source": [
    "# Lets study about asyncio python library. Very trivial. Its just an event loop at its core. Like you have it in Qt \n",
    "# framework too. So it is single-threaded and can dispatch events, callbacks and also provide TCP/UDP server and \n",
    "# client capabilities, as you'll see.\n",
    "import asyncio"
   ]
  },
  {
   "cell_type": "code",
   "execution_count": 2,
   "metadata": {
    "collapsed": true
   },
   "outputs": [],
   "source": [
    "# Get the basic event loop\n",
    "event_loop = asyncio.get_event_loop()"
   ]
  },
  {
   "cell_type": "code",
   "execution_count": 3,
   "metadata": {
    "collapsed": false
   },
   "outputs": [
    {
     "name": "stdout",
     "output_type": "stream",
     "text": [
      "<class 'asyncio.unix_events._UnixSelectorEventLoop'>\n"
     ]
    }
   ],
   "source": [
    "print(type(event_loop))  "
   ]
  },
  {
   "cell_type": "code",
   "execution_count": null,
   "metadata": {
    "collapsed": true
   },
   "outputs": [],
   "source": [
    "# Some functions which you can run on event loops\n",
    "print(event_loop.is_running())\n",
    "event_loop.run_forever()  # Blocking call, will start the event loop in the current thread, so\n",
    "# hello world will not be printed.\n",
    "print('Hello World')"
   ]
  },
  {
   "cell_type": "raw",
   "metadata": {},
   "source": [
    "event_loop.run_until_complete(Future future)  # Stop when this future finishes, if argument is a co-routine, \n",
    "# asyncio will wrap it inside an Future using ensure_future()"
   ]
  },
  {
   "cell_type": "code",
   "execution_count": null,
   "metadata": {
    "collapsed": true
   },
   "outputs": [],
   "source": [
    "event_loop.stop()  # stop the event loop. All tasks scheduled before the stop happens will be scheduled.\n",
    "                   # all tasks with start time after the stop happens will not be scheduled. But if event loop\n",
    "                   # is started again, they will run."
   ]
  },
  {
   "cell_type": "code",
   "execution_count": null,
   "metadata": {
    "collapsed": true
   },
   "outputs": [],
   "source": [
    "event_loop.close()  # Terminate the event loop. After calling close, no other function can be called"
   ]
  },
  {
   "cell_type": "code",
   "execution_count": null,
   "metadata": {
    "collapsed": true
   },
   "outputs": [],
   "source": [
    "# asyncio has its own internal clock to schedule event and measure time. Most likely this is a monotonic clock,\n",
    "# so make no assumptions that this will be the system clock. You can schedule tasks on the event loop in a very\n",
    "# straight forward way\n",
    "event_loop.call_soon(callback, *args)  # Call the callback function as soon as possible; with arguments args. \n",
    "# if you want to pass keyword args to the callback handler, use functools partial. you know how to use that already.\n",
    "# The call returns a asyncio.Handle object which can be used to cancel the callback\n",
    "        "
   ]
  },
  {
   "cell_type": "code",
   "execution_count": null,
   "metadata": {
    "collapsed": true
   },
   "outputs": [],
   "source": [
    "event_loop.call_later(delayTime, callback, *args)  # delayTime should not be more than one day, retuns a Handle object"
   ]
  },
  {
   "cell_type": "code",
   "execution_count": null,
   "metadata": {
    "collapsed": true
   },
   "outputs": [],
   "source": [
    "event_loop.call_at(exactTime, callback, *args)  # Returns a Handle object, calls callback at exactly the time \n",
    "# specified based on its own internal clock."
   ]
  },
  {
   "cell_type": "code",
   "execution_count": null,
   "metadata": {
    "collapsed": true
   },
   "outputs": [],
   "source": [
    "event_loop.create_task(co-routine)  # Will create a task and return you the task object\n",
    "    "
   ]
  },
  {
   "cell_type": "code",
   "execution_count": null,
   "metadata": {
    "collapsed": true
   },
   "outputs": [],
   "source": [
    "event_loop.time()  # The event_loop owns internal clock time."
   ]
  },
  {
   "cell_type": "code",
   "execution_count": null,
   "metadata": {
    "collapsed": true
   },
   "outputs": [],
   "source": [
    "coroutine = event_loop.sleep(delay, result=None, loop=None) # Returns a co-routine which completes in exactly \n",
    "# \"delay\" time provided. If result is not None, it is provided as a result of the co-routine."
   ]
  },
  {
   "cell_type": "code",
   "execution_count": null,
   "metadata": {
    "collapsed": true
   },
   "outputs": [],
   "source": [
    "# There are many more API's, but its time to look at the following:\n",
    "# What is co-routine\n",
    "# What is a Future\n",
    "# What is a Task\n",
    "# What is a Handle\n",
    "# First read about the above, then we'll read about more"
   ]
  }
 ],
 "metadata": {
  "kernelspec": {
   "display_name": "Python 3",
   "language": "python",
   "name": "python3"
  },
  "language_info": {
   "codemirror_mode": {
    "name": "ipython",
    "version": 3
   },
   "file_extension": ".py",
   "mimetype": "text/x-python",
   "name": "python",
   "nbconvert_exporter": "python",
   "pygments_lexer": "ipython3",
   "version": "3.4.3"
  }
 },
 "nbformat": 4,
 "nbformat_minor": 0
}
