{
 "cells": [
  {
   "cell_type": "code",
   "execution_count": null,
   "metadata": {
    "collapsed": true
   },
   "outputs": [],
   "source": [
    "# Polynomial Linear Regression is similar to SLR is the sense that it is also based on one dependant variable x1.\n",
    "# but it has increasing powers of x. The equation is\n",
    "# y = b0 + b1x1 + b2x1^2 + b3x1^3 + ... + bnx1^n\n",
    "\n",
    "# But if we have powers of x, why is it still called Linear Regression??\n",
    "# Answer: Its called linear not because of the powers of x. It's called linear because of the coefficients. Whether or\n",
    "# not this function can be expressed as a linear combination of these coefficients.\n",
    "\n",
    "# An example of non-linear would be y = (b0+b1x1)/(b2x1 - b3x1) --> ie some other combination of expressions"
   ]
  }
 ],
 "metadata": {
  "kernelspec": {
   "display_name": "Python 3",
   "language": "python",
   "name": "python3"
  },
  "language_info": {
   "codemirror_mode": {
    "name": "ipython",
    "version": 3
   },
   "file_extension": ".py",
   "mimetype": "text/x-python",
   "name": "python",
   "nbconvert_exporter": "python",
   "pygments_lexer": "ipython3",
   "version": "3.6.2"
  }
 },
 "nbformat": 4,
 "nbformat_minor": 2
}
