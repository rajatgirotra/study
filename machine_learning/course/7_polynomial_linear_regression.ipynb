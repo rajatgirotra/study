{
 "cells": [
  {
   "cell_type": "code",
   "execution_count": 278,
   "metadata": {
    "collapsed": true
   },
   "outputs": [],
   "source": [
    "# Polynomial Linear Regression is similar to SLR is the sense that it is also based on one dependant variable x1.\n",
    "# but it has increasing powers of x. The equation is\n",
    "# y = b0 + b1x1 + b2x1^2 + b3x1^3 + ... + bnx1^n\n",
    "\n",
    "# But if we have powers of x, why is it still called Linear Regression??\n",
    "# Answer: Its called linear not because of the powers of x. It's called linear because of the coefficients. Whether or\n",
    "# not this function can be expressed as a linear combination of these coefficients.\n",
    "\n",
    "# So although Polynomial regression fits a nonlinear relationship between the value of x. it is still called a linear\n",
    "# estimator because the regression function is linear. Examples of PLR are finding growth rate of tissues, finding\n",
    "# the progression of disease epidemics.\n",
    "\n",
    "# An example of non-linear would be y = (b0+b1x1)/(b2x1 - b3x1) --> ie some other combination of expressions\n",
    "# A PLR is a special case of MLR where we use the MLR sklearn class with an exponential parameter\n",
    "\n",
    "# But if someone asks if Polynomial model is linear. You say it's not a linear regressor model."
   ]
  },
  {
   "cell_type": "code",
   "execution_count": 279,
   "metadata": {
    "collapsed": true
   },
   "outputs": [],
   "source": [
    "import pandas as pd\n",
    "from pandas import Series, DataFrame\n",
    "from sklearn.model_selection import train_test_split\n",
    "import numpy as np\n",
    "import matplotlib as mpl\n",
    "import matplotlib.pyplot as plt"
   ]
  },
  {
   "cell_type": "code",
   "execution_count": 280,
   "metadata": {
    "collapsed": true
   },
   "outputs": [],
   "source": [
    "%matplotlib inline"
   ]
  },
  {
   "cell_type": "code",
   "execution_count": 281,
   "metadata": {
    "collapsed": true
   },
   "outputs": [],
   "source": [
    "# Read the dataset\n",
    "# The dataset contains 2 IV's (Position and Level) and 1 DV (Salary).\n",
    "# We need to create a model to predict salary based on these 2 IV's.\n",
    "dataset = pd.read_csv('/home/rajatgirotra/study/machine_learning/course/MachineLearningA-ZTemplateFolder/Part2_Regression/Section6_PolynomialRegression/Position_Salaries.csv')"
   ]
  },
  {
   "cell_type": "code",
   "execution_count": 282,
   "metadata": {},
   "outputs": [
    {
     "data": {
      "text/html": [
       "<div>\n",
       "<style scoped>\n",
       "    .dataframe tbody tr th:only-of-type {\n",
       "        vertical-align: middle;\n",
       "    }\n",
       "\n",
       "    .dataframe tbody tr th {\n",
       "        vertical-align: top;\n",
       "    }\n",
       "\n",
       "    .dataframe thead th {\n",
       "        text-align: right;\n",
       "    }\n",
       "</style>\n",
       "<table border=\"1\" class=\"dataframe\">\n",
       "  <thead>\n",
       "    <tr style=\"text-align: right;\">\n",
       "      <th></th>\n",
       "      <th>Position</th>\n",
       "      <th>Level</th>\n",
       "      <th>Salary</th>\n",
       "    </tr>\n",
       "  </thead>\n",
       "  <tbody>\n",
       "    <tr>\n",
       "      <th>0</th>\n",
       "      <td>Business Analyst</td>\n",
       "      <td>1</td>\n",
       "      <td>45000</td>\n",
       "    </tr>\n",
       "    <tr>\n",
       "      <th>1</th>\n",
       "      <td>Junior Consultant</td>\n",
       "      <td>2</td>\n",
       "      <td>50000</td>\n",
       "    </tr>\n",
       "    <tr>\n",
       "      <th>2</th>\n",
       "      <td>Senior Consultant</td>\n",
       "      <td>3</td>\n",
       "      <td>60000</td>\n",
       "    </tr>\n",
       "    <tr>\n",
       "      <th>3</th>\n",
       "      <td>Manager</td>\n",
       "      <td>4</td>\n",
       "      <td>80000</td>\n",
       "    </tr>\n",
       "    <tr>\n",
       "      <th>4</th>\n",
       "      <td>Country Manager</td>\n",
       "      <td>5</td>\n",
       "      <td>110000</td>\n",
       "    </tr>\n",
       "  </tbody>\n",
       "</table>\n",
       "</div>"
      ],
      "text/plain": [
       "            Position  Level  Salary\n",
       "0   Business Analyst      1   45000\n",
       "1  Junior Consultant      2   50000\n",
       "2  Senior Consultant      3   60000\n",
       "3            Manager      4   80000\n",
       "4    Country Manager      5  110000"
      ]
     },
     "execution_count": 282,
     "metadata": {},
     "output_type": "execute_result"
    }
   ],
   "source": [
    "dataset.head()"
   ]
  },
  {
   "cell_type": "code",
   "execution_count": 283,
   "metadata": {
    "collapsed": true
   },
   "outputs": [],
   "source": [
    "# Separate DV (dependant variable) and IV (independant variables)\n",
    "# You'll see below why we dont need 'Position' col\n",
    "X = dataset.iloc[:, 1:-1].values  # IN ALL ML models, The features should always be a matrix, not a simple array\n",
    "y = dataset.iloc[:, -1].values"
   ]
  },
  {
   "cell_type": "code",
   "execution_count": 284,
   "metadata": {},
   "outputs": [
    {
     "data": {
      "text/plain": [
       "array([[ 1],\n",
       "       [ 2],\n",
       "       [ 3],\n",
       "       [ 4],\n",
       "       [ 5],\n",
       "       [ 6],\n",
       "       [ 7],\n",
       "       [ 8],\n",
       "       [ 9],\n",
       "       [10]])"
      ]
     },
     "execution_count": 284,
     "metadata": {},
     "output_type": "execute_result"
    }
   ],
   "source": [
    "X"
   ]
  },
  {
   "cell_type": "code",
   "execution_count": 285,
   "metadata": {},
   "outputs": [
    {
     "data": {
      "text/plain": [
       "(10, 1)"
      ]
     },
     "execution_count": 285,
     "metadata": {},
     "output_type": "execute_result"
    }
   ],
   "source": [
    "X.shape"
   ]
  },
  {
   "cell_type": "code",
   "execution_count": 286,
   "metadata": {},
   "outputs": [
    {
     "data": {
      "text/plain": [
       "array([  45000,   50000,   60000,   80000,  110000,  150000,  200000,\n",
       "        300000,  500000, 1000000])"
      ]
     },
     "execution_count": 286,
     "metadata": {},
     "output_type": "execute_result"
    }
   ],
   "source": [
    "y"
   ]
  },
  {
   "cell_type": "code",
   "execution_count": 287,
   "metadata": {},
   "outputs": [
    {
     "data": {
      "text/plain": [
       "[<matplotlib.lines.Line2D at 0x7f1efb26c7b8>]"
      ]
     },
     "execution_count": 287,
     "metadata": {},
     "output_type": "execute_result"
    },
    {
     "data": {
      "image/png": "[encoded data removed]",
      "text/plain": [
       "<matplotlib.figure.Figure at 0x7f1efb892b00>"
      ]
     },
     "metadata": {},
     "output_type": "display_data"
    }
   ],
   "source": [
    "# A new candidate is shortlisted with 20 yrs of exp and current 160K salary. So he wants more than 160K definitely.\n",
    "# Negotiate based on the model you build from this dataset.\n",
    "# The HR of the company manages to get the above dataset from the candidates existing company and the following info\n",
    "# also.\n",
    "# This person has been a Region Manager for 2 yrs now and usually it takes 4 yrs to jump from a Region Manager to a \n",
    "# partner.\n",
    "\n",
    "# The HR first plotted the graph of level to salary to see the relationship.\n",
    "# Clearly level vs salary is non-linear\n",
    "plt.plot(dataset['Level'], dataset['Salary'], color='r', marker='+')\n",
    "\n",
    "# Also Partner is level 7 and Region Manager is level 6, so he was halfway between level 6 and level 7, say level 6.5\n",
    "# So the HR can now predict if he is bluffing about his salary."
   ]
  },
  {
   "cell_type": "code",
   "execution_count": 288,
   "metadata": {},
   "outputs": [],
   "source": [
    "# We really don't need the Position col as we have the Level column"
   ]
  },
  {
   "cell_type": "code",
   "execution_count": 289,
   "metadata": {
    "collapsed": true
   },
   "outputs": [],
   "source": [
    "# We dont want to split into training and test set. Because anyway we have only 10 observations.\n",
    "# and we need to make very accurate prediction, so we need to have as many observations as possible.\n",
    "\n",
    "# no feature scaling as the SLR/MLR anyway do it.\n",
    "\n",
    "# Just create the regressor and fit it.\n",
    "# We'll create both a Linear Regression and a Polynomial Regression model, so we can compare them.\n"
   ]
  },
  {
   "cell_type": "code",
   "execution_count": 290,
   "metadata": {},
   "outputs": [
    {
     "data": {
      "text/plain": [
       "LinearRegression(copy_X=True, fit_intercept=True, n_jobs=1, normalize=False)"
      ]
     },
     "execution_count": 290,
     "metadata": {},
     "output_type": "execute_result"
    }
   ],
   "source": [
    "# Linear Regressor\n",
    "from sklearn.linear_model import LinearRegression\n",
    "lin_reg = LinearRegression()\n",
    "lin_reg = lin_reg.fit(X, y)\n",
    "lin_reg"
   ]
  },
  {
   "cell_type": "code",
   "execution_count": 291,
   "metadata": {
    "collapsed": true
   },
   "outputs": [],
   "source": [
    "# Polynomial Regressor\n",
    "from sklearn.preprocessing import PolynomialFeatures\n",
    "# The PolynomialFeature class is actually used to transform our input X to add new cols X^2, X^3, upto X^n\n",
    "# This way we can then apply the Polynomial Regression on it"
   ]
  },
  {
   "cell_type": "code",
   "execution_count": 292,
   "metadata": {
    "collapsed": true
   },
   "outputs": [],
   "source": [
    "poly_reg = PolynomialFeatures"
   ]
  },
  {
   "cell_type": "code",
   "execution_count": 293,
   "metadata": {
    "collapsed": true
   },
   "outputs": [],
   "source": [
    "# poly_reg = PolynomialFeatures(degree=2)\n",
    "# poly_reg = PolynomialFeatures(degree=3)\n",
    "poly_reg = PolynomialFeatures(degree=4)"
   ]
  },
  {
   "cell_type": "code",
   "execution_count": 294,
   "metadata": {},
   "outputs": [
    {
     "data": {
      "text/plain": [
       "PolynomialFeatures(degree=4, include_bias=True, interaction_only=False)"
      ]
     },
     "execution_count": 294,
     "metadata": {},
     "output_type": "execute_result"
    }
   ],
   "source": [
    "poly_reg"
   ]
  },
  {
   "cell_type": "code",
   "execution_count": 295,
   "metadata": {
    "collapsed": true
   },
   "outputs": [],
   "source": [
    "X_poly = poly_reg.fit_transform(X)"
   ]
  },
  {
   "cell_type": "code",
   "execution_count": 296,
   "metadata": {},
   "outputs": [
    {
     "data": {
      "text/plain": [
       "array([[  1.00000000e+00,   1.00000000e+00,   1.00000000e+00,\n",
       "          1.00000000e+00,   1.00000000e+00],\n",
       "       [  1.00000000e+00,   2.00000000e+00,   4.00000000e+00,\n",
       "          8.00000000e+00,   1.60000000e+01],\n",
       "       [  1.00000000e+00,   3.00000000e+00,   9.00000000e+00,\n",
       "          2.70000000e+01,   8.10000000e+01],\n",
       "       [  1.00000000e+00,   4.00000000e+00,   1.60000000e+01,\n",
       "          6.40000000e+01,   2.56000000e+02],\n",
       "       [  1.00000000e+00,   5.00000000e+00,   2.50000000e+01,\n",
       "          1.25000000e+02,   6.25000000e+02],\n",
       "       [  1.00000000e+00,   6.00000000e+00,   3.60000000e+01,\n",
       "          2.16000000e+02,   1.29600000e+03],\n",
       "       [  1.00000000e+00,   7.00000000e+00,   4.90000000e+01,\n",
       "          3.43000000e+02,   2.40100000e+03],\n",
       "       [  1.00000000e+00,   8.00000000e+00,   6.40000000e+01,\n",
       "          5.12000000e+02,   4.09600000e+03],\n",
       "       [  1.00000000e+00,   9.00000000e+00,   8.10000000e+01,\n",
       "          7.29000000e+02,   6.56100000e+03],\n",
       "       [  1.00000000e+00,   1.00000000e+01,   1.00000000e+02,\n",
       "          1.00000000e+03,   1.00000000e+04]])"
      ]
     },
     "execution_count": 296,
     "metadata": {},
     "output_type": "execute_result"
    }
   ],
   "source": [
    "# A note on X_poly, since degree was 2, 2 new cols were added to X_poly. The original col is actually the middle col\n",
    "# Thr first col is all ones, which is need just like in MLR, as the intercept needs to be taken care of manually.\n",
    "# So the PLR equation becomes y = b0x1^0 + b1x1^1 + b2x1^2 + b3x1^3 + ... bnx1^n \n",
    "X_poly"
   ]
  },
  {
   "cell_type": "code",
   "execution_count": 297,
   "metadata": {},
   "outputs": [],
   "source": [
    "# Create a new linear regressor and fit it to X_poly\n",
    "lin_reg_2 = LinearRegression()\n",
    "lin_reg_2 = lin_reg_2.fit(X_poly, y)"
   ]
  },
  {
   "cell_type": "code",
   "execution_count": 298,
   "metadata": {},
   "outputs": [
    {
     "data": {
      "image/png": "[encoded data removed]",
      "text/plain": [
       "<matplotlib.figure.Figure at 0x7f1efb3c6438>"
      ]
     },
     "metadata": {},
     "output_type": "display_data"
    }
   ],
   "source": [
    "# Lets visualize results and comparing.\n",
    "\n",
    "# Original values first\n",
    "plt.scatter(X, y, color='r')\n",
    "\n",
    "# SLR predictions\n",
    "plt.plot(X, lin_reg.predict(X), color='b')\n",
    "plt.title('Truth or Bluff (Simple Linear Regression)')\n",
    "plt.xlabel('Position Levels')\n",
    "plt.ylabel('Salary')\n",
    "plt.show()\n",
    "\n",
    "# What can u interpret? No very good trend line, because other points are very far from the line.\n",
    "# for level 6.5, HR would have offered close to 300k to the candidate."
   ]
  },
  {
   "cell_type": "code",
   "execution_count": 299,
   "metadata": {},
   "outputs": [
    {
     "data": {
      "image/png": "[encoded data removed]",
      "text/plain": [
       "<matplotlib.figure.Figure at 0x7f1efb0a4198>"
      ]
     },
     "metadata": {},
     "output_type": "display_data"
    }
   ],
   "source": [
    "# Original values first\n",
    "plt.scatter(X, y, color='r')\n",
    "\n",
    "# PLR predictions\n",
    "plt.plot(X, lin_reg_2.predict(poly_reg.fit_transform(X)), color='b')\n",
    "plt.title('Truth or Bluff (Polynomial Linear Regression)')\n",
    "plt.xlabel('Position Levels')\n",
    "plt.ylabel('Salary')\n",
    "plt.show()\n",
    "\n",
    "# So note that a PLR will give you anything but a straight line.\n",
    "# and for level 6.5, the prediction is about 200K, which is more reasonable."
   ]
  },
  {
   "cell_type": "code",
   "execution_count": 301,
   "metadata": {},
   "outputs": [
    {
     "data": {
      "image/png": "[encoded data removed]",
      "text/plain": [
       "<matplotlib.figure.Figure at 0x7f1efb0a4550>"
      ]
     },
     "metadata": {},
     "output_type": "display_data"
    }
   ],
   "source": [
    "# Go back and add more degree's to the poly_reg and see if there is any change\n",
    "# Yes, there is, with degree 4, the PLR curve is very accurate, However if you see the graph carefully, you'll \n",
    "# see there are some straight lines between the red dots, so what we can do is increase the precision. Right now\n",
    "# since the level are all integers going from 1 to 10. The step size if 1. So let's reduce this to get a smoother\n",
    "# curve.\n",
    "# Lets visualize results and comparing.\n",
    "\n",
    "# Original values first\n",
    "plt.scatter(X, y, color='r')\n",
    "\n",
    "# PLR predictions\n",
    "X_grid = np.arange(min(X), max(X), 0.1)\n",
    "X_grid = X_grid.reshape((len(X_grid), 1))\n",
    "plt.plot(X_grid, lin_reg_2.predict(poly_reg.fit_transform(X_grid)), color='b')\n",
    "plt.title('Truth or Bluff (Polynomial Linear Regression)')\n",
    "plt.xlabel('Position Levels')\n",
    "plt.ylabel('Salary')\n",
    "plt.show()"
   ]
  },
  {
   "cell_type": "code",
   "execution_count": 302,
   "metadata": {},
   "outputs": [
    {
     "data": {
      "text/plain": [
       "array([ 330378.78787879])"
      ]
     },
     "execution_count": 302,
     "metadata": {},
     "output_type": "execute_result"
    }
   ],
   "source": [
    "lin_reg.predict(6.5)  # predict salary for 6.5 level using SLR"
   ]
  },
  {
   "cell_type": "code",
   "execution_count": 304,
   "metadata": {},
   "outputs": [
    {
     "data": {
      "text/plain": [
       "array([ 158862.45265155])"
      ]
     },
     "execution_count": 304,
     "metadata": {},
     "output_type": "execute_result"
    }
   ],
   "source": [
    "lin_reg_2.predict(poly_reg.fit_transform(6.5))  # predict salary for 6.5 level using PLR"
   ]
  },
  {
   "cell_type": "code",
   "execution_count": null,
   "metadata": {
    "collapsed": true
   },
   "outputs": [],
   "source": []
  }
 ],
 "metadata": {
  "kernelspec": {
   "display_name": "Python 3",
   "language": "python",
   "name": "python3"
  },
  "language_info": {
   "codemirror_mode": {
    "name": "ipython",
    "version": 3
   },
   "file_extension": ".py",
   "mimetype": "text/x-python",
   "name": "python",
   "nbconvert_exporter": "python",
   "pygments_lexer": "ipython3",
   "version": "3.6.2"
  }
 },
 "nbformat": 4,
 "nbformat_minor": 2
}
