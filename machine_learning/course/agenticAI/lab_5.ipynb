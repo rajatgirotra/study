{
 "cells": [
  {
   "cell_type": "markdown",
   "metadata": {},
   "source": [
    "### we will demonstrate a very simple use case of OpenAI agents SDK to send a request to an Agent.\n",
    "### generally in OpenAI agents sdk, we have the following entities.\n",
    "\n",
    "### Agents: represents an LLM\n",
    "### Runner: Provides an abstraction to send a request to an Agent\n",
    "### trace: used to capture all your interactions with the LLM which can be used for observability and traceability.\n",
    "### Handoff: is how interactions are handled.\n",
    "### Guardrails: is how you safeguard your model/code etc by introducing some limitations and rules."
   ]
  },
  {
   "cell_type": "code",
   "execution_count": 1,
   "metadata": {},
   "outputs": [],
   "source": [
    "from dotenv import load_dotenv\n",
    "from agents import Agent, Runner, trace"
   ]
  },
  {
   "cell_type": "code",
   "execution_count": null,
   "metadata": {},
   "outputs": [],
   "source": [
    "load_dotenv(override=True)"
   ]
  },
  {
   "cell_type": "code",
   "execution_count": null,
   "metadata": {},
   "outputs": [],
   "source": [
    "# An Agent has a name. instructions are nothing but the system_prompt. model is the LLM you want to use.\n",
    "agent = Agent(name='Jokester', instructions='You are a joke teller. Your job is to tell jokes.', model='gpt-4o-mini')\n",
    "agent"
   ]
  },
  {
   "cell_type": "code",
   "execution_count": null,
   "metadata": {},
   "outputs": [],
   "source": [
    "with trace('joke_teller'):\n",
    "    result = Runner.run(agent, 'Tell me a joke on Agentic AI')\n",
    "    result_msg = await result\n",
    "    print(result_msg.final_output)\n"
   ]
  },
  {
   "cell_type": "code",
   "execution_count": null,
   "metadata": {},
   "outputs": [],
   "source": []
  }
 ],
 "metadata": {
  "kernelspec": {
   "display_name": ".venv",
   "language": "python",
   "name": "python3"
  },
  "language_info": {
   "codemirror_mode": {
    "name": "ipython",
    "version": 3
   },
   "file_extension": ".py",
   "mimetype": "text/x-python",
   "name": "python",
   "nbconvert_exporter": "python",
   "pygments_lexer": "ipython3",
   "version": "3.12.3"
  }
 },
 "nbformat": 4,
 "nbformat_minor": 2
}
