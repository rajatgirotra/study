{
 "cells": [
  {
   "cell_type": "markdown",
   "metadata": {},
   "source": [
    "### In this lab, we will build a deep research utility. You can give a query to this utility. It will perform \"x\" number of web searches to research the query and then\n",
    "### we finally create a nice report from it and send it by email."
   ]
  },
  {
   "cell_type": "code",
   "execution_count": 1,
   "metadata": {},
   "outputs": [],
   "source": [
    "from dotenv import load_dotenv\n",
    "import os\n",
    "import sendgrid\n",
    "from sendgrid.helpers.mail import Email, To, Content, Mail\n",
    "from agents import Agent, Runner, trace, function_tool, input_guardrail, output_guardrail, WebSearchTool, ComputerTool, FileSearchTool, ModelSettings\n",
    "import asyncio\n",
    "from pydantic import BaseModel, Field\n",
    "from typing import Dict\n",
    "from IPython.display import Markdown, display"
   ]
  },
  {
   "cell_type": "code",
   "execution_count": null,
   "metadata": {},
   "outputs": [],
   "source": [
    "load_dotenv(override=True)"
   ]
  },
  {
   "cell_type": "code",
   "execution_count": 3,
   "metadata": {},
   "outputs": [],
   "source": [
    "# OpenAI agents SDK provides Hosted tools. i.e. tools which are available out of the box for you to use.\n",
    "# WebSearchTool --> lets an agent search the web (we will use this in this utility)\n",
    "# FileSearchTool --> allows retrieving information from your OpenAI vector stores (we will see this later)\n",
    "# ComputerTool --> allows automating computer use tasks like taking screenshots and clicking."
   ]
  },
  {
   "cell_type": "code",
   "execution_count": 3,
   "metadata": {},
   "outputs": [],
   "source": [
    "# Lets create a basic web search Agent. This agent is given a search term (eg: \"Climate Change implications\") and it can go out and perform a web search\n",
    "# and come back with a lot of text on that topic.\n",
    "SEARCH_INSTRUCTIONS = \"You are a research assistant. Given a search term, you search the web for that term and \\\n",
    "produce a concise summary of the results. The summary must 2-3 paragraphs and less than 300 \\\n",
    "words. Capture the main points. Write succintly, no need to have complete sentences or good \\\n",
    "grammar. This will be consumed by someone synthesizing a report, so it's vital you capture the \\\n",
    "essence and ignore any fluff. Do not include any additional commentary other than the summary itself.\"\n",
    "\n",
    "search_agent = Agent(name=\"SearchAgent\",\n",
    "                     instructions=SEARCH_INSTRUCTIONS,\n",
    "                     model='gpt-4o-mini',\n",
    "                     tools=[WebSearchTool(search_context_size='low')], # keep it low to limit your OpenAI billing. WebSearchTool is expensive.\n",
    "                     model_settings=ModelSettings(tool_choice='required')\n",
    "                    )"
   ]
  },
  {
   "cell_type": "code",
   "execution_count": null,
   "metadata": {},
   "outputs": [],
   "source": [
    "# Lets test it out.\n",
    "message = \"What are the implications of Climate Change?\"\n",
    "with trace(\"Search\"):\n",
    "    result = await Runner.run(search_agent, message)\n",
    "\n",
    "display(Markdown(result.final_output))\n"
   ]
  },
  {
   "cell_type": "code",
   "execution_count": 4,
   "metadata": {},
   "outputs": [],
   "source": [
    "### Next, we will create a planner_agent with some structured output. We expect the planner agent to return \"x\" number of search terms for a given query.\n",
    "### We also want the agent to return the reasoning for the search term. i.e. why these search terms were chosen. What is the importance of these search terms.\n",
    "SEARCH_COUNT = 3\n",
    "\n",
    "class WebSearchTerm(BaseModel):\n",
    "    reason: str = Field(description=\"Your reasoning for why this search term is important to the query?\")\n",
    "    term: str = Field(description=\"The actual search term you will use to search the web.\")\n",
    "\n",
    "class WebSearchPlan(BaseModel):\n",
    "    searches: list[WebSearchTerm] = Field(description=\"A list of web searches to perform to best answer the query.\")\n",
    "\n",
    "PLANNER_INSTRUCTIONS = f\"You are a helpful research assistant. Given a query, come up with a set of web searches \\\n",
    "to perform to best answer the query. Output {SEARCH_COUNT} terms to query for.\"\n",
    "\n",
    "planner_agent = Agent(name=\"PlannerAgent\",\n",
    "                      instructions=PLANNER_INSTRUCTIONS,\n",
    "                      model='gpt-4o-mini',\n",
    "                      output_type=WebSearchPlan,\n",
    "                      )"
   ]
  },
  {
   "cell_type": "code",
   "execution_count": null,
   "metadata": {},
   "outputs": [],
   "source": [
    "# lets test it out.\n",
    "message = \"Implications of Climate Change?\"\n",
    "with trace(\"Planner\"):\n",
    "    result = await Runner.run(planner_agent, message)\n",
    "    print(result.final_output)"
   ]
  },
  {
   "cell_type": "code",
   "execution_count": 5,
   "metadata": {},
   "outputs": [],
   "source": [
    "# Now lets create some helper function to perform the web searches, prepare the report and send it by email.\n",
    "@function_tool\n",
    "def send_email(subject: str, html_body: str) -> Dict[str, str]:\n",
    "    \"\"\"\n",
    "    Send an email with the given subject and body.\n",
    "    \"\"\"\n",
    "    sg = sendgrid.SendGridAPIClient(api_key=os.getenv('SENDGRID_API_KEY'))\n",
    "    from_email = Email(\"rajat.girotra@gmail.com\")\n",
    "    to_email = To(\"rajatgirotra@yahoo.com\")\n",
    "    subject = subject\n",
    "    content = Content(\"text/html\", html_body)\n",
    "    mail = Mail(from_email, to_email, subject, content)\n",
    "    response = sg.client.mail.send.post(request_body=mail.get())\n",
    "    return {'status': 'success'}"
   ]
  },
  {
   "cell_type": "code",
   "execution_count": null,
   "metadata": {},
   "outputs": [],
   "source": [
    "send_email(\"Test Email\", \"<h1>Hello, World!</h1>\")"
   ]
  },
  {
   "cell_type": "code",
   "execution_count": 7,
   "metadata": {},
   "outputs": [],
   "source": [
    "# lets create an agent for sending emails.\n",
    "EMAIL_INSTRUCTIONS = \"\"\"You are able to send a nicely formatted HTML email based on a detailed report.\n",
    "You will be provided with a detailed report. You should use your tool to send one email, providing the \n",
    "report converted into clean, well presented HTML with an appropriate subject line.\"\"\"\n",
    "\n",
    "email_agent = Agent(name=\"EmailAgent\",\n",
    "                    instructions=EMAIL_INSTRUCTIONS,\n",
    "                    model='gpt-4o-mini',\n",
    "                    tools=[send_email],\n",
    "                    model_settings=ModelSettings(tool_choice='required')\n",
    "                    )\n"
   ]
  },
  {
   "cell_type": "code",
   "execution_count": 8,
   "metadata": {},
   "outputs": [],
   "source": [
    "# Finally a writer agent that will collate all the responses from the planner and search agent. It will formulate a big research report and send it by email.\n",
    "WRITER_INSTRUCTIONS = (\n",
    "    \"You are a senior researcher tasked with writing a cohesive report for a research query. \"\n",
    "    \"You will be provided with the original query, and some initial research done by a research assistant.\\n\"\n",
    "    \"You should first come up with an outline for the report that describes the structure and \"\n",
    "    \"flow of the report. Then, generate the report and return that as your final output.\\n\"\n",
    "    \"The final output should be in markdown format, and it should be lengthy and detailed. Aim \"\n",
    "    \"for 5-10 pages of content, at least 1000 words.\"\n",
    ")\n",
    "\n",
    "class ReportData(BaseModel):\n",
    "    short_summary: str = Field(description=\"A short 2-3 sentence summary of the findings.\")\n",
    "    markdown_report: str = Field(description=\"The final report\")\n",
    "    follow_up_questions: list[str] = Field(description=\"Suggested topics to research further\")\n",
    "\n",
    "\n",
    "writer_agent = Agent(\n",
    "    name=\"WriterAgent\",\n",
    "    instructions=WRITER_INSTRUCTIONS,\n",
    "    model=\"gpt-4o-mini\",\n",
    "    output_type=ReportData,\n",
    ")"
   ]
  },
  {
   "cell_type": "code",
   "execution_count": null,
   "metadata": {},
   "outputs": [],
   "source": [
    "type(WRITER_INSTRUCTIONS)"
   ]
  },
  {
   "cell_type": "code",
   "execution_count": 10,
   "metadata": {},
   "outputs": [],
   "source": [
    "# We do not build a workflow here. Rather we manually call each of the agents and pass the results to the next agent.\n",
    "\n",
    "# plan_searches will call the PlannerAgent\n",
    "async def plan_searches(query: str) -> WebSearchPlan:\n",
    "    \"\"\" Use the planner_agent to plan which searches to run for the query.\"\"\"\n",
    "    results = await Runner.run(planner_agent, input=query)\n",
    "    print(f\"Will perform {len(results.final_output.searches)} searches.\")\n",
    "    return results.final_output\n",
    "\n",
    "\n",
    "async def perform_searches(search_term: WebSearchPlan):\n",
    "    \"\"\" Call search() for each item in the search_terms list.\"\"\"\n",
    "    print(f\"searching...\")\n",
    "    tasks = [asyncio.create_task(search(search_item)) for search_item in search_term.searches]\n",
    "    results = await asyncio.gather(*tasks)\n",
    "    print(f\"finished searching.\")\n",
    "    return results\n",
    "\n",
    "# search will call the SearchAgent to perform a single web search.\n",
    "async def search(search_item: WebSearchTerm):\n",
    "    \"\"\" Use the search agent to run a single web search.\"\"\"\n",
    "    # create input message for the SearchAgent\n",
    "    input = f\"Search term: {search_item.term}\\nReason for searching: {search_item.reason}\"\n",
    "    result = await Runner.run(search_agent, input)\n",
    "    return result.final_output"
   ]
  },
  {
   "cell_type": "code",
   "execution_count": 11,
   "metadata": {},
   "outputs": [],
   "source": [
    "# These two functions will create a detailed report using the WriterAgent and send email using the EmailAgent.\n",
    "async def write_report(query: str, search_results: list[str]):\n",
    "    \"\"\" Use the writer agent to write a report based on the search results\"\"\"\n",
    "    print(\"Thinking about report...\")\n",
    "    input = f\"Original query: {query}\\nSummarized search results: {search_results}\"\n",
    "    result = await Runner.run(writer_agent, input)\n",
    "    print(\"Finished writing report\")\n",
    "    return result.final_output\n",
    "\n",
    "async def send_email(report: ReportData):\n",
    "    \"\"\" Use the email agent to send an email with the report \"\"\"\n",
    "    print(\"Writing email...\")\n",
    "    result = await Runner.run(email_agent, report.markdown_report)\n",
    "    print(\"Email sent\")\n",
    "    return report"
   ]
  },
  {
   "cell_type": "code",
   "execution_count": null,
   "metadata": {},
   "outputs": [],
   "source": [
    "query =\"Latest AI Agent frameworks in 2025\"\n",
    "\n",
    "with trace(\"Research trace\"):\n",
    "    print(\"Starting research...\")\n",
    "    search_plan = await plan_searches(query)\n",
    "    search_results = await perform_searches(search_plan)\n",
    "    report = await write_report(query, search_results)\n",
    "    await send_email(report)  \n",
    "    print(\"Hooray!\")\n"
   ]
  }
 ],
 "metadata": {
  "kernelspec": {
   "display_name": ".venv",
   "language": "python",
   "name": "python3"
  },
  "language_info": {
   "codemirror_mode": {
    "name": "ipython",
    "version": 3
   },
   "file_extension": ".py",
   "mimetype": "text/x-python",
   "name": "python",
   "nbconvert_exporter": "python",
   "pygments_lexer": "ipython3",
   "version": "3.12.3"
  }
 },
 "nbformat": 4,
 "nbformat_minor": 2
}
