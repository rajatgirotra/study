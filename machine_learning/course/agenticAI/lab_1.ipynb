{
 "cells": [
  {
   "cell_type": "markdown",
   "metadata": {},
   "source": [
    "Very simple exercise. We will openAI python package to send some messages to LLM and get responses back.\n",
    "openAI is a very thin client library in python that allows you to query some rest endpoints. These rest points trigger the various LLM's\n",
    "running in cloud. openAI python library can be used not only for chatGPT models but also other models as it is a generic API."
   ]
  },
  {
   "cell_type": "code",
   "execution_count": 8,
   "metadata": {},
   "outputs": [],
   "source": [
    "from dotenv import load_dotenv\n",
    "import os"
   ]
  },
  {
   "cell_type": "code",
   "execution_count": 10,
   "metadata": {},
   "outputs": [
    {
     "data": {
      "text/plain": [
       "True"
      ]
     },
     "execution_count": 10,
     "metadata": {},
     "output_type": "execute_result"
    }
   ],
   "source": [
    "load_dotenv(override=True)"
   ]
  },
  {
   "cell_type": "code",
   "execution_count": 11,
   "metadata": {},
   "outputs": [],
   "source": [
    "# typical argument to openAI python client is a list of messages\n",
    "messages = [{\"role\": \"user\", \"content\" : \"What is 3 + 4?\"}]"
   ]
  },
  {
   "cell_type": "code",
   "execution_count": 13,
   "metadata": {},
   "outputs": [
    {
     "name": "stdout",
     "output_type": "stream",
     "text": [
      "failed to find openAI API KEY\n"
     ]
    }
   ],
   "source": [
    "from openai import OpenAI\n",
    "openai_python_client = OpenAI()\n",
    "if os.getenv('OPENAI_API_KEY', None):\n",
    "    print(\"failed to find openAI API KEY\")"
   ]
  },
  {
   "cell_type": "code",
   "execution_count": 15,
   "metadata": {},
   "outputs": [],
   "source": [
    "response = openai_python_client.chat.completions.create(\n",
    "    model = 'gpt-4.1-nano',\n",
    "    messages=messages\n",
    ")"
   ]
  },
  {
   "cell_type": "code",
   "execution_count": 16,
   "metadata": {},
   "outputs": [
    {
     "name": "stdout",
     "output_type": "stream",
     "text": [
      "3 + 4 equals 7.\n"
     ]
    }
   ],
   "source": [
    "# print response\n",
    "print(response.choices[0].message.content)"
   ]
  },
  {
   "cell_type": "code",
   "execution_count": 17,
   "metadata": {},
   "outputs": [],
   "source": [
    "# Now ask a high IQ question from chatGPT and let it answer by itself\n",
    "question = \"Please suggest a challenging question in mathematics that I can use to test someone's IQ. Print the question only.\"\n",
    "messages = [{\"role\": \"user\", \"content\" : question}]\n",
    "response = openai_python_client.chat.completions.create(\n",
    "    model = 'gpt-4.1-mini',\n",
    "    messages=messages\n",
    ")\n",
    "# print response"
   ]
  },
  {
   "cell_type": "code",
   "execution_count": 19,
   "metadata": {},
   "outputs": [
    {
     "name": "stdout",
     "output_type": "stream",
     "text": [
      "If a clock shows the time as 3:15, what is the angle between the hour hand and the minute hand?\n"
     ]
    }
   ],
   "source": [
    "print(response.choices[0].message.content)\n",
    "next_question = response.choices[0].message.content"
   ]
  },
  {
   "cell_type": "code",
   "execution_count": 21,
   "metadata": {},
   "outputs": [],
   "source": [
    "messages = [{\"role\": \"user\", \"content\" : next_question}]\n",
    "response = openai_python_client.chat.completions.create(\n",
    "    model = 'gpt-4.1-mini',\n",
    "    messages=messages\n",
    ")"
   ]
  },
  {
   "cell_type": "code",
   "execution_count": 22,
   "metadata": {},
   "outputs": [
    {
     "data": {
      "text/markdown": [
       "To find the angle between the hour hand and the minute hand at 3:15, we can use the following steps:\n",
       "\n",
       "1. **Calculate the position of the hour hand:**\n",
       "\n",
       "- Each hour on the clock represents 30 degrees (360 degrees / 12 hours).\n",
       "- At 3:00, the hour hand is at 3 × 30 = 90 degrees.\n",
       "- In 15 minutes, the hour hand moves further. The hour hand moves 0.5 degrees per minute (30 degrees per hour / 60 minutes).\n",
       "- So, at 15 minutes past 3, the hour hand moves 15 × 0.5 = 7.5 degrees from the 3 o'clock position.\n",
       "- Therefore, the hour hand angle from 12 o'clock is 90 + 7.5 = 97.5 degrees.\n",
       "\n",
       "2. **Calculate the position of the minute hand:**\n",
       "\n",
       "- Each minute represents 6 degrees (360 degrees / 60 minutes).\n",
       "- At 15 minutes, the minute hand is at 15 × 6 = 90 degrees.\n",
       "\n",
       "3. **Calculate the difference between the angles:**\n",
       "\n",
       "- Difference = |97.5 - 90| = 7.5 degrees.\n",
       "\n",
       "4. **Find the smaller angle between the hands:**\n",
       "\n",
       "- The smaller angle is 7.5 degrees (since the other angle would be 360 - 7.5 = 352.5 degrees, which is larger).\n",
       "\n",
       "**Answer:** The angle between the hour hand and the minute hand at 3:15 is **7.5 degrees**."
      ],
      "text/plain": [
       "<IPython.core.display.Markdown object>"
      ]
     },
     "metadata": {},
     "output_type": "display_data"
    }
   ],
   "source": [
    "from IPython.display import Markdown, display\n",
    "answer = response.choices[0].message.content\n",
    "display(Markdown(answer))\n"
   ]
  },
  {
   "cell_type": "code",
   "execution_count": 23,
   "metadata": {},
   "outputs": [
    {
     "name": "stdout",
     "output_type": "stream",
     "text": [
      "Business area: Customer service and support\n"
     ]
    }
   ],
   "source": [
    "# Next, lets ask ChatGPT to:\n",
    "# 1. Suggest a business area where agentic AI can be applied.\n",
    "# 2. Tell about a pain-point in that business area.\n",
    "# 3. Suggest an agentic AI solution to the pain-point.\n",
    "\n",
    "question = \"Please suggest a business area where agentic AI can be applied. Print the business area only.\"\n",
    "messages = [{\"role\": \"user\", \"content\" : question}]\n",
    "response = openai_python_client.chat.completions.create(\n",
    "    model = 'gpt-4.1-mini',\n",
    "    messages=messages\n",
    ")\n",
    "# print response\n",
    "business_area = response.choices[0].message.content\n",
    "print(f\"Business area: {business_area}\")\n"
   ]
  },
  {
   "cell_type": "code",
   "execution_count": 24,
   "metadata": {},
   "outputs": [
    {
     "name": "stdout",
     "output_type": "stream",
     "text": [
      "Pain point: Long wait times for customers to reach a support representative.\n"
     ]
    }
   ],
   "source": [
    "question = f\"Please tell me about a pain-point in {business_area}. Print the pain-point only.\"\n",
    "messages = [{\"role\": \"user\", \"content\" : question}]\n",
    "response = openai_python_client.chat.completions.create(\n",
    "    model = 'gpt-4.1-mini',\n",
    "    messages=messages\n",
    ")\n",
    "pain_point = response.choices[0].message.content\n",
    "print(f\"Pain point: {pain_point}\")"
   ]
  },
  {
   "cell_type": "code",
   "execution_count": 25,
   "metadata": {},
   "outputs": [
    {
     "name": "stdout",
     "output_type": "stream",
     "text": [
      "Solution: Implement an AI-powered virtual assistant with natural language understanding that can handle common customer inquiries, perform issue triage, and escalate complex cases seamlessly to human agents, thereby reducing wait times and improving response efficiency.\n"
     ]
    }
   ],
   "source": [
    "question = f\"Please suggest an agentic AI solution to the pain-point {pain_point} in {business_area}. Print the solution only.\"\n",
    "messages = [{\"role\": \"user\", \"content\" : question}]\n",
    "response = openai_python_client.chat.completions.create(\n",
    "    model = 'gpt-4.1-mini',\n",
    "    messages=messages\n",
    ")\n",
    "solution = response.choices[0].message.content\n",
    "print(f\"Solution: {solution}\")\n"
   ]
  }
 ],
 "metadata": {
  "kernelspec": {
   "display_name": ".venv",
   "language": "python",
   "name": "python3"
  },
  "language_info": {
   "codemirror_mode": {
    "name": "ipython",
    "version": 3
   },
   "file_extension": ".py",
   "mimetype": "text/x-python",
   "name": "python",
   "nbconvert_exporter": "python",
   "pygments_lexer": "ipython3",
   "version": "3.12.3"
  }
 },
 "nbformat": 4,
 "nbformat_minor": 2
}
