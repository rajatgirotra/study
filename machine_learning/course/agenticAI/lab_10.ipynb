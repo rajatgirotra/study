{
 "cells": [
  {
   "cell_type": "markdown",
   "metadata": {},
   "source": [
    "### Super steps in langgraph's. What are they?\n",
    "\n",
    "#### Every invocation of the \"graph.invoke()\" method is considered as a super step in langgraph. If you have an AI ChatBot application in langgraph, for every AI response, you would call \"graph.invoke()\". The reason it is important to know this is because we will see shortly how we can use langsmith to debug, checkpoint, and setup observability, and also how memory/resources etc are shared across super steps. Nodes that run in parallel are part of the same super step, while nodes that run sequentiall belong to separate super steps.\n",
    "\n",
    "#### lets go to https://langsmith.com to setup a few keys and put it in our .env. In langsmith, you need to click on \"setup tracing\" and follow the prompts."
   ]
  },
  {
   "cell_type": "code",
   "execution_count": 4,
   "metadata": {},
   "outputs": [],
   "source": [
    "from langgraph.graph import StateGraph, START, END\n",
    "from langgraph.graph.message import add_messages\n",
    "from typing import Annotated, TypedDict\n",
    "from dotenv import load_dotenv\n",
    "import os\n",
    "import requests\n",
    "import gradio as gr\n",
    "from IPython.display import display, Image, Markdown\n",
    "from langchain_openai import ChatOpenAI\n",
    "from langgraph.prebuilt import ToolNode, tools_condition\n"
   ]
  },
  {
   "cell_type": "code",
   "execution_count": 5,
   "metadata": {},
   "outputs": [
    {
     "data": {
      "text/plain": [
       "True"
      ]
     },
     "execution_count": 5,
     "metadata": {},
     "output_type": "execute_result"
    }
   ],
   "source": [
    "load_dotenv(override=True)"
   ]
  },
  {
   "cell_type": "code",
   "execution_count": 6,
   "metadata": {},
   "outputs": [
    {
     "data": {
      "text/plain": [
       "'Delhi, officially the National Capital Territory (NCT) of Delhi, is a city and a union territory of India containing New Delhi, the capital of India. New Delhi, national capital of India. It is situated in the north-central part of the country on the west bank of the Yamuna River. noun the capital of India is a division of the old city of Delhi synonyms: Indian capital, New Delhi A Delhi B Mumbai C Calcutta D Agra लिखित उत्तर Verified by Experts The correct Answer is:A Delhi is the capital of India. If you are asked what the capital of India is, your answer will be New Delhi, which was settled by the British. There are 28 states and 8 Union territories in the country. Union Territories are administered by the President through an Administrator appointed by him/her. The capital of India is New Delhi, located in the north-central part of the country to the west of the Yamuna River. Calcutta (now Kolkata, the ... The National Capital Territory of Delhi serves as the capital of India. It is a vibrant metropolis that combines historical landmarks, such as ...'"
      ]
     },
     "execution_count": 6,
     "metadata": {},
     "output_type": "execute_result"
    }
   ],
   "source": [
    "# You remember using the Serper web search tool before. Langchain community comes with a simple wrapper for that tool. We will\n",
    "# use it and see the traces in langsmith.\n",
    "from langchain_community.utilities import GoogleSerperAPIWrapper\n",
    "\n",
    "serper = GoogleSerperAPIWrapper()\n",
    "serper.run(\"What is the capital of India?\")"
   ]
  },
  {
   "cell_type": "code",
   "execution_count": 13,
   "metadata": {},
   "outputs": [
    {
     "data": {
      "text/plain": [
       "'Delhi, officially the National Capital Territory (NCT) of Delhi, is a city and a union territory of India containing New Delhi, the capital of India. New Delhi, national capital of India. It is situated in the north-central part of the country on the west bank of the Yamuna River. noun the capital of India is a division of the old city of Delhi synonyms: Indian capital, New Delhi A Delhi B Mumbai C Calcutta D Agra लिखित उत्तर Verified by Experts The correct Answer is:A Delhi is the capital of India. If you are asked what the capital of India is, your answer will be New Delhi, which was settled by the British. There are 28 states and 8 Union territories in the country. Union Territories are administered by the President through an Administrator appointed by him/her. The capital of India is New Delhi, located in the north-central part of the country to the west of the Yamuna River. Calcutta (now Kolkata, the ... The National Capital Territory of Delhi serves as the capital of India. It is a vibrant metropolis that combines historical landmarks, such as ...'"
      ]
     },
     "execution_count": 13,
     "metadata": {},
     "output_type": "execute_result"
    }
   ],
   "source": [
    "### We will now turn this into a tool using a wrapper class Tool.\n",
    "from langchain.agents import Tool\n",
    "\n",
    "tool_serper_search = Tool(\n",
    "    name=\"search\",\n",
    "    description=\"Use this tool to search the web for information\",\n",
    "    func=serper.run,\n",
    ")\n",
    "\n",
    "# the standard way of calling and LLM or tool is to use the invoke method.\n",
    "tool_serper_search.invoke(\"What is the capital of India?\")\n",
    "\n"
   ]
  },
  {
   "cell_type": "code",
   "execution_count": 14,
   "metadata": {},
   "outputs": [],
   "source": [
    "### Lets now wrap Pushover API in a tool.\n",
    "pushover_token = os.getenv(\"PUSHOVER_TOKEN\")\n",
    "pushover_user = os.getenv(\"PUSHOVER_USER\")\n",
    "pushover_url = f\"https://api.pushover.net/1/messages.json\"\n",
    "\n",
    "def push(text: str):\n",
    "    \"\"\"send a push notification to the user\"\"\"\n",
    "    requests.post(pushover_url, data={\"token\": pushover_token, \"user\": pushover_user, \"message\": text})\n",
    "\n",
    "tool_pushover = Tool(\n",
    "    name=\"send_push_notification\",\n",
    "    description=\"Use this tool to send a push notification to the user\",\n",
    "    func=push,\n",
    ")\n",
    "\n",
    "tool_pushover.invoke(\"Hello, this is a test push notification\")"
   ]
  },
  {
   "cell_type": "code",
   "execution_count": 15,
   "metadata": {},
   "outputs": [],
   "source": [
    "tools = [tool_serper_search, tool_pushover]"
   ]
  },
  {
   "cell_type": "markdown",
   "metadata": {},
   "source": [
    "#### At this point, you shoud revisit lab_4.ipynb to understand how LLM handle tool calls and result. For every tool, you had to create an ugly json having keys like name, description, parameters to the tool function. You would then pass the tools to the agent as part of your prompt.\n",
    "\n",
    "#### If agent decides to use a tool, it would return a finish_reason of \"tools\", which your code handles. and then calls the appropriate tool and then returns the result to the agent in another prompt.\n",
    "\n",
    "### all that we will achieve here with langgraph."
   ]
  },
  {
   "cell_type": "code",
   "execution_count": 16,
   "metadata": {},
   "outputs": [],
   "source": [
    "# Lets begin with the usual State, graph_builder, nodes & edge creation and graph compilation. We will add special Tool nodes and conditional edges as you will see.\n",
    "class State(TypedDict): # we could have used class State(pydantic.BaseModel) as well.\n",
    "    messages: Annotated[list, add_messages]\n",
    "\n",
    "\n",
    "graph_builder = StateGraph(State)"
   ]
  },
  {
   "cell_type": "code",
   "execution_count": 17,
   "metadata": {},
   "outputs": [],
   "source": [
    "## Create your agent.\n",
    "llm = ChatOpenAI(model=\"gpt-4o-mini\")\n",
    "llm_with_tools = llm.bind_tools(tools)  ## Very easy way of generating the boilerplate json and making the tools available to the agent as part of the prompt."
   ]
  },
  {
   "cell_type": "code",
   "execution_count": null,
   "metadata": {},
   "outputs": [],
   "source": [
    "# create a chatbot node. Just like in the last lab.\n",
    "def chatbot_node(old_state: State) -> State:\n",
    "    response = llm_with_tools.invoke(old_state['messages'])\n",
    "    new_state = State(messages=[response])\n",
    "    return new_state\n",
    "\n",
    "graph_builder.add_node(\"chatbot\", chatbot_node)\n",
    "graph_builder.add_node(\"tools\", ToolNode(tools=tools)) \n",
    "\n",
    "# This is important. You are saying that \"tools\" is a special Tool Node, A Tool Node looks at the agent response from an agent and if the finish_reason is tool call, it will handle\n",
    "# the tool call for you. After that we must add an edge from the \"tools\" node back to the \"chatbot\" node."
   ]
  },
  {
   "cell_type": "code",
   "execution_count": null,
   "metadata": {},
   "outputs": [],
   "source": [
    "graph_builder.add_conditional_edges(\"chatbot\", tools_condition, \"tools\")\n",
    "\n",
    "graph_builder.add_edge(\"tools\", \"chatbot\")\n",
    "graph_builder.add_edge(START, \"chatbot\")\n",
    "graph_builder.add_edge(\"chatbot\", END) # this is anyway added implicitly by langgraph."
   ]
  },
  {
   "cell_type": "code",
   "execution_count": null,
   "metadata": {},
   "outputs": [],
   "source": [
    "graph = graph_builder.compile()\n",
    "display(Image(graph.get_graph().draw_mermaid_png()))"
   ]
  },
  {
   "cell_type": "code",
   "execution_count": null,
   "metadata": {},
   "outputs": [],
   "source": [
    "def chat(user_input: str, history):\n",
    "    message = {\"role\": \"user\", \"content\": user_input} # this is the message we will give to the graph.\n",
    "    messages = [message]\n",
    "    state = State(messages=messages)\n",
    "    result = graph.invoke(state)\n",
    "    return result[\"messages\"][-1].content\n",
    "\n",
    "gr.ChatInterface(chat, type=\"messages\").launch()\n",
    "\n",
    "# Ask the agent to send you a push notification with the current USD/GBP exchange rate."
   ]
  },
  {
   "cell_type": "markdown",
   "metadata": {},
   "source": [
    "### Lets know discuss Memory. We have a class MemorySaver in langgraph.checkpoint.memory module for holding data in memory (i.e. in RAM, not a DB or file or anything). We can use this memory object across multiple iterations (super steps) of our graph. The best point of langgraph is that it allows you to get the state of your graph at any point in history and continue a new invocation of the graph from that point. Langgraph officially calls it time travel. Lets see it in action."
   ]
  },
  {
   "cell_type": "code",
   "execution_count": 18,
   "metadata": {},
   "outputs": [],
   "source": [
    "from langgraph.checkpoint.memory import MemorySaver"
   ]
  },
  {
   "cell_type": "code",
   "execution_count": 19,
   "metadata": {},
   "outputs": [],
   "source": [
    "memory = MemorySaver()"
   ]
  },
  {
   "cell_type": "code",
   "execution_count": 20,
   "metadata": {},
   "outputs": [
    {
     "data": {
      "image/png": "[encoded data removed]",
      "text/plain": [
       "<IPython.core.display.Image object>"
      ]
     },
     "metadata": {},
     "output_type": "display_data"
    }
   ],
   "source": [
    "# all the steps as before.\n",
    "# Steps 1 and 2\n",
    "graph_builder = StateGraph(State)\n",
    "\n",
    "# Step 3\n",
    "llm = ChatOpenAI(model=\"gpt-4o-mini\")\n",
    "llm_with_tools = llm.bind_tools(tools)\n",
    "\n",
    "def chatbot(state: State):\n",
    "    print(state)\n",
    "    return {\"messages\": [llm_with_tools.invoke(state[\"messages\"])]}\n",
    "\n",
    "graph_builder.add_node(\"chatbot\", chatbot)\n",
    "graph_builder.add_node(\"tools\", ToolNode(tools=tools))\n",
    "\n",
    "# Step 4\n",
    "graph_builder.add_conditional_edges( \"chatbot\", tools_condition, \"tools\")\n",
    "graph_builder.add_edge(\"tools\", \"chatbot\")\n",
    "graph_builder.add_edge(START, \"chatbot\")\n",
    "\n",
    "# Step 5\n",
    "graph = graph_builder.compile(checkpointer=memory) # Note the change here.\n",
    "display(Image(graph.get_graph().draw_mermaid_png()))"
   ]
  },
  {
   "cell_type": "code",
   "execution_count": 21,
   "metadata": {},
   "outputs": [
    {
     "name": "stdout",
     "output_type": "stream",
     "text": [
      "* Running on local URL:  http://127.0.0.1:7861\n",
      "* To create a public link, set `share=True` in `launch()`.\n"
     ]
    },
    {
     "data": {
      "text/html": [
       "<div><iframe src=\"http://127.0.0.1:7861/\" width=\"100%\" height=\"500\" allow=\"autoplay; camera; microphone; clipboard-read; clipboard-write;\" frameborder=\"0\" allowfullscreen></iframe></div>"
      ],
      "text/plain": [
       "<IPython.core.display.HTML object>"
      ]
     },
     "metadata": {},
     "output_type": "display_data"
    },
    {
     "data": {
      "text/plain": []
     },
     "execution_count": 21,
     "metadata": {},
     "output_type": "execute_result"
    },
    {
     "name": "stdout",
     "output_type": "stream",
     "text": [
      "{'messages': [HumanMessage(content='Hi there!', additional_kwargs={}, response_metadata={}, id='778ca37e-cbbd-4d18-ba54-dc05050077bd')]}\n",
      "{'messages': [HumanMessage(content='Hi there!', additional_kwargs={}, response_metadata={}, id='778ca37e-cbbd-4d18-ba54-dc05050077bd'), AIMessage(content='Hello! How can I assist you today?', additional_kwargs={'refusal': None}, response_metadata={'token_usage': {'completion_tokens': 10, 'prompt_tokens': 90, 'total_tokens': 100, 'completion_tokens_details': {'accepted_prediction_tokens': 0, 'audio_tokens': 0, 'reasoning_tokens': 0, 'rejected_prediction_tokens': 0}, 'prompt_tokens_details': {'audio_tokens': 0, 'cached_tokens': 0}}, 'model_name': 'gpt-4o-mini-2024-07-18', 'system_fingerprint': 'fp_34a54ae93c', 'id': 'chatcmpl-BltgqP2jnHEuGaH0G6ans1mF7aE8B', 'service_tier': 'default', 'finish_reason': 'stop', 'logprobs': None}, id='run--271c8f3d-fe34-4eff-b34f-b1f972fce422-0', usage_metadata={'input_tokens': 90, 'output_tokens': 10, 'total_tokens': 100, 'input_token_details': {'audio': 0, 'cache_read': 0}, 'output_token_details': {'audio': 0, 'reasoning': 0}}), HumanMessage(content='My name is Rajat.', additional_kwargs={}, response_metadata={}, id='389c1114-c138-4b85-b2c9-518364871378')]}\n"
     ]
    }
   ],
   "source": [
    "config = {\"configurable\": {\"thread_id\": \"1\"}} # config is a dictionary of configurable fields. example thread_id is a configurable field.\n",
    "# thread_id means the thread id of the conversation. not a system thread id. so thread_id 1 and 2 are different conversations.\n",
    "\n",
    "def chat(user_input: str, history):\n",
    "    result = graph.invoke({\"messages\": [{\"role\": \"user\", \"content\": user_input}]}, config=config)\n",
    "    return result[\"messages\"][-1].content\n",
    "\n",
    "\n",
    "gr.ChatInterface(chat, type=\"messages\").launch()"
   ]
  },
  {
   "cell_type": "code",
   "execution_count": 23,
   "metadata": {},
   "outputs": [
    {
     "data": {
      "text/plain": [
       "StateSnapshot(values={'messages': [HumanMessage(content='Hi there!', additional_kwargs={}, response_metadata={}, id='778ca37e-cbbd-4d18-ba54-dc05050077bd'), AIMessage(content='Hello! How can I assist you today?', additional_kwargs={'refusal': None}, response_metadata={'token_usage': {'completion_tokens': 10, 'prompt_tokens': 90, 'total_tokens': 100, 'completion_tokens_details': {'accepted_prediction_tokens': 0, 'audio_tokens': 0, 'reasoning_tokens': 0, 'rejected_prediction_tokens': 0}, 'prompt_tokens_details': {'audio_tokens': 0, 'cached_tokens': 0}}, 'model_name': 'gpt-4o-mini-2024-07-18', 'system_fingerprint': 'fp_34a54ae93c', 'id': 'chatcmpl-BltgqP2jnHEuGaH0G6ans1mF7aE8B', 'service_tier': 'default', 'finish_reason': 'stop', 'logprobs': None}, id='run--271c8f3d-fe34-4eff-b34f-b1f972fce422-0', usage_metadata={'input_tokens': 90, 'output_tokens': 10, 'total_tokens': 100, 'input_token_details': {'audio': 0, 'cache_read': 0}, 'output_token_details': {'audio': 0, 'reasoning': 0}}), HumanMessage(content='My name is Rajat.', additional_kwargs={}, response_metadata={}, id='389c1114-c138-4b85-b2c9-518364871378'), AIMessage(content='Nice to meet you, Rajat! How can I help you today?', additional_kwargs={'refusal': None}, response_metadata={'token_usage': {'completion_tokens': 16, 'prompt_tokens': 113, 'total_tokens': 129, 'completion_tokens_details': {'accepted_prediction_tokens': 0, 'audio_tokens': 0, 'reasoning_tokens': 0, 'rejected_prediction_tokens': 0}, 'prompt_tokens_details': {'audio_tokens': 0, 'cached_tokens': 0}}, 'model_name': 'gpt-4o-mini-2024-07-18', 'system_fingerprint': 'fp_34a54ae93c', 'id': 'chatcmpl-BlthvMgLLqFhGuhKJLbNTwmaFqaC6', 'service_tier': 'default', 'finish_reason': 'stop', 'logprobs': None}, id='run--b9d8a68b-eaf6-466d-832d-e3446a24a52d-0', usage_metadata={'input_tokens': 113, 'output_tokens': 16, 'total_tokens': 129, 'input_token_details': {'audio': 0, 'cache_read': 0}, 'output_token_details': {'audio': 0, 'reasoning': 0}})]}, next=(), config={'configurable': {'thread_id': '1', 'checkpoint_ns': '', 'checkpoint_id': '1f050d8c-ebdc-6778-8004-c20a48c62c58'}}, metadata={'source': 'loop', 'writes': {'chatbot': {'messages': [AIMessage(content='Nice to meet you, Rajat! How can I help you today?', additional_kwargs={'refusal': None}, response_metadata={'token_usage': {'completion_tokens': 16, 'prompt_tokens': 113, 'total_tokens': 129, 'completion_tokens_details': {'accepted_prediction_tokens': 0, 'audio_tokens': 0, 'reasoning_tokens': 0, 'rejected_prediction_tokens': 0}, 'prompt_tokens_details': {'audio_tokens': 0, 'cached_tokens': 0}}, 'model_name': 'gpt-4o-mini-2024-07-18', 'system_fingerprint': 'fp_34a54ae93c', 'id': 'chatcmpl-BlthvMgLLqFhGuhKJLbNTwmaFqaC6', 'service_tier': 'default', 'finish_reason': 'stop', 'logprobs': None}, id='run--b9d8a68b-eaf6-466d-832d-e3446a24a52d-0', usage_metadata={'input_tokens': 113, 'output_tokens': 16, 'total_tokens': 129, 'input_token_details': {'audio': 0, 'cache_read': 0}, 'output_token_details': {'audio': 0, 'reasoning': 0}})]}}, 'step': 4, 'parents': {}, 'thread_id': '1'}, created_at='2025-06-24T08:54:16.018710+00:00', parent_config={'configurable': {'thread_id': '1', 'checkpoint_ns': '', 'checkpoint_id': '1f050d8c-de0c-62b6-8003-cd8392c1a43a'}}, tasks=(), interrupts=())"
      ]
     },
     "execution_count": 23,
     "metadata": {},
     "output_type": "execute_result"
    }
   ],
   "source": [
    "graph.get_state(config)"
   ]
  },
  {
   "cell_type": "code",
   "execution_count": 25,
   "metadata": {},
   "outputs": [
    {
     "data": {
      "text/plain": [
       "[StateSnapshot(values={'messages': [HumanMessage(content='Hi there!', additional_kwargs={}, response_metadata={}, id='778ca37e-cbbd-4d18-ba54-dc05050077bd'), AIMessage(content='Hello! How can I assist you today?', additional_kwargs={'refusal': None}, response_metadata={'token_usage': {'completion_tokens': 10, 'prompt_tokens': 90, 'total_tokens': 100, 'completion_tokens_details': {'accepted_prediction_tokens': 0, 'audio_tokens': 0, 'reasoning_tokens': 0, 'rejected_prediction_tokens': 0}, 'prompt_tokens_details': {'audio_tokens': 0, 'cached_tokens': 0}}, 'model_name': 'gpt-4o-mini-2024-07-18', 'system_fingerprint': 'fp_34a54ae93c', 'id': 'chatcmpl-BltgqP2jnHEuGaH0G6ans1mF7aE8B', 'service_tier': 'default', 'finish_reason': 'stop', 'logprobs': None}, id='run--271c8f3d-fe34-4eff-b34f-b1f972fce422-0', usage_metadata={'input_tokens': 90, 'output_tokens': 10, 'total_tokens': 100, 'input_token_details': {'audio': 0, 'cache_read': 0}, 'output_token_details': {'audio': 0, 'reasoning': 0}}), HumanMessage(content='My name is Rajat.', additional_kwargs={}, response_metadata={}, id='389c1114-c138-4b85-b2c9-518364871378'), AIMessage(content='Nice to meet you, Rajat! How can I help you today?', additional_kwargs={'refusal': None}, response_metadata={'token_usage': {'completion_tokens': 16, 'prompt_tokens': 113, 'total_tokens': 129, 'completion_tokens_details': {'accepted_prediction_tokens': 0, 'audio_tokens': 0, 'reasoning_tokens': 0, 'rejected_prediction_tokens': 0}, 'prompt_tokens_details': {'audio_tokens': 0, 'cached_tokens': 0}}, 'model_name': 'gpt-4o-mini-2024-07-18', 'system_fingerprint': 'fp_34a54ae93c', 'id': 'chatcmpl-BlthvMgLLqFhGuhKJLbNTwmaFqaC6', 'service_tier': 'default', 'finish_reason': 'stop', 'logprobs': None}, id='run--b9d8a68b-eaf6-466d-832d-e3446a24a52d-0', usage_metadata={'input_tokens': 113, 'output_tokens': 16, 'total_tokens': 129, 'input_token_details': {'audio': 0, 'cache_read': 0}, 'output_token_details': {'audio': 0, 'reasoning': 0}})]}, next=(), config={'configurable': {'thread_id': '1', 'checkpoint_ns': '', 'checkpoint_id': '1f050d8c-ebdc-6778-8004-c20a48c62c58'}}, metadata={'source': 'loop', 'writes': {'chatbot': {'messages': [AIMessage(content='Nice to meet you, Rajat! How can I help you today?', additional_kwargs={'refusal': None}, response_metadata={'token_usage': {'completion_tokens': 16, 'prompt_tokens': 113, 'total_tokens': 129, 'completion_tokens_details': {'accepted_prediction_tokens': 0, 'audio_tokens': 0, 'reasoning_tokens': 0, 'rejected_prediction_tokens': 0}, 'prompt_tokens_details': {'audio_tokens': 0, 'cached_tokens': 0}}, 'model_name': 'gpt-4o-mini-2024-07-18', 'system_fingerprint': 'fp_34a54ae93c', 'id': 'chatcmpl-BlthvMgLLqFhGuhKJLbNTwmaFqaC6', 'service_tier': 'default', 'finish_reason': 'stop', 'logprobs': None}, id='run--b9d8a68b-eaf6-466d-832d-e3446a24a52d-0', usage_metadata={'input_tokens': 113, 'output_tokens': 16, 'total_tokens': 129, 'input_token_details': {'audio': 0, 'cache_read': 0}, 'output_token_details': {'audio': 0, 'reasoning': 0}})]}}, 'step': 4, 'parents': {}, 'thread_id': '1'}, created_at='2025-06-24T08:54:16.018710+00:00', parent_config={'configurable': {'thread_id': '1', 'checkpoint_ns': '', 'checkpoint_id': '1f050d8c-de0c-62b6-8003-cd8392c1a43a'}}, tasks=(), interrupts=()),\n",
       " StateSnapshot(values={'messages': [HumanMessage(content='Hi there!', additional_kwargs={}, response_metadata={}, id='778ca37e-cbbd-4d18-ba54-dc05050077bd'), AIMessage(content='Hello! How can I assist you today?', additional_kwargs={'refusal': None}, response_metadata={'token_usage': {'completion_tokens': 10, 'prompt_tokens': 90, 'total_tokens': 100, 'completion_tokens_details': {'accepted_prediction_tokens': 0, 'audio_tokens': 0, 'reasoning_tokens': 0, 'rejected_prediction_tokens': 0}, 'prompt_tokens_details': {'audio_tokens': 0, 'cached_tokens': 0}}, 'model_name': 'gpt-4o-mini-2024-07-18', 'system_fingerprint': 'fp_34a54ae93c', 'id': 'chatcmpl-BltgqP2jnHEuGaH0G6ans1mF7aE8B', 'service_tier': 'default', 'finish_reason': 'stop', 'logprobs': None}, id='run--271c8f3d-fe34-4eff-b34f-b1f972fce422-0', usage_metadata={'input_tokens': 90, 'output_tokens': 10, 'total_tokens': 100, 'input_token_details': {'audio': 0, 'cache_read': 0}, 'output_token_details': {'audio': 0, 'reasoning': 0}}), HumanMessage(content='My name is Rajat.', additional_kwargs={}, response_metadata={}, id='389c1114-c138-4b85-b2c9-518364871378')]}, next=('chatbot',), config={'configurable': {'thread_id': '1', 'checkpoint_ns': '', 'checkpoint_id': '1f050d8c-de0c-62b6-8003-cd8392c1a43a'}}, metadata={'source': 'loop', 'writes': None, 'step': 3, 'parents': {}, 'thread_id': '1'}, created_at='2025-06-24T08:54:14.570232+00:00', parent_config={'configurable': {'thread_id': '1', 'checkpoint_ns': '', 'checkpoint_id': '1f050d8c-de08-6cf1-8002-21d29267f84f'}}, tasks=(PregelTask(id='bd520c99-4a73-8bf5-8919-33470280be2a', name='chatbot', path=('__pregel_pull', 'chatbot'), error=None, interrupts=(), state=None, result={'messages': [AIMessage(content='Nice to meet you, Rajat! How can I help you today?', additional_kwargs={'refusal': None}, response_metadata={'token_usage': {'completion_tokens': 16, 'prompt_tokens': 113, 'total_tokens': 129, 'completion_tokens_details': {'accepted_prediction_tokens': 0, 'audio_tokens': 0, 'reasoning_tokens': 0, 'rejected_prediction_tokens': 0}, 'prompt_tokens_details': {'audio_tokens': 0, 'cached_tokens': 0}}, 'model_name': 'gpt-4o-mini-2024-07-18', 'system_fingerprint': 'fp_34a54ae93c', 'id': 'chatcmpl-BlthvMgLLqFhGuhKJLbNTwmaFqaC6', 'service_tier': 'default', 'finish_reason': 'stop', 'logprobs': None}, id='run--b9d8a68b-eaf6-466d-832d-e3446a24a52d-0', usage_metadata={'input_tokens': 113, 'output_tokens': 16, 'total_tokens': 129, 'input_token_details': {'audio': 0, 'cache_read': 0}, 'output_token_details': {'audio': 0, 'reasoning': 0}})]}),), interrupts=()),\n",
       " StateSnapshot(values={'messages': [HumanMessage(content='Hi there!', additional_kwargs={}, response_metadata={}, id='778ca37e-cbbd-4d18-ba54-dc05050077bd'), AIMessage(content='Hello! How can I assist you today?', additional_kwargs={'refusal': None}, response_metadata={'token_usage': {'completion_tokens': 10, 'prompt_tokens': 90, 'total_tokens': 100, 'completion_tokens_details': {'accepted_prediction_tokens': 0, 'audio_tokens': 0, 'reasoning_tokens': 0, 'rejected_prediction_tokens': 0}, 'prompt_tokens_details': {'audio_tokens': 0, 'cached_tokens': 0}}, 'model_name': 'gpt-4o-mini-2024-07-18', 'system_fingerprint': 'fp_34a54ae93c', 'id': 'chatcmpl-BltgqP2jnHEuGaH0G6ans1mF7aE8B', 'service_tier': 'default', 'finish_reason': 'stop', 'logprobs': None}, id='run--271c8f3d-fe34-4eff-b34f-b1f972fce422-0', usage_metadata={'input_tokens': 90, 'output_tokens': 10, 'total_tokens': 100, 'input_token_details': {'audio': 0, 'cache_read': 0}, 'output_token_details': {'audio': 0, 'reasoning': 0}})]}, next=('__start__',), config={'configurable': {'thread_id': '1', 'checkpoint_ns': '', 'checkpoint_id': '1f050d8c-de08-6cf1-8002-21d29267f84f'}}, metadata={'source': 'input', 'writes': {'__start__': {'messages': [{'role': 'user', 'content': 'My name is Rajat.'}]}}, 'step': 2, 'parents': {}, 'thread_id': '1'}, created_at='2025-06-24T08:54:14.568848+00:00', parent_config={'configurable': {'thread_id': '1', 'checkpoint_ns': '', 'checkpoint_id': '1f050d8a-714c-64f6-8001-2e2822718fcb'}}, tasks=(PregelTask(id='c272979e-2436-a460-67b9-8c7ebd646e23', name='__start__', path=('__pregel_pull', '__start__'), error=None, interrupts=(), state=None, result={'messages': [{'role': 'user', 'content': 'My name is Rajat.'}]}),), interrupts=()),\n",
       " StateSnapshot(values={'messages': [HumanMessage(content='Hi there!', additional_kwargs={}, response_metadata={}, id='778ca37e-cbbd-4d18-ba54-dc05050077bd'), AIMessage(content='Hello! How can I assist you today?', additional_kwargs={'refusal': None}, response_metadata={'token_usage': {'completion_tokens': 10, 'prompt_tokens': 90, 'total_tokens': 100, 'completion_tokens_details': {'accepted_prediction_tokens': 0, 'audio_tokens': 0, 'reasoning_tokens': 0, 'rejected_prediction_tokens': 0}, 'prompt_tokens_details': {'audio_tokens': 0, 'cached_tokens': 0}}, 'model_name': 'gpt-4o-mini-2024-07-18', 'system_fingerprint': 'fp_34a54ae93c', 'id': 'chatcmpl-BltgqP2jnHEuGaH0G6ans1mF7aE8B', 'service_tier': 'default', 'finish_reason': 'stop', 'logprobs': None}, id='run--271c8f3d-fe34-4eff-b34f-b1f972fce422-0', usage_metadata={'input_tokens': 90, 'output_tokens': 10, 'total_tokens': 100, 'input_token_details': {'audio': 0, 'cache_read': 0}, 'output_token_details': {'audio': 0, 'reasoning': 0}})]}, next=(), config={'configurable': {'thread_id': '1', 'checkpoint_ns': '', 'checkpoint_id': '1f050d8a-714c-64f6-8001-2e2822718fcb'}}, metadata={'source': 'loop', 'writes': {'chatbot': {'messages': [AIMessage(content='Hello! How can I assist you today?', additional_kwargs={'refusal': None}, response_metadata={'token_usage': {'completion_tokens': 10, 'prompt_tokens': 90, 'total_tokens': 100, 'completion_tokens_details': {'accepted_prediction_tokens': 0, 'audio_tokens': 0, 'reasoning_tokens': 0, 'rejected_prediction_tokens': 0}, 'prompt_tokens_details': {'audio_tokens': 0, 'cached_tokens': 0}}, 'model_name': 'gpt-4o-mini-2024-07-18', 'system_fingerprint': 'fp_34a54ae93c', 'id': 'chatcmpl-BltgqP2jnHEuGaH0G6ans1mF7aE8B', 'service_tier': 'default', 'finish_reason': 'stop', 'logprobs': None}, id='run--271c8f3d-fe34-4eff-b34f-b1f972fce422-0', usage_metadata={'input_tokens': 90, 'output_tokens': 10, 'total_tokens': 100, 'input_token_details': {'audio': 0, 'cache_read': 0}, 'output_token_details': {'audio': 0, 'reasoning': 0}})]}}, 'step': 1, 'parents': {}, 'thread_id': '1'}, created_at='2025-06-24T08:53:09.479952+00:00', parent_config={'configurable': {'thread_id': '1', 'checkpoint_ns': '', 'checkpoint_id': '1f050d8a-5bb9-63be-8000-a6779f1fcdf1'}}, tasks=(), interrupts=()),\n",
       " StateSnapshot(values={'messages': [HumanMessage(content='Hi there!', additional_kwargs={}, response_metadata={}, id='778ca37e-cbbd-4d18-ba54-dc05050077bd')]}, next=('chatbot',), config={'configurable': {'thread_id': '1', 'checkpoint_ns': '', 'checkpoint_id': '1f050d8a-5bb9-63be-8000-a6779f1fcdf1'}}, metadata={'source': 'loop', 'writes': None, 'step': 0, 'parents': {}, 'thread_id': '1'}, created_at='2025-06-24T08:53:07.217695+00:00', parent_config={'configurable': {'thread_id': '1', 'checkpoint_ns': '', 'checkpoint_id': '1f050d8a-5bb5-6fe9-bfff-0bb556de3abb'}}, tasks=(PregelTask(id='904cf898-542d-4fc1-11ba-7ca12b0af9d6', name='chatbot', path=('__pregel_pull', 'chatbot'), error=None, interrupts=(), state=None, result={'messages': [AIMessage(content='Hello! How can I assist you today?', additional_kwargs={'refusal': None}, response_metadata={'token_usage': {'completion_tokens': 10, 'prompt_tokens': 90, 'total_tokens': 100, 'completion_tokens_details': {'accepted_prediction_tokens': 0, 'audio_tokens': 0, 'reasoning_tokens': 0, 'rejected_prediction_tokens': 0}, 'prompt_tokens_details': {'audio_tokens': 0, 'cached_tokens': 0}}, 'model_name': 'gpt-4o-mini-2024-07-18', 'system_fingerprint': 'fp_34a54ae93c', 'id': 'chatcmpl-BltgqP2jnHEuGaH0G6ans1mF7aE8B', 'service_tier': 'default', 'finish_reason': 'stop', 'logprobs': None}, id='run--271c8f3d-fe34-4eff-b34f-b1f972fce422-0', usage_metadata={'input_tokens': 90, 'output_tokens': 10, 'total_tokens': 100, 'input_token_details': {'audio': 0, 'cache_read': 0}, 'output_token_details': {'audio': 0, 'reasoning': 0}})]}),), interrupts=()),\n",
       " StateSnapshot(values={'messages': []}, next=('__start__',), config={'configurable': {'thread_id': '1', 'checkpoint_ns': '', 'checkpoint_id': '1f050d8a-5bb5-6fe9-bfff-0bb556de3abb'}}, metadata={'source': 'input', 'writes': {'__start__': {'messages': [{'role': 'user', 'content': 'Hi there!'}]}}, 'step': -1, 'parents': {}, 'thread_id': '1'}, created_at='2025-06-24T08:53:07.216371+00:00', parent_config=None, tasks=(PregelTask(id='0f65d279-7a92-cbc2-a728-1ecfe431d29f', name='__start__', path=('__pregel_pull', '__start__'), error=None, interrupts=(), state=None, result={'messages': [{'role': 'user', 'content': 'Hi there!'}]}),), interrupts=())]"
      ]
     },
     "execution_count": 25,
     "metadata": {},
     "output_type": "execute_result"
    }
   ],
   "source": [
    "list(graph.get_state_history(config))"
   ]
  },
  {
   "cell_type": "markdown",
   "metadata": {},
   "source": [
    "### LangGraph gives you tools to set the state back to a prior point in time, to branch off:\n",
    "\n",
    "```\n",
    "config = {\"configurable\": {\"thread_id\": \"1\", \"checkpoint_id\": ...}}\n",
    "graph.invoke(None, config=config)\n",
    "```\n",
    "\n",
    "And this allows you to build stable systems that can be recovered and rerun from any prior checkpoint."
   ]
  },
  {
   "cell_type": "code",
   "execution_count": 26,
   "metadata": {},
   "outputs": [],
   "source": [
    "# Now we will use to store memory to Sqlite3 database. instead of memory.\n",
    "# the interface is really consistent.\n",
    "import sqlite3\n",
    "from langgraph.checkpoint.sqlite import SqliteSaver\n",
    "\n",
    "db_path=\"memory.db\"\n",
    "conn = sqlite3.connect(db_path, check_same_thread=False)\n",
    "sql_memory = SqliteSaver(conn)"
   ]
  },
  {
   "cell_type": "code",
   "execution_count": 27,
   "metadata": {},
   "outputs": [
    {
     "data": {
      "image/png": "[encoded data removed]",
      "text/plain": [
       "<IPython.core.display.Image object>"
      ]
     },
     "metadata": {},
     "output_type": "display_data"
    }
   ],
   "source": [
    "# Steps 1 and 2, exactly same as before.\n",
    "graph_builder = StateGraph(State)\n",
    "\n",
    "# Step 3\n",
    "llm = ChatOpenAI(model=\"gpt-4o-mini\")\n",
    "llm_with_tools = llm.bind_tools(tools)\n",
    "\n",
    "def chatbot(state: State):\n",
    "    print(state)\n",
    "    return {\"messages\": [llm_with_tools.invoke(state[\"messages\"])]}\n",
    "\n",
    "graph_builder.add_node(\"chatbot\", chatbot)\n",
    "graph_builder.add_node(\"tools\", ToolNode(tools=tools))\n",
    "\n",
    "# Step 4\n",
    "graph_builder.add_conditional_edges( \"chatbot\", tools_condition, \"tools\")\n",
    "graph_builder.add_edge(\"tools\", \"chatbot\")\n",
    "graph_builder.add_edge(START, \"chatbot\")\n",
    "\n",
    "# Step 5\n",
    "graph = graph_builder.compile(checkpointer=sql_memory)\n",
    "display(Image(graph.get_graph().draw_mermaid_png()))\n",
    " "
   ]
  },
  {
   "cell_type": "code",
   "execution_count": 28,
   "metadata": {},
   "outputs": [
    {
     "name": "stdout",
     "output_type": "stream",
     "text": [
      "* Running on local URL:  http://127.0.0.1:7862\n",
      "* To create a public link, set `share=True` in `launch()`.\n"
     ]
    },
    {
     "data": {
      "text/html": [
       "<div><iframe src=\"http://127.0.0.1:7862/\" width=\"100%\" height=\"500\" allow=\"autoplay; camera; microphone; clipboard-read; clipboard-write;\" frameborder=\"0\" allowfullscreen></iframe></div>"
      ],
      "text/plain": [
       "<IPython.core.display.HTML object>"
      ]
     },
     "metadata": {},
     "output_type": "display_data"
    },
    {
     "data": {
      "text/plain": []
     },
     "execution_count": 28,
     "metadata": {},
     "output_type": "execute_result"
    }
   ],
   "source": [
    "config = {\"configurable\": {\"thread_id\": \"3\"}}\n",
    "\n",
    "def chat(user_input: str, history):\n",
    "    result = graph.invoke({\"messages\": [{\"role\": \"user\", \"content\": user_input}]}, config=config)\n",
    "    return result[\"messages\"][-1].content\n",
    "\n",
    "\n",
    "gr.ChatInterface(chat, type=\"messages\").launch()\n",
    "\n",
    "# try to use memory and tools both (like asking for an exchange rate and sending the rate as a push notification)"
   ]
  }
 ],
 "metadata": {
  "kernelspec": {
   "display_name": ".venv",
   "language": "python",
   "name": "python3"
  },
  "language_info": {
   "codemirror_mode": {
    "name": "ipython",
    "version": 3
   },
   "file_extension": ".py",
   "mimetype": "text/x-python",
   "name": "python",
   "nbconvert_exporter": "python",
   "pygments_lexer": "ipython3",
   "version": "3.12.3"
  }
 },
 "nbformat": 4,
 "nbformat_minor": 2
}
